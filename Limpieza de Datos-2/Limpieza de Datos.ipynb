{
 "cells": [
  {
   "cell_type": "code",
   "execution_count": 168,
   "metadata": {},
   "outputs": [
    {
     "name": "stdout",
     "output_type": "stream",
     "text": [
      "   periodo estu_tipodocumento  estu_consecutivo cole_area_ubicacion  \\\n",
      "0    20224                 TI  SB11202240221646              URBANO   \n",
      "1    20224                 TI  SB11202240133463              URBANO   \n",
      "2    20224                 TI  SB11202240405789              URBANO   \n",
      "3    20224                 TI  SB11202240413516              URBANO   \n",
      "4    20224                 TI  SB11202240280980              URBANO   \n",
      "\n",
      "  cole_bilingue cole_calendario      cole_caracter  \\\n",
      "0             N               A  TÉCNICO/ACADÉMICO   \n",
      "1             N               A            TÉCNICO   \n",
      "2           NaN               A          ACADÉMICO   \n",
      "3             N               A          ACADÉMICO   \n",
      "4             N               A  TÉCNICO/ACADÉMICO   \n",
      "\n",
      "  cole_cod_dane_establecimiento cole_cod_dane_sede  cole_cod_depto_ubicacion  \\\n",
      "0                   1,17174E+11        1,17174E+11                        17   \n",
      "1                   1,17001E+11        1,17001E+11                        17   \n",
      "2                   3,17001E+11        3,17001E+11                        17   \n",
      "3                   1,17388E+11        1,17388E+11                        17   \n",
      "4                   1,17614E+11        1,17614E+11                        17   \n",
      "\n",
      "   ...  fami_tienecomputador  fami_tieneinternet fami_tienelavadora  \\\n",
      "0  ...                    Si                  Si                 Si   \n",
      "1  ...                    Si                  Si                 Si   \n",
      "2  ...                    Si                  Si                 Si   \n",
      "3  ...                    No                  No                 Si   \n",
      "4  ...                    No                  No                 Si   \n",
      "\n",
      "  desemp_ingles punt_ingles punt_matematicas punt_sociales_ciudadanas  \\\n",
      "0            A-        38.0             55.0                     63.0   \n",
      "1            B1        71.0             61.0                     66.0   \n",
      "2            B1        68.0             38.0                     43.0   \n",
      "3            A-        36.0             34.0                     31.0   \n",
      "4            A-        40.0             48.0                     36.0   \n",
      "\n",
      "  punt_c_naturales punt_lectura_critica punt_global  \n",
      "0             62.0                 61.0       293.0  \n",
      "1             67.0                 69.0       331.0  \n",
      "2             48.0                 53.0       236.0  \n",
      "3             39.0                 40.0       180.0  \n",
      "4             38.0                 54.0       218.0  \n",
      "\n",
      "[5 rows x 51 columns]\n"
     ]
    }
   ],
   "source": [
    "import pandas as pd\n",
    "\n",
    "# Cargar el archivo CSV especificando el delimitador ';'\n",
    "df = pd.read_csv('08f083d4-e0ca-48ce-a017-c2e680f43b6e.csv', delimiter=';', encoding='utf-8')\n",
    "\n",
    "# Verificar las primeras filas para asegurarte de que se cargó correctamente\n",
    "print(df.head())"
   ]
  },
  {
   "cell_type": "code",
   "execution_count": 169,
   "metadata": {},
   "outputs": [
    {
     "data": {
      "text/html": [
       "<div>\n",
       "<style scoped>\n",
       "    .dataframe tbody tr th:only-of-type {\n",
       "        vertical-align: middle;\n",
       "    }\n",
       "\n",
       "    .dataframe tbody tr th {\n",
       "        vertical-align: top;\n",
       "    }\n",
       "\n",
       "    .dataframe thead th {\n",
       "        text-align: right;\n",
       "    }\n",
       "</style>\n",
       "<table border=\"1\" class=\"dataframe\">\n",
       "  <thead>\n",
       "    <tr style=\"text-align: right;\">\n",
       "      <th></th>\n",
       "      <th>periodo</th>\n",
       "      <th>estu_tipodocumento</th>\n",
       "      <th>estu_consecutivo</th>\n",
       "      <th>cole_area_ubicacion</th>\n",
       "      <th>cole_bilingue</th>\n",
       "      <th>cole_calendario</th>\n",
       "      <th>cole_caracter</th>\n",
       "      <th>cole_cod_dane_establecimiento</th>\n",
       "      <th>cole_cod_dane_sede</th>\n",
       "      <th>cole_cod_depto_ubicacion</th>\n",
       "      <th>...</th>\n",
       "      <th>fami_tienecomputador</th>\n",
       "      <th>fami_tieneinternet</th>\n",
       "      <th>fami_tienelavadora</th>\n",
       "      <th>desemp_ingles</th>\n",
       "      <th>punt_ingles</th>\n",
       "      <th>punt_matematicas</th>\n",
       "      <th>punt_sociales_ciudadanas</th>\n",
       "      <th>punt_c_naturales</th>\n",
       "      <th>punt_lectura_critica</th>\n",
       "      <th>punt_global</th>\n",
       "    </tr>\n",
       "  </thead>\n",
       "  <tbody>\n",
       "    <tr>\n",
       "      <th>0</th>\n",
       "      <td>20224</td>\n",
       "      <td>TI</td>\n",
       "      <td>SB11202240221646</td>\n",
       "      <td>URBANO</td>\n",
       "      <td>N</td>\n",
       "      <td>A</td>\n",
       "      <td>TÉCNICO/ACADÉMICO</td>\n",
       "      <td>1,17174E+11</td>\n",
       "      <td>1,17174E+11</td>\n",
       "      <td>17</td>\n",
       "      <td>...</td>\n",
       "      <td>Si</td>\n",
       "      <td>Si</td>\n",
       "      <td>Si</td>\n",
       "      <td>A-</td>\n",
       "      <td>38.0</td>\n",
       "      <td>55.0</td>\n",
       "      <td>63.0</td>\n",
       "      <td>62.0</td>\n",
       "      <td>61.0</td>\n",
       "      <td>293.0</td>\n",
       "    </tr>\n",
       "    <tr>\n",
       "      <th>1</th>\n",
       "      <td>20224</td>\n",
       "      <td>TI</td>\n",
       "      <td>SB11202240133463</td>\n",
       "      <td>URBANO</td>\n",
       "      <td>N</td>\n",
       "      <td>A</td>\n",
       "      <td>TÉCNICO</td>\n",
       "      <td>1,17001E+11</td>\n",
       "      <td>1,17001E+11</td>\n",
       "      <td>17</td>\n",
       "      <td>...</td>\n",
       "      <td>Si</td>\n",
       "      <td>Si</td>\n",
       "      <td>Si</td>\n",
       "      <td>B1</td>\n",
       "      <td>71.0</td>\n",
       "      <td>61.0</td>\n",
       "      <td>66.0</td>\n",
       "      <td>67.0</td>\n",
       "      <td>69.0</td>\n",
       "      <td>331.0</td>\n",
       "    </tr>\n",
       "    <tr>\n",
       "      <th>2</th>\n",
       "      <td>20224</td>\n",
       "      <td>TI</td>\n",
       "      <td>SB11202240405789</td>\n",
       "      <td>URBANO</td>\n",
       "      <td>NaN</td>\n",
       "      <td>A</td>\n",
       "      <td>ACADÉMICO</td>\n",
       "      <td>3,17001E+11</td>\n",
       "      <td>3,17001E+11</td>\n",
       "      <td>17</td>\n",
       "      <td>...</td>\n",
       "      <td>Si</td>\n",
       "      <td>Si</td>\n",
       "      <td>Si</td>\n",
       "      <td>B1</td>\n",
       "      <td>68.0</td>\n",
       "      <td>38.0</td>\n",
       "      <td>43.0</td>\n",
       "      <td>48.0</td>\n",
       "      <td>53.0</td>\n",
       "      <td>236.0</td>\n",
       "    </tr>\n",
       "    <tr>\n",
       "      <th>3</th>\n",
       "      <td>20224</td>\n",
       "      <td>TI</td>\n",
       "      <td>SB11202240413516</td>\n",
       "      <td>URBANO</td>\n",
       "      <td>N</td>\n",
       "      <td>A</td>\n",
       "      <td>ACADÉMICO</td>\n",
       "      <td>1,17388E+11</td>\n",
       "      <td>1,17388E+11</td>\n",
       "      <td>17</td>\n",
       "      <td>...</td>\n",
       "      <td>No</td>\n",
       "      <td>No</td>\n",
       "      <td>Si</td>\n",
       "      <td>A-</td>\n",
       "      <td>36.0</td>\n",
       "      <td>34.0</td>\n",
       "      <td>31.0</td>\n",
       "      <td>39.0</td>\n",
       "      <td>40.0</td>\n",
       "      <td>180.0</td>\n",
       "    </tr>\n",
       "    <tr>\n",
       "      <th>4</th>\n",
       "      <td>20224</td>\n",
       "      <td>TI</td>\n",
       "      <td>SB11202240280980</td>\n",
       "      <td>URBANO</td>\n",
       "      <td>N</td>\n",
       "      <td>A</td>\n",
       "      <td>TÉCNICO/ACADÉMICO</td>\n",
       "      <td>1,17614E+11</td>\n",
       "      <td>1,17614E+11</td>\n",
       "      <td>17</td>\n",
       "      <td>...</td>\n",
       "      <td>No</td>\n",
       "      <td>No</td>\n",
       "      <td>Si</td>\n",
       "      <td>A-</td>\n",
       "      <td>40.0</td>\n",
       "      <td>48.0</td>\n",
       "      <td>36.0</td>\n",
       "      <td>38.0</td>\n",
       "      <td>54.0</td>\n",
       "      <td>218.0</td>\n",
       "    </tr>\n",
       "    <tr>\n",
       "      <th>...</th>\n",
       "      <td>...</td>\n",
       "      <td>...</td>\n",
       "      <td>...</td>\n",
       "      <td>...</td>\n",
       "      <td>...</td>\n",
       "      <td>...</td>\n",
       "      <td>...</td>\n",
       "      <td>...</td>\n",
       "      <td>...</td>\n",
       "      <td>...</td>\n",
       "      <td>...</td>\n",
       "      <td>...</td>\n",
       "      <td>...</td>\n",
       "      <td>...</td>\n",
       "      <td>...</td>\n",
       "      <td>...</td>\n",
       "      <td>...</td>\n",
       "      <td>...</td>\n",
       "      <td>...</td>\n",
       "      <td>...</td>\n",
       "      <td>...</td>\n",
       "    </tr>\n",
       "    <tr>\n",
       "      <th>137567</th>\n",
       "      <td>20172</td>\n",
       "      <td>CC</td>\n",
       "      <td>SB11201720286102</td>\n",
       "      <td>RURAL</td>\n",
       "      <td>N</td>\n",
       "      <td>A</td>\n",
       "      <td>ACADÉMICO</td>\n",
       "      <td>2,17662E+11</td>\n",
       "      <td>2,17662E+11</td>\n",
       "      <td>17</td>\n",
       "      <td>...</td>\n",
       "      <td>No</td>\n",
       "      <td>NaN</td>\n",
       "      <td>No</td>\n",
       "      <td>A-</td>\n",
       "      <td>39.0</td>\n",
       "      <td>35.0</td>\n",
       "      <td>37.0</td>\n",
       "      <td>38.0</td>\n",
       "      <td>38.0</td>\n",
       "      <td>186.0</td>\n",
       "    </tr>\n",
       "    <tr>\n",
       "      <th>137568</th>\n",
       "      <td>20172</td>\n",
       "      <td>CC</td>\n",
       "      <td>SB11201720279599</td>\n",
       "      <td>URBANO</td>\n",
       "      <td>N</td>\n",
       "      <td>A</td>\n",
       "      <td>ACADÉMICO</td>\n",
       "      <td>1,17001E+11</td>\n",
       "      <td>1,17001E+11</td>\n",
       "      <td>17</td>\n",
       "      <td>...</td>\n",
       "      <td>No</td>\n",
       "      <td>No</td>\n",
       "      <td>Si</td>\n",
       "      <td>A-</td>\n",
       "      <td>34.0</td>\n",
       "      <td>32.0</td>\n",
       "      <td>33.0</td>\n",
       "      <td>33.0</td>\n",
       "      <td>40.0</td>\n",
       "      <td>172.0</td>\n",
       "    </tr>\n",
       "    <tr>\n",
       "      <th>137569</th>\n",
       "      <td>20132</td>\n",
       "      <td>TI</td>\n",
       "      <td>SB11201320428730</td>\n",
       "      <td>URBANO</td>\n",
       "      <td>N</td>\n",
       "      <td>A</td>\n",
       "      <td>TÉCNICO/ACADÉMICO</td>\n",
       "      <td>1,17541E+11</td>\n",
       "      <td>1,17541E+11</td>\n",
       "      <td>17</td>\n",
       "      <td>...</td>\n",
       "      <td>No</td>\n",
       "      <td>No</td>\n",
       "      <td>No</td>\n",
       "      <td>A-</td>\n",
       "      <td>42.0</td>\n",
       "      <td>52.0</td>\n",
       "      <td>NaN</td>\n",
       "      <td>NaN</td>\n",
       "      <td>NaN</td>\n",
       "      <td>NaN</td>\n",
       "    </tr>\n",
       "    <tr>\n",
       "      <th>137570</th>\n",
       "      <td>20142</td>\n",
       "      <td>CC</td>\n",
       "      <td>SB11201420316989</td>\n",
       "      <td>URBANO</td>\n",
       "      <td>N</td>\n",
       "      <td>A</td>\n",
       "      <td>ACADÉMICO</td>\n",
       "      <td>1,17877E+11</td>\n",
       "      <td>1,17877E+11</td>\n",
       "      <td>17</td>\n",
       "      <td>...</td>\n",
       "      <td>Si</td>\n",
       "      <td>No</td>\n",
       "      <td>No</td>\n",
       "      <td>A-</td>\n",
       "      <td>38.0</td>\n",
       "      <td>38.0</td>\n",
       "      <td>47.0</td>\n",
       "      <td>36.0</td>\n",
       "      <td>52.0</td>\n",
       "      <td>214.0</td>\n",
       "    </tr>\n",
       "    <tr>\n",
       "      <th>137571</th>\n",
       "      <td>20142</td>\n",
       "      <td>TI</td>\n",
       "      <td>SB11201420040552</td>\n",
       "      <td>URBANO</td>\n",
       "      <td>N</td>\n",
       "      <td>A</td>\n",
       "      <td>ACADÉMICO</td>\n",
       "      <td>1,17001E+11</td>\n",
       "      <td>1,17001E+11</td>\n",
       "      <td>17</td>\n",
       "      <td>...</td>\n",
       "      <td>Si</td>\n",
       "      <td>Si</td>\n",
       "      <td>Si</td>\n",
       "      <td>A1</td>\n",
       "      <td>57.0</td>\n",
       "      <td>52.0</td>\n",
       "      <td>53.0</td>\n",
       "      <td>58.0</td>\n",
       "      <td>50.0</td>\n",
       "      <td>268.0</td>\n",
       "    </tr>\n",
       "  </tbody>\n",
       "</table>\n",
       "<p>137572 rows × 51 columns</p>\n",
       "</div>"
      ],
      "text/plain": [
       "        periodo estu_tipodocumento  estu_consecutivo cole_area_ubicacion  \\\n",
       "0         20224                 TI  SB11202240221646              URBANO   \n",
       "1         20224                 TI  SB11202240133463              URBANO   \n",
       "2         20224                 TI  SB11202240405789              URBANO   \n",
       "3         20224                 TI  SB11202240413516              URBANO   \n",
       "4         20224                 TI  SB11202240280980              URBANO   \n",
       "...         ...                ...               ...                 ...   \n",
       "137567    20172                 CC  SB11201720286102               RURAL   \n",
       "137568    20172                 CC  SB11201720279599              URBANO   \n",
       "137569    20132                 TI  SB11201320428730              URBANO   \n",
       "137570    20142                 CC  SB11201420316989              URBANO   \n",
       "137571    20142                 TI  SB11201420040552              URBANO   \n",
       "\n",
       "       cole_bilingue cole_calendario      cole_caracter  \\\n",
       "0                  N               A  TÉCNICO/ACADÉMICO   \n",
       "1                  N               A            TÉCNICO   \n",
       "2                NaN               A          ACADÉMICO   \n",
       "3                  N               A          ACADÉMICO   \n",
       "4                  N               A  TÉCNICO/ACADÉMICO   \n",
       "...              ...             ...                ...   \n",
       "137567             N               A          ACADÉMICO   \n",
       "137568             N               A          ACADÉMICO   \n",
       "137569             N               A  TÉCNICO/ACADÉMICO   \n",
       "137570             N               A          ACADÉMICO   \n",
       "137571             N               A          ACADÉMICO   \n",
       "\n",
       "       cole_cod_dane_establecimiento cole_cod_dane_sede  \\\n",
       "0                        1,17174E+11        1,17174E+11   \n",
       "1                        1,17001E+11        1,17001E+11   \n",
       "2                        3,17001E+11        3,17001E+11   \n",
       "3                        1,17388E+11        1,17388E+11   \n",
       "4                        1,17614E+11        1,17614E+11   \n",
       "...                              ...                ...   \n",
       "137567                   2,17662E+11        2,17662E+11   \n",
       "137568                   1,17001E+11        1,17001E+11   \n",
       "137569                   1,17541E+11        1,17541E+11   \n",
       "137570                   1,17877E+11        1,17877E+11   \n",
       "137571                   1,17001E+11        1,17001E+11   \n",
       "\n",
       "        cole_cod_depto_ubicacion  ...  fami_tienecomputador  \\\n",
       "0                             17  ...                    Si   \n",
       "1                             17  ...                    Si   \n",
       "2                             17  ...                    Si   \n",
       "3                             17  ...                    No   \n",
       "4                             17  ...                    No   \n",
       "...                          ...  ...                   ...   \n",
       "137567                        17  ...                    No   \n",
       "137568                        17  ...                    No   \n",
       "137569                        17  ...                    No   \n",
       "137570                        17  ...                    Si   \n",
       "137571                        17  ...                    Si   \n",
       "\n",
       "        fami_tieneinternet fami_tienelavadora desemp_ingles punt_ingles  \\\n",
       "0                       Si                 Si            A-        38.0   \n",
       "1                       Si                 Si            B1        71.0   \n",
       "2                       Si                 Si            B1        68.0   \n",
       "3                       No                 Si            A-        36.0   \n",
       "4                       No                 Si            A-        40.0   \n",
       "...                    ...                ...           ...         ...   \n",
       "137567                 NaN                 No            A-        39.0   \n",
       "137568                  No                 Si            A-        34.0   \n",
       "137569                  No                 No            A-        42.0   \n",
       "137570                  No                 No            A-        38.0   \n",
       "137571                  Si                 Si            A1        57.0   \n",
       "\n",
       "       punt_matematicas punt_sociales_ciudadanas punt_c_naturales  \\\n",
       "0                  55.0                     63.0             62.0   \n",
       "1                  61.0                     66.0             67.0   \n",
       "2                  38.0                     43.0             48.0   \n",
       "3                  34.0                     31.0             39.0   \n",
       "4                  48.0                     36.0             38.0   \n",
       "...                 ...                      ...              ...   \n",
       "137567             35.0                     37.0             38.0   \n",
       "137568             32.0                     33.0             33.0   \n",
       "137569             52.0                      NaN              NaN   \n",
       "137570             38.0                     47.0             36.0   \n",
       "137571             52.0                     53.0             58.0   \n",
       "\n",
       "       punt_lectura_critica punt_global  \n",
       "0                      61.0       293.0  \n",
       "1                      69.0       331.0  \n",
       "2                      53.0       236.0  \n",
       "3                      40.0       180.0  \n",
       "4                      54.0       218.0  \n",
       "...                     ...         ...  \n",
       "137567                 38.0       186.0  \n",
       "137568                 40.0       172.0  \n",
       "137569                  NaN         NaN  \n",
       "137570                 52.0       214.0  \n",
       "137571                 50.0       268.0  \n",
       "\n",
       "[137572 rows x 51 columns]"
      ]
     },
     "execution_count": 169,
     "metadata": {},
     "output_type": "execute_result"
    }
   ],
   "source": [
    "df"
   ]
  },
  {
   "cell_type": "code",
   "execution_count": 170,
   "metadata": {},
   "outputs": [
    {
     "data": {
      "text/plain": [
       "Index(['periodo', 'estu_tipodocumento', 'estu_consecutivo',\n",
       "       'cole_area_ubicacion', 'cole_bilingue', 'cole_calendario',\n",
       "       'cole_caracter', 'cole_cod_dane_establecimiento', 'cole_cod_dane_sede',\n",
       "       'cole_cod_depto_ubicacion', 'cole_cod_mcpio_ubicacion',\n",
       "       'cole_codigo_icfes', 'cole_depto_ubicacion', 'cole_genero',\n",
       "       'cole_jornada', 'cole_mcpio_ubicacion', 'cole_naturaleza',\n",
       "       'cole_nombre_establecimiento', 'cole_nombre_sede',\n",
       "       'cole_sede_principal', 'estu_cod_depto_presentacion',\n",
       "       'estu_cod_mcpio_presentacion', 'estu_cod_reside_depto',\n",
       "       'estu_cod_reside_mcpio', 'estu_depto_presentacion', 'estu_depto_reside',\n",
       "       'estu_estadoinvestigacion', 'estu_estudiante', 'estu_fechanacimiento',\n",
       "       'estu_genero', 'estu_mcpio_presentacion', 'estu_mcpio_reside',\n",
       "       'estu_nacionalidad', 'estu_pais_reside', 'estu_privado_libertad',\n",
       "       'fami_cuartoshogar', 'fami_educacionmadre', 'fami_educacionpadre',\n",
       "       'fami_estratovivienda', 'fami_personashogar', 'fami_tieneautomovil',\n",
       "       'fami_tienecomputador', 'fami_tieneinternet', 'fami_tienelavadora',\n",
       "       'desemp_ingles', 'punt_ingles', 'punt_matematicas',\n",
       "       'punt_sociales_ciudadanas', 'punt_c_naturales', 'punt_lectura_critica',\n",
       "       'punt_global'],\n",
       "      dtype='object')"
      ]
     },
     "execution_count": 170,
     "metadata": {},
     "output_type": "execute_result"
    }
   ],
   "source": [
    "df.columns"
   ]
  },
  {
   "cell_type": "markdown",
   "metadata": {},
   "source": [
    "### Limpieza base de datos"
   ]
  },
  {
   "cell_type": "code",
   "execution_count": 91,
   "metadata": {},
   "outputs": [
    {
     "data": {
      "text/plain": [
       "periodo\n",
       "20194    20852\n",
       "20224    19864\n",
       "20112    12284\n",
       "20102    11989\n",
       "20122    11916\n",
       "20142    11729\n",
       "20132    11682\n",
       "20162    11191\n",
       "20152    10866\n",
       "20172    10554\n",
       "20111      605\n",
       "20121      579\n",
       "20181      494\n",
       "20131      475\n",
       "20101      454\n",
       "20141      421\n",
       "20151      413\n",
       "20221      251\n",
       "20211      231\n",
       "20161      199\n",
       "20171      187\n",
       "20191      178\n",
       "20201      158\n",
       "Name: count, dtype: int64"
      ]
     },
     "execution_count": 91,
     "metadata": {},
     "output_type": "execute_result"
    }
   ],
   "source": [
    "df['periodo'].value_counts()"
   ]
  },
  {
   "cell_type": "code",
   "execution_count": 92,
   "metadata": {},
   "outputs": [
    {
     "data": {
      "text/plain": [
       "estu_tipodocumento\n",
       "TI     104265\n",
       "CC      31835\n",
       "CR       1243\n",
       "CE        130\n",
       "PEP        38\n",
       "NES        36\n",
       "PPT         8\n",
       "PC          7\n",
       "PE          5\n",
       "PV          4\n",
       "V           1\n",
       "Name: count, dtype: int64"
      ]
     },
     "execution_count": 92,
     "metadata": {},
     "output_type": "execute_result"
    }
   ],
   "source": [
    "df['estu_tipodocumento'].value_counts()"
   ]
  },
  {
   "cell_type": "code",
   "execution_count": 93,
   "metadata": {},
   "outputs": [
    {
     "data": {
      "text/plain": [
       "estu_consecutivo\n",
       "SB11201940292025    4\n",
       "SB11201940320923    4\n",
       "SB11201940293274    4\n",
       "SB11201940292387    4\n",
       "SB11201940292907    4\n",
       "                   ..\n",
       "SB11201020417318    1\n",
       "SB11201020416466    1\n",
       "SB11201220418890    1\n",
       "SB11201220417421    1\n",
       "SB11201420040552    1\n",
       "Name: count, Length: 116754, dtype: int64"
      ]
     },
     "execution_count": 93,
     "metadata": {},
     "output_type": "execute_result"
    }
   ],
   "source": [
    "df['estu_consecutivo'].value_counts()"
   ]
  },
  {
   "cell_type": "code",
   "execution_count": 94,
   "metadata": {},
   "outputs": [
    {
     "data": {
      "text/plain": [
       "cole_area_ubicacion\n",
       "URBANO    111079\n",
       "RURAL      26493\n",
       "Name: count, dtype: int64"
      ]
     },
     "execution_count": 94,
     "metadata": {},
     "output_type": "execute_result"
    }
   ],
   "source": [
    "df['cole_area_ubicacion'].value_counts()"
   ]
  },
  {
   "cell_type": "code",
   "execution_count": 95,
   "metadata": {},
   "outputs": [
    {
     "data": {
      "text/plain": [
       "cole_bilingue\n",
       "N    123880\n",
       "S      1015\n",
       "Name: count, dtype: int64"
      ]
     },
     "execution_count": 95,
     "metadata": {},
     "output_type": "execute_result"
    }
   ],
   "source": [
    "df['cole_bilingue'].value_counts()"
   ]
  },
  {
   "cell_type": "code",
   "execution_count": 96,
   "metadata": {},
   "outputs": [
    {
     "data": {
      "text/plain": [
       "cole_calendario\n",
       "A    134968\n",
       "B      2604\n",
       "Name: count, dtype: int64"
      ]
     },
     "execution_count": 96,
     "metadata": {},
     "output_type": "execute_result"
    }
   ],
   "source": [
    "df['cole_calendario'].value_counts()"
   ]
  },
  {
   "cell_type": "code",
   "execution_count": 97,
   "metadata": {},
   "outputs": [
    {
     "data": {
      "text/plain": [
       "cole_caracter\n",
       "ACADÉMICO            77865\n",
       "TÉCNICO/ACADÉMICO    37712\n",
       "TÉCNICO              20663\n",
       "NO APLICA              567\n",
       "Name: count, dtype: int64"
      ]
     },
     "execution_count": 97,
     "metadata": {},
     "output_type": "execute_result"
    }
   ],
   "source": [
    "df['cole_caracter'].value_counts()"
   ]
  },
  {
   "cell_type": "code",
   "execution_count": 98,
   "metadata": {},
   "outputs": [
    {
     "data": {
      "text/plain": [
       "cole_cod_dane_establecimiento\n",
       "117001001536    3624\n",
       "117873000168    2403\n",
       "117380000347    2196\n",
       "117777000726    2163\n",
       "317001007002    2149\n",
       "                ... \n",
       "317001005638      23\n",
       "317001800136      22\n",
       "317380001016      12\n",
       "317001005824      10\n",
       "317380000451       6\n",
       "Name: count, Length: 274, dtype: int64"
      ]
     },
     "execution_count": 98,
     "metadata": {},
     "output_type": "execute_result"
    }
   ],
   "source": [
    "df['cole_cod_dane_establecimiento'].value_counts()"
   ]
  },
  {
   "cell_type": "code",
   "execution_count": 99,
   "metadata": {},
   "outputs": [
    {
     "data": {
      "text/plain": [
       "cole_cod_dane_sede\n",
       "117001001536    3624\n",
       "117873000168    2403\n",
       "117380000347    2196\n",
       "117777000726    2163\n",
       "317001007002    2149\n",
       "                ... \n",
       "217653000021       8\n",
       "217541000266       6\n",
       "317380000451       6\n",
       "217653000501       4\n",
       "217653000773       2\n",
       "Name: count, Length: 325, dtype: int64"
      ]
     },
     "execution_count": 99,
     "metadata": {},
     "output_type": "execute_result"
    }
   ],
   "source": [
    "df['cole_cod_dane_sede'].value_counts()"
   ]
  },
  {
   "cell_type": "code",
   "execution_count": 100,
   "metadata": {},
   "outputs": [
    {
     "data": {
      "text/plain": [
       "cole_cod_depto_ubicacion\n",
       "17    137572\n",
       "Name: count, dtype: int64"
      ]
     },
     "execution_count": 100,
     "metadata": {},
     "output_type": "execute_result"
    }
   ],
   "source": [
    "df['cole_cod_depto_ubicacion'].value_counts()"
   ]
  },
  {
   "cell_type": "code",
   "execution_count": 101,
   "metadata": {},
   "outputs": [
    {
     "data": {
      "text/plain": [
       "cole_cod_mcpio_ubicacion\n",
       "17001    58402\n",
       "17380     9023\n",
       "17873     8557\n",
       "17614     7406\n",
       "17174     6889\n",
       "17777     5145\n",
       "17042     4725\n",
       "17013     3146\n",
       "17541     2933\n",
       "17433     2820\n",
       "17662     2776\n",
       "17486     2535\n",
       "17524     2443\n",
       "17653     2248\n",
       "17513     2221\n",
       "17444     2145\n",
       "17050     2118\n",
       "17877     2095\n",
       "17867     1553\n",
       "17088     1378\n",
       "17616     1335\n",
       "17272     1291\n",
       "17442     1150\n",
       "17388     1130\n",
       "17495      962\n",
       "17665      786\n",
       "17446      360\n",
       "Name: count, dtype: int64"
      ]
     },
     "execution_count": 101,
     "metadata": {},
     "output_type": "execute_result"
    }
   ],
   "source": [
    "df['cole_cod_mcpio_ubicacion'].value_counts()"
   ]
  },
  {
   "cell_type": "code",
   "execution_count": 102,
   "metadata": {},
   "outputs": [
    {
     "data": {
      "text/plain": [
       "cole_codigo_icfes\n",
       "76653.0     2147\n",
       "42341.0     1990\n",
       "6130.0      1706\n",
       "86389.0     1597\n",
       "26658.0     1367\n",
       "            ... \n",
       "2535.0         1\n",
       "174532.0       1\n",
       "134957.0       1\n",
       "60111.0        1\n",
       "119164.0       1\n",
       "Name: count, Length: 561, dtype: int64"
      ]
     },
     "execution_count": 102,
     "metadata": {},
     "output_type": "execute_result"
    }
   ],
   "source": [
    "df['cole_codigo_icfes'].value_counts()"
   ]
  },
  {
   "cell_type": "code",
   "execution_count": 103,
   "metadata": {},
   "outputs": [
    {
     "data": {
      "text/plain": [
       "cole_depto_ubicacion\n",
       "CALDAS    137572\n",
       "Name: count, dtype: int64"
      ]
     },
     "execution_count": 103,
     "metadata": {},
     "output_type": "execute_result"
    }
   ],
   "source": [
    "df['cole_depto_ubicacion'].value_counts()"
   ]
  },
  {
   "cell_type": "code",
   "execution_count": 104,
   "metadata": {},
   "outputs": [
    {
     "data": {
      "text/plain": [
       "cole_genero\n",
       "MIXTO        127910\n",
       "FEMENINO       5334\n",
       "MASCULINO      4328\n",
       "Name: count, dtype: int64"
      ]
     },
     "execution_count": 104,
     "metadata": {},
     "output_type": "execute_result"
    }
   ],
   "source": [
    "df['cole_genero'].value_counts()"
   ]
  },
  {
   "cell_type": "code",
   "execution_count": 105,
   "metadata": {},
   "outputs": [
    {
     "data": {
      "text/plain": [
       "cole_jornada\n",
       "MAÑANA      67738\n",
       "COMPLETA    30659\n",
       "UNICA       13172\n",
       "NOCHE       11953\n",
       "SABATINA     7640\n",
       "TARDE        6410\n",
       "Name: count, dtype: int64"
      ]
     },
     "execution_count": 105,
     "metadata": {},
     "output_type": "execute_result"
    }
   ],
   "source": [
    "df['cole_jornada'].value_counts()"
   ]
  },
  {
   "cell_type": "code",
   "execution_count": 106,
   "metadata": {},
   "outputs": [
    {
     "data": {
      "text/plain": [
       "cole_mcpio_ubicacion\n",
       "MANIZALES      58402\n",
       "LA DORADA       9023\n",
       "RIOSUCIO        7406\n",
       "VILLAMARÍA      5837\n",
       "ANSERMA         4725\n",
       "CHINCHINÁ       4541\n",
       "SUPÍA           3430\n",
       "AGUADAS         3146\n",
       "PENSILVANIA     2933\n",
       "MANZANARES      2820\n",
       "VILLAMARIA      2720\n",
       "NEIRA           2535\n",
       "PALESTINA       2443\n",
       "CHINCHINA       2348\n",
       "SALAMINA        2248\n",
       "MARQUETALIA     2145\n",
       "ARANZAZU        2118\n",
       "VITERBO         2095\n",
       "SAMANÁ          1851\n",
       "SUPIA           1715\n",
       "VICTORIA        1553\n",
       "PÁCORA          1440\n",
       "RISARALDA       1335\n",
       "FILADELFIA      1291\n",
       "MARMATO         1150\n",
       "LA MERCED       1130\n",
       "NORCASIA         962\n",
       "SAMANA           925\n",
       "BELALCÁZAR       884\n",
       "PACORA           781\n",
       "SAN JOSÉ         544\n",
       "BELALCAZAR       494\n",
       "MARULANDA        360\n",
       "SAN JOSE         242\n",
       "Name: count, dtype: int64"
      ]
     },
     "execution_count": 106,
     "metadata": {},
     "output_type": "execute_result"
    }
   ],
   "source": [
    "df['cole_mcpio_ubicacion'].value_counts()"
   ]
  },
  {
   "cell_type": "code",
   "execution_count": 107,
   "metadata": {},
   "outputs": [
    {
     "data": {
      "text/plain": [
       "cole_naturaleza\n",
       "OFICIAL       116511\n",
       "NO OFICIAL     21061\n",
       "Name: count, dtype: int64"
      ]
     },
     "execution_count": 107,
     "metadata": {},
     "output_type": "execute_result"
    }
   ],
   "source": [
    "df['cole_naturaleza'].value_counts()"
   ]
  },
  {
   "cell_type": "code",
   "execution_count": 108,
   "metadata": {},
   "outputs": [
    {
     "data": {
      "text/plain": [
       "cole_nombre_establecimiento\n",
       "INSTITUCION EDUCATIVA UNIVERSITARIO DE CALDAS                    3624\n",
       "INSTITUCION EDUCATIVA FRANCISCO JOSE DE CALDAS                   2652\n",
       "INSTITUCION EDUCATIVA ESCUELA NORMAL SUPERIOR SAGRADO CORAZON    2426\n",
       "INSTITUCION EDUCATIVA GERARDO ARIAS RAMIREZ                      2403\n",
       "INSTITUCION EDUCATIVA NUESTRA SEÑORA DEL CARMEN                  2196\n",
       "                                                                 ... \n",
       "COLEGIO DE LA UNIVERSIDAD AUTONOMA                                 23\n",
       "COLEGIO LEON DE JUDA                                               22\n",
       "INSTITUTO EDUCATIVO HUMANISTA                                      12\n",
       "GIMNASIO SAN FELIPE NERI                                           10\n",
       "COLEGIO LA VOZ DE LA ESPERANZA                                      6\n",
       "Name: count, Length: 262, dtype: int64"
      ]
     },
     "execution_count": 108,
     "metadata": {},
     "output_type": "execute_result"
    }
   ],
   "source": [
    "df['cole_nombre_establecimiento'].value_counts()"
   ]
  },
  {
   "cell_type": "code",
   "execution_count": 109,
   "metadata": {},
   "outputs": [
    {
     "data": {
      "text/plain": [
       "cole_nombre_sede\n",
       "INSTITUCIÓN EDUCATIVA INSTITUTO UNIVERSITARIO DE CALDAS                           3624\n",
       "INST.EDUC CONTINUA CONFAMILIARES SEDE A                                           2149\n",
       "COLEGIO BOSTON - SEDE PRINCIPAL                                                   2096\n",
       "INSTITUCION EDUCATIVA ESCUELA NORMAL SUPERIOR SAGRADO CORAZON - SEDE PRINCIPAL    1822\n",
       "INSTITUCION EDUCATIVA GERARDO ARIAS RAMIREZ - SEDE PRINCIPAL                      1796\n",
       "                                                                                  ... \n",
       "SEDE ALVARO SERNA BOTERO                                                             8\n",
       "ESCUELA NUEVA LA FLORIDA                                                             6\n",
       "COLEGIO LA VOZ DE LA ESPERANZA                                                       6\n",
       "ESCUELA RURAL CAÑAVERAL                                                              4\n",
       "SEDE EL CEDRITO                                                                      2\n",
       "Name: count, Length: 456, dtype: int64"
      ]
     },
     "execution_count": 109,
     "metadata": {},
     "output_type": "execute_result"
    }
   ],
   "source": [
    "df['cole_nombre_sede'].value_counts()"
   ]
  },
  {
   "cell_type": "code",
   "execution_count": 110,
   "metadata": {},
   "outputs": [
    {
     "data": {
      "text/plain": [
       "cole_sede_principal\n",
       "S         131859\n",
       "N           5506\n",
       " VALOR       207\n",
       "Name: count, dtype: int64"
      ]
     },
     "execution_count": 110,
     "metadata": {},
     "output_type": "execute_result"
    }
   ],
   "source": [
    "df['cole_sede_principal'].value_counts()"
   ]
  },
  {
   "cell_type": "markdown",
   "metadata": {},
   "source": [
    "#### Error de las BBDD"
   ]
  },
  {
   "cell_type": "code",
   "execution_count": 187,
   "metadata": {},
   "outputs": [
    {
     "data": {
      "text/html": [
       "<div>\n",
       "<style scoped>\n",
       "    .dataframe tbody tr th:only-of-type {\n",
       "        vertical-align: middle;\n",
       "    }\n",
       "\n",
       "    .dataframe tbody tr th {\n",
       "        vertical-align: top;\n",
       "    }\n",
       "\n",
       "    .dataframe thead th {\n",
       "        text-align: right;\n",
       "    }\n",
       "</style>\n",
       "<table border=\"1\" class=\"dataframe\">\n",
       "  <thead>\n",
       "    <tr style=\"text-align: right;\">\n",
       "      <th></th>\n",
       "      <th>periodo</th>\n",
       "      <th>estu_tipodocumento</th>\n",
       "      <th>estu_consecutivo</th>\n",
       "      <th>cole_area_ubicacion</th>\n",
       "      <th>cole_bilingue</th>\n",
       "      <th>cole_calendario</th>\n",
       "      <th>cole_caracter</th>\n",
       "      <th>cole_cod_dane_establecimiento</th>\n",
       "      <th>cole_cod_dane_sede</th>\n",
       "      <th>cole_cod_depto_ubicacion</th>\n",
       "      <th>...</th>\n",
       "      <th>fami_tienecomputador</th>\n",
       "      <th>fami_tieneinternet</th>\n",
       "      <th>fami_tienelavadora</th>\n",
       "      <th>desemp_ingles</th>\n",
       "      <th>punt_ingles</th>\n",
       "      <th>punt_matematicas</th>\n",
       "      <th>punt_sociales_ciudadanas</th>\n",
       "      <th>punt_c_naturales</th>\n",
       "      <th>punt_lectura_critica</th>\n",
       "      <th>punt_global</th>\n",
       "    </tr>\n",
       "  </thead>\n",
       "  <tbody>\n",
       "    <tr>\n",
       "      <th>3016</th>\n",
       "      <td>20162</td>\n",
       "      <td>CC</td>\n",
       "      <td>SB11201620067066</td>\n",
       "      <td>URBANO</td>\n",
       "      <td>NaN</td>\n",
       "      <td>A</td>\n",
       "      <td>ACADÉMICO</td>\n",
       "      <td>3,17174E+11</td>\n",
       "      <td>3,17174E+11</td>\n",
       "      <td>17</td>\n",
       "      <td>...</td>\n",
       "      <td>Si</td>\n",
       "      <td>Si</td>\n",
       "      <td>NaN</td>\n",
       "      <td>NaN</td>\n",
       "      <td>47.0</td>\n",
       "      <td>48.0</td>\n",
       "      <td>47.0</td>\n",
       "      <td>48.0</td>\n",
       "      <td>NaN</td>\n",
       "      <td>NaN</td>\n",
       "    </tr>\n",
       "    <tr>\n",
       "      <th>5386</th>\n",
       "      <td>20142</td>\n",
       "      <td>TI</td>\n",
       "      <td>SB11201420554262</td>\n",
       "      <td>URBANO</td>\n",
       "      <td>NaN</td>\n",
       "      <td>A</td>\n",
       "      <td>ACADÉMICO</td>\n",
       "      <td>3,17174E+11</td>\n",
       "      <td>3,17174E+11</td>\n",
       "      <td>17</td>\n",
       "      <td>...</td>\n",
       "      <td>Si</td>\n",
       "      <td>Si</td>\n",
       "      <td>NaN</td>\n",
       "      <td>NaN</td>\n",
       "      <td>40.0</td>\n",
       "      <td>48.0</td>\n",
       "      <td>40.0</td>\n",
       "      <td>48.0</td>\n",
       "      <td>NaN</td>\n",
       "      <td>NaN</td>\n",
       "    </tr>\n",
       "    <tr>\n",
       "      <th>5551</th>\n",
       "      <td>20152</td>\n",
       "      <td>TI</td>\n",
       "      <td>SB11201520336600</td>\n",
       "      <td>URBANO</td>\n",
       "      <td>NaN</td>\n",
       "      <td>A</td>\n",
       "      <td>ACADÉMICO</td>\n",
       "      <td>3,17174E+11</td>\n",
       "      <td>3,17174E+11</td>\n",
       "      <td>17</td>\n",
       "      <td>...</td>\n",
       "      <td>Si</td>\n",
       "      <td>Si</td>\n",
       "      <td>NaN</td>\n",
       "      <td>NaN</td>\n",
       "      <td>57.0</td>\n",
       "      <td>57.0</td>\n",
       "      <td>57.0</td>\n",
       "      <td>57.0</td>\n",
       "      <td>NaN</td>\n",
       "      <td>NaN</td>\n",
       "    </tr>\n",
       "    <tr>\n",
       "      <th>6887</th>\n",
       "      <td>20112</td>\n",
       "      <td>CC</td>\n",
       "      <td>SB11201120415309</td>\n",
       "      <td>URBANO</td>\n",
       "      <td>NaN</td>\n",
       "      <td>A</td>\n",
       "      <td>ACADÉMICO</td>\n",
       "      <td>3,17174E+11</td>\n",
       "      <td>3,17174E+11</td>\n",
       "      <td>17</td>\n",
       "      <td>...</td>\n",
       "      <td>No</td>\n",
       "      <td>No</td>\n",
       "      <td>NaN</td>\n",
       "      <td>NaN</td>\n",
       "      <td>39.0</td>\n",
       "      <td>45.0</td>\n",
       "      <td>39.0</td>\n",
       "      <td>45.0</td>\n",
       "      <td>NaN</td>\n",
       "      <td>NaN</td>\n",
       "    </tr>\n",
       "    <tr>\n",
       "      <th>7169</th>\n",
       "      <td>20142</td>\n",
       "      <td>CC</td>\n",
       "      <td>SB11201420554737</td>\n",
       "      <td>URBANO</td>\n",
       "      <td>NaN</td>\n",
       "      <td>A</td>\n",
       "      <td>ACADÉMICO</td>\n",
       "      <td>3,17174E+11</td>\n",
       "      <td>3,17174E+11</td>\n",
       "      <td>17</td>\n",
       "      <td>...</td>\n",
       "      <td>Si</td>\n",
       "      <td>No</td>\n",
       "      <td>NaN</td>\n",
       "      <td>NaN</td>\n",
       "      <td>38.0</td>\n",
       "      <td>36.0</td>\n",
       "      <td>38.0</td>\n",
       "      <td>36.0</td>\n",
       "      <td>NaN</td>\n",
       "      <td>NaN</td>\n",
       "    </tr>\n",
       "    <tr>\n",
       "      <th>...</th>\n",
       "      <td>...</td>\n",
       "      <td>...</td>\n",
       "      <td>...</td>\n",
       "      <td>...</td>\n",
       "      <td>...</td>\n",
       "      <td>...</td>\n",
       "      <td>...</td>\n",
       "      <td>...</td>\n",
       "      <td>...</td>\n",
       "      <td>...</td>\n",
       "      <td>...</td>\n",
       "      <td>...</td>\n",
       "      <td>...</td>\n",
       "      <td>...</td>\n",
       "      <td>...</td>\n",
       "      <td>...</td>\n",
       "      <td>...</td>\n",
       "      <td>...</td>\n",
       "      <td>...</td>\n",
       "      <td>...</td>\n",
       "      <td>...</td>\n",
       "    </tr>\n",
       "    <tr>\n",
       "      <th>129803</th>\n",
       "      <td>20142</td>\n",
       "      <td>CC</td>\n",
       "      <td>SB11201420551986</td>\n",
       "      <td>URBANO</td>\n",
       "      <td>NaN</td>\n",
       "      <td>A</td>\n",
       "      <td>ACADÉMICO</td>\n",
       "      <td>3,17174E+11</td>\n",
       "      <td>3,17174E+11</td>\n",
       "      <td>17</td>\n",
       "      <td>...</td>\n",
       "      <td>Si</td>\n",
       "      <td>Si</td>\n",
       "      <td>NaN</td>\n",
       "      <td>NaN</td>\n",
       "      <td>42.0</td>\n",
       "      <td>49.0</td>\n",
       "      <td>42.0</td>\n",
       "      <td>49.0</td>\n",
       "      <td>NaN</td>\n",
       "      <td>NaN</td>\n",
       "    </tr>\n",
       "    <tr>\n",
       "      <th>132304</th>\n",
       "      <td>20172</td>\n",
       "      <td>CC</td>\n",
       "      <td>SB11201720240098</td>\n",
       "      <td>URBANO</td>\n",
       "      <td>NaN</td>\n",
       "      <td>A</td>\n",
       "      <td>ACADÉMICO</td>\n",
       "      <td>3,17174E+11</td>\n",
       "      <td>3,17174E+11</td>\n",
       "      <td>17</td>\n",
       "      <td>...</td>\n",
       "      <td>No</td>\n",
       "      <td>No</td>\n",
       "      <td>NaN</td>\n",
       "      <td>NaN</td>\n",
       "      <td>34.0</td>\n",
       "      <td>49.0</td>\n",
       "      <td>34.0</td>\n",
       "      <td>49.0</td>\n",
       "      <td>NaN</td>\n",
       "      <td>NaN</td>\n",
       "    </tr>\n",
       "    <tr>\n",
       "      <th>135243</th>\n",
       "      <td>20122</td>\n",
       "      <td>CC</td>\n",
       "      <td>SB11201220416538</td>\n",
       "      <td>URBANO</td>\n",
       "      <td>NaN</td>\n",
       "      <td>A</td>\n",
       "      <td>ACADÉMICO</td>\n",
       "      <td>3,17174E+11</td>\n",
       "      <td>3,17174E+11</td>\n",
       "      <td>17</td>\n",
       "      <td>...</td>\n",
       "      <td>No</td>\n",
       "      <td>No</td>\n",
       "      <td>NaN</td>\n",
       "      <td>NaN</td>\n",
       "      <td>30.0</td>\n",
       "      <td>25.0</td>\n",
       "      <td>30.0</td>\n",
       "      <td>25.0</td>\n",
       "      <td>NaN</td>\n",
       "      <td>NaN</td>\n",
       "    </tr>\n",
       "    <tr>\n",
       "      <th>135551</th>\n",
       "      <td>20111</td>\n",
       "      <td>TI</td>\n",
       "      <td>SB11201110068258</td>\n",
       "      <td>URBANO</td>\n",
       "      <td>NaN</td>\n",
       "      <td>A</td>\n",
       "      <td>ACADÉMICO</td>\n",
       "      <td>3,17174E+11</td>\n",
       "      <td>3,17174E+11</td>\n",
       "      <td>17</td>\n",
       "      <td>...</td>\n",
       "      <td>Si</td>\n",
       "      <td>Si</td>\n",
       "      <td>NaN</td>\n",
       "      <td>NaN</td>\n",
       "      <td>48.0</td>\n",
       "      <td>44.0</td>\n",
       "      <td>48.0</td>\n",
       "      <td>44.0</td>\n",
       "      <td>NaN</td>\n",
       "      <td>NaN</td>\n",
       "    </tr>\n",
       "    <tr>\n",
       "      <th>136755</th>\n",
       "      <td>20142</td>\n",
       "      <td>CC</td>\n",
       "      <td>SB11201420527556</td>\n",
       "      <td>URBANO</td>\n",
       "      <td>NaN</td>\n",
       "      <td>A</td>\n",
       "      <td>ACADÉMICO</td>\n",
       "      <td>3,17174E+11</td>\n",
       "      <td>3,17174E+11</td>\n",
       "      <td>17</td>\n",
       "      <td>...</td>\n",
       "      <td>Si</td>\n",
       "      <td>Si</td>\n",
       "      <td>NaN</td>\n",
       "      <td>NaN</td>\n",
       "      <td>49.0</td>\n",
       "      <td>45.0</td>\n",
       "      <td>49.0</td>\n",
       "      <td>45.0</td>\n",
       "      <td>NaN</td>\n",
       "      <td>NaN</td>\n",
       "    </tr>\n",
       "  </tbody>\n",
       "</table>\n",
       "<p>207 rows × 51 columns</p>\n",
       "</div>"
      ],
      "text/plain": [
       "        periodo estu_tipodocumento  estu_consecutivo cole_area_ubicacion  \\\n",
       "3016      20162                 CC  SB11201620067066              URBANO   \n",
       "5386      20142                 TI  SB11201420554262              URBANO   \n",
       "5551      20152                 TI  SB11201520336600              URBANO   \n",
       "6887      20112                 CC  SB11201120415309              URBANO   \n",
       "7169      20142                 CC  SB11201420554737              URBANO   \n",
       "...         ...                ...               ...                 ...   \n",
       "129803    20142                 CC  SB11201420551986              URBANO   \n",
       "132304    20172                 CC  SB11201720240098              URBANO   \n",
       "135243    20122                 CC  SB11201220416538              URBANO   \n",
       "135551    20111                 TI  SB11201110068258              URBANO   \n",
       "136755    20142                 CC  SB11201420527556              URBANO   \n",
       "\n",
       "       cole_bilingue cole_calendario cole_caracter  \\\n",
       "3016             NaN               A     ACADÉMICO   \n",
       "5386             NaN               A     ACADÉMICO   \n",
       "5551             NaN               A     ACADÉMICO   \n",
       "6887             NaN               A     ACADÉMICO   \n",
       "7169             NaN               A     ACADÉMICO   \n",
       "...              ...             ...           ...   \n",
       "129803           NaN               A     ACADÉMICO   \n",
       "132304           NaN               A     ACADÉMICO   \n",
       "135243           NaN               A     ACADÉMICO   \n",
       "135551           NaN               A     ACADÉMICO   \n",
       "136755           NaN               A     ACADÉMICO   \n",
       "\n",
       "       cole_cod_dane_establecimiento cole_cod_dane_sede  \\\n",
       "3016                     3,17174E+11        3,17174E+11   \n",
       "5386                     3,17174E+11        3,17174E+11   \n",
       "5551                     3,17174E+11        3,17174E+11   \n",
       "6887                     3,17174E+11        3,17174E+11   \n",
       "7169                     3,17174E+11        3,17174E+11   \n",
       "...                              ...                ...   \n",
       "129803                   3,17174E+11        3,17174E+11   \n",
       "132304                   3,17174E+11        3,17174E+11   \n",
       "135243                   3,17174E+11        3,17174E+11   \n",
       "135551                   3,17174E+11        3,17174E+11   \n",
       "136755                   3,17174E+11        3,17174E+11   \n",
       "\n",
       "        cole_cod_depto_ubicacion  ...  fami_tienecomputador  \\\n",
       "3016                          17  ...                    Si   \n",
       "5386                          17  ...                    Si   \n",
       "5551                          17  ...                    Si   \n",
       "6887                          17  ...                    No   \n",
       "7169                          17  ...                    Si   \n",
       "...                          ...  ...                   ...   \n",
       "129803                        17  ...                    Si   \n",
       "132304                        17  ...                    No   \n",
       "135243                        17  ...                    No   \n",
       "135551                        17  ...                    Si   \n",
       "136755                        17  ...                    Si   \n",
       "\n",
       "        fami_tieneinternet fami_tienelavadora desemp_ingles punt_ingles  \\\n",
       "3016                    Si                NaN           NaN        47.0   \n",
       "5386                    Si                NaN           NaN        40.0   \n",
       "5551                    Si                NaN           NaN        57.0   \n",
       "6887                    No                NaN           NaN        39.0   \n",
       "7169                    No                NaN           NaN        38.0   \n",
       "...                    ...                ...           ...         ...   \n",
       "129803                  Si                NaN           NaN        42.0   \n",
       "132304                  No                NaN           NaN        34.0   \n",
       "135243                  No                NaN           NaN        30.0   \n",
       "135551                  Si                NaN           NaN        48.0   \n",
       "136755                  Si                NaN           NaN        49.0   \n",
       "\n",
       "       punt_matematicas punt_sociales_ciudadanas punt_c_naturales  \\\n",
       "3016               48.0                     47.0             48.0   \n",
       "5386               48.0                     40.0             48.0   \n",
       "5551               57.0                     57.0             57.0   \n",
       "6887               45.0                     39.0             45.0   \n",
       "7169               36.0                     38.0             36.0   \n",
       "...                 ...                      ...              ...   \n",
       "129803             49.0                     42.0             49.0   \n",
       "132304             49.0                     34.0             49.0   \n",
       "135243             25.0                     30.0             25.0   \n",
       "135551             44.0                     48.0             44.0   \n",
       "136755             45.0                     49.0             45.0   \n",
       "\n",
       "       punt_lectura_critica punt_global  \n",
       "3016                    NaN         NaN  \n",
       "5386                    NaN         NaN  \n",
       "5551                    NaN         NaN  \n",
       "6887                    NaN         NaN  \n",
       "7169                    NaN         NaN  \n",
       "...                     ...         ...  \n",
       "129803                  NaN         NaN  \n",
       "132304                  NaN         NaN  \n",
       "135243                  NaN         NaN  \n",
       "135551                  NaN         NaN  \n",
       "136755                  NaN         NaN  \n",
       "\n",
       "[207 rows x 51 columns]"
      ]
     },
     "execution_count": 187,
     "metadata": {},
     "output_type": "execute_result"
    }
   ],
   "source": [
    "# Filtrar las filas donde 'cole_sede_principal' es igual a \"VALOR\"\n",
    "filas_valor = df[df['cole_sede_principal'] == \" VALOR\"]\n",
    "\n",
    "# Mostrar las filas filtradas\n",
    "filas_valor"
   ]
  },
  {
   "cell_type": "code",
   "execution_count": 185,
   "metadata": {},
   "outputs": [
    {
     "name": "stdout",
     "output_type": "stream",
     "text": [
      "        periodo estu_tipodocumento  estu_consecutivo cole_area_ubicacion  \\\n",
      "3016      20162                 CC  SB11201620067066              URBANO   \n",
      "5386      20142                 TI  SB11201420554262              URBANO   \n",
      "5551      20152                 TI  SB11201520336600              URBANO   \n",
      "6887      20112                 CC  SB11201120415309              URBANO   \n",
      "7169      20142                 CC  SB11201420554737              URBANO   \n",
      "...         ...                ...               ...                 ...   \n",
      "129803    20142                 CC  SB11201420551986              URBANO   \n",
      "132304    20172                 CC  SB11201720240098              URBANO   \n",
      "135243    20122                 CC  SB11201220416538              URBANO   \n",
      "135551    20111                 TI  SB11201110068258              URBANO   \n",
      "136755    20142                 CC  SB11201420527556              URBANO   \n",
      "\n",
      "       cole_bilingue cole_calendario cole_caracter  \\\n",
      "3016             NaN               A     ACADÉMICO   \n",
      "5386             NaN               A     ACADÉMICO   \n",
      "5551             NaN               A     ACADÉMICO   \n",
      "6887             NaN               A     ACADÉMICO   \n",
      "7169             NaN               A     ACADÉMICO   \n",
      "...              ...             ...           ...   \n",
      "129803           NaN               A     ACADÉMICO   \n",
      "132304           NaN               A     ACADÉMICO   \n",
      "135243           NaN               A     ACADÉMICO   \n",
      "135551           NaN               A     ACADÉMICO   \n",
      "136755           NaN               A     ACADÉMICO   \n",
      "\n",
      "       cole_cod_dane_establecimiento cole_cod_dane_sede  \\\n",
      "3016                     3,17174E+11        3,17174E+11   \n",
      "5386                     3,17174E+11        3,17174E+11   \n",
      "5551                     3,17174E+11        3,17174E+11   \n",
      "6887                     3,17174E+11        3,17174E+11   \n",
      "7169                     3,17174E+11        3,17174E+11   \n",
      "...                              ...                ...   \n",
      "129803                   3,17174E+11        3,17174E+11   \n",
      "132304                   3,17174E+11        3,17174E+11   \n",
      "135243                   3,17174E+11        3,17174E+11   \n",
      "135551                   3,17174E+11        3,17174E+11   \n",
      "136755                   3,17174E+11        3,17174E+11   \n",
      "\n",
      "        cole_cod_depto_ubicacion  ...  fami_tienecomputador  \\\n",
      "3016                          17  ...                    Si   \n",
      "5386                          17  ...                    Si   \n",
      "5551                          17  ...                    Si   \n",
      "6887                          17  ...                    No   \n",
      "7169                          17  ...                    Si   \n",
      "...                          ...  ...                   ...   \n",
      "129803                        17  ...                    Si   \n",
      "132304                        17  ...                    No   \n",
      "135243                        17  ...                    No   \n",
      "135551                        17  ...                    Si   \n",
      "136755                        17  ...                    Si   \n",
      "\n",
      "        fami_tieneinternet fami_tienelavadora desemp_ingles punt_ingles  \\\n",
      "3016                    Si                NaN           NaN        47.0   \n",
      "5386                    Si                NaN           NaN        40.0   \n",
      "5551                    Si                NaN           NaN        57.0   \n",
      "6887                    No                NaN           NaN        39.0   \n",
      "7169                    No                NaN           NaN        38.0   \n",
      "...                    ...                ...           ...         ...   \n",
      "129803                  Si                NaN           NaN        42.0   \n",
      "132304                  No                NaN           NaN        34.0   \n",
      "135243                  No                NaN           NaN        30.0   \n",
      "135551                  Si                NaN           NaN        48.0   \n",
      "136755                  Si                NaN           NaN        49.0   \n",
      "\n",
      "       punt_matematicas punt_sociales_ciudadanas punt_c_naturales  \\\n",
      "3016               48.0                     47.0             48.0   \n",
      "5386               48.0                     40.0             48.0   \n",
      "5551               57.0                     57.0             57.0   \n",
      "6887               45.0                     39.0             45.0   \n",
      "7169               36.0                     38.0             36.0   \n",
      "...                 ...                      ...              ...   \n",
      "129803             49.0                     42.0             49.0   \n",
      "132304             49.0                     34.0             49.0   \n",
      "135243             25.0                     30.0             25.0   \n",
      "135551             44.0                     48.0             44.0   \n",
      "136755             45.0                     49.0             45.0   \n",
      "\n",
      "       punt_lectura_critica punt_global  \n",
      "3016                    NaN         NaN  \n",
      "5386                    NaN         NaN  \n",
      "5551                    NaN         NaN  \n",
      "6887                    NaN         NaN  \n",
      "7169                    NaN         NaN  \n",
      "...                     ...         ...  \n",
      "129803                  NaN         NaN  \n",
      "132304                  NaN         NaN  \n",
      "135243                  NaN         NaN  \n",
      "135551                  NaN         NaN  \n",
      "136755                  NaN         NaN  \n",
      "\n",
      "[207 rows x 51 columns]\n"
     ]
    }
   ],
   "source": [
    "# Filtrar las filas donde 'cole_sede_principal' es igual a \"VALOR\"\n",
    "filas_valor = df['cole_sede_principal'] == \" VALOR\"\n",
    "\n",
    "# Obtener el índice de la columna 'estu_depto_presentacion'\n",
    "col_index = df.columns.get_loc('estu_depto_presentacion')\n",
    "\n",
    "# Iterar sobre las columnas desde 'estu_depto_presentacion' hacia el final\n",
    "for i in range(col_index, len(df.columns) - 2):  # Hasta dos columnas antes del final\n",
    "    # Determinar la columna actual y la columna destino (2 posiciones atrás)\n",
    "    columna_actual = df.columns[i]\n",
    "    columna_destino = df.columns[i - 2]\n",
    "    \n",
    "    # Mover los valores de la columna actual a la columna destino\n",
    "    df.loc[filas_valor, columna_destino] = df.loc[filas_valor, columna_actual]\n",
    "\n",
    "# Limpiar las últimas dos columnas (porque sus valores ya fueron movidos hacia atrás)\n",
    "df.loc[filas_valor, df.columns[-1]] = None\n",
    "df.loc[filas_valor, df.columns[-2]] = None\n",
    "\n",
    "# Verificar las columnas afectadas\n",
    "print(df[filas_valor])"
   ]
  },
  {
   "cell_type": "code",
   "execution_count": 188,
   "metadata": {},
   "outputs": [
    {
     "data": {
      "text/plain": [
       "Series([], Name: count, dtype: int64)"
      ]
     },
     "execution_count": 188,
     "metadata": {},
     "output_type": "execute_result"
    }
   ],
   "source": [
    "filas_valor['estu_cod_depto_presentacion'].value_counts()"
   ]
  },
  {
   "cell_type": "code",
   "execution_count": 189,
   "metadata": {},
   "outputs": [
    {
     "data": {
      "text/plain": [
       "estu_depto_reside\n",
       "CALDAS       199\n",
       "RISARALDA      3\n",
       "Name: count, dtype: int64"
      ]
     },
     "execution_count": 189,
     "metadata": {},
     "output_type": "execute_result"
    }
   ],
   "source": [
    "filas_valor['estu_depto_reside'].value_counts()"
   ]
  },
  {
   "cell_type": "code",
   "execution_count": 190,
   "metadata": {},
   "outputs": [
    {
     "data": {
      "text/plain": [
       "Series([], Name: count, dtype: int64)"
      ]
     },
     "execution_count": 190,
     "metadata": {},
     "output_type": "execute_result"
    }
   ],
   "source": [
    "filas_valor['estu_cod_mcpio_presentacion'].value_counts()"
   ]
  },
  {
   "cell_type": "code",
   "execution_count": 191,
   "metadata": {},
   "outputs": [
    {
     "data": {
      "text/plain": [
       "estu_estadoinvestigacion\n",
       "PUBLICAR    207\n",
       "Name: count, dtype: int64"
      ]
     },
     "execution_count": 191,
     "metadata": {},
     "output_type": "execute_result"
    }
   ],
   "source": [
    "filas_valor['estu_estadoinvestigacion'].value_counts()"
   ]
  },
  {
   "cell_type": "code",
   "execution_count": 192,
   "metadata": {},
   "outputs": [
    {
     "data": {
      "text/plain": [
       "estu_estudiante\n",
       "ESTUDIANTE    207\n",
       "Name: count, dtype: int64"
      ]
     },
     "execution_count": 192,
     "metadata": {},
     "output_type": "execute_result"
    }
   ],
   "source": [
    "filas_valor['estu_estudiante'].value_counts()"
   ]
  },
  {
   "cell_type": "code",
   "execution_count": 193,
   "metadata": {},
   "outputs": [
    {
     "data": {
      "text/plain": [
       "estu_fechanacimiento\n",
       "9/09/94     2\n",
       "6/03/97     2\n",
       "26/03/93    2\n",
       "2/02/95     2\n",
       "11/11/93    2\n",
       "           ..\n",
       "4/03/92     1\n",
       "22/04/93    1\n",
       "7/01/93     1\n",
       "23/02/94    1\n",
       "8/09/93     1\n",
       "Name: count, Length: 201, dtype: int64"
      ]
     },
     "execution_count": 193,
     "metadata": {},
     "output_type": "execute_result"
    }
   ],
   "source": [
    "filas_valor['estu_fechanacimiento'].value_counts()"
   ]
  },
  {
   "cell_type": "code",
   "execution_count": 194,
   "metadata": {},
   "outputs": [
    {
     "data": {
      "text/plain": [
       "estu_genero\n",
       "F    113\n",
       "M     94\n",
       "Name: count, dtype: int64"
      ]
     },
     "execution_count": 194,
     "metadata": {},
     "output_type": "execute_result"
    }
   ],
   "source": [
    "filas_valor['estu_genero'].value_counts()"
   ]
  },
  {
   "cell_type": "code",
   "execution_count": 195,
   "metadata": {},
   "outputs": [
    {
     "data": {
      "text/plain": [
       "estu_mcpio_presentacion\n",
       "CHINCHINÁ    116\n",
       "MANIZALES     91\n",
       "Name: count, dtype: int64"
      ]
     },
     "execution_count": 195,
     "metadata": {},
     "output_type": "execute_result"
    }
   ],
   "source": [
    "filas_valor['estu_mcpio_presentacion'].value_counts()"
   ]
  },
  {
   "cell_type": "code",
   "execution_count": 196,
   "metadata": {},
   "outputs": [
    {
     "data": {
      "text/plain": [
       "estu_mcpio_reside\n",
       "CHINCHINÁ              182\n",
       "PALESTINA               11\n",
       "MANIZALES                5\n",
       "SANTA ROSA DE CABAL      2\n",
       "RISARALDA                1\n",
       "PEREIRA                  1\n",
       "Name: count, dtype: int64"
      ]
     },
     "execution_count": 196,
     "metadata": {},
     "output_type": "execute_result"
    }
   ],
   "source": [
    "filas_valor['estu_mcpio_reside'].value_counts()"
   ]
  },
  {
   "cell_type": "code",
   "execution_count": 197,
   "metadata": {},
   "outputs": [
    {
     "data": {
      "text/plain": [
       "estu_nacionalidad\n",
       "COLOMBIA    207\n",
       "Name: count, dtype: int64"
      ]
     },
     "execution_count": 197,
     "metadata": {},
     "output_type": "execute_result"
    }
   ],
   "source": [
    "filas_valor['estu_nacionalidad'].value_counts()"
   ]
  },
  {
   "cell_type": "code",
   "execution_count": 198,
   "metadata": {},
   "outputs": [
    {
     "data": {
      "text/plain": [
       "estu_pais_reside\n",
       "COLOMBIA    207\n",
       "Name: count, dtype: int64"
      ]
     },
     "execution_count": 198,
     "metadata": {},
     "output_type": "execute_result"
    }
   ],
   "source": [
    "filas_valor['estu_pais_reside'].value_counts()"
   ]
  },
  {
   "cell_type": "code",
   "execution_count": 199,
   "metadata": {},
   "outputs": [
    {
     "data": {
      "text/plain": [
       "estu_privado_libertad\n",
       "N    207\n",
       "Name: count, dtype: int64"
      ]
     },
     "execution_count": 199,
     "metadata": {},
     "output_type": "execute_result"
    }
   ],
   "source": [
    "filas_valor['estu_privado_libertad'].value_counts()"
   ]
  },
  {
   "cell_type": "code",
   "execution_count": 200,
   "metadata": {},
   "outputs": [
    {
     "data": {
      "text/plain": [
       "fami_cuartoshogar\n",
       "Dos       87\n",
       "Tres      69\n",
       "Cuatro    27\n",
       "Uno       13\n",
       "Cinco      4\n",
       "Seis       2\n",
       "Nueve      1\n",
       "Siete      1\n",
       "Name: count, dtype: int64"
      ]
     },
     "execution_count": 200,
     "metadata": {},
     "output_type": "execute_result"
    }
   ],
   "source": [
    "filas_valor['fami_cuartoshogar'].value_counts()"
   ]
  },
  {
   "cell_type": "code",
   "execution_count": 201,
   "metadata": {},
   "outputs": [
    {
     "data": {
      "text/plain": [
       "fami_educacionmadre\n",
       "Primaria incompleta                     55\n",
       "Secundaria (Bachillerato) completa      49\n",
       "Primaria completa                       46\n",
       "Secundaria (Bachillerato) incompleta    30\n",
       "Ninguno                                  9\n",
       "Educación profesional completa           6\n",
       "No sabe                                  4\n",
       "Técnica o tecnológica completa           3\n",
       "Postgrado                                1\n",
       "Técnica o tecnológica incompleta         1\n",
       "Name: count, dtype: int64"
      ]
     },
     "execution_count": 201,
     "metadata": {},
     "output_type": "execute_result"
    }
   ],
   "source": [
    "filas_valor['fami_educacionmadre'].value_counts()"
   ]
  },
  {
   "cell_type": "code",
   "execution_count": 202,
   "metadata": {},
   "outputs": [
    {
     "data": {
      "text/plain": [
       "fami_educacionpadre\n",
       "Primaria incompleta                     53\n",
       "Secundaria (Bachillerato) completa      45\n",
       "Primaria completa                       41\n",
       "Secundaria (Bachillerato) incompleta    33\n",
       "Ninguno                                 11\n",
       "Técnica o tecnológica completa           7\n",
       "No sabe                                  6\n",
       "Educación profesional completa           4\n",
       "Educación profesional incompleta         2\n",
       "Técnica o tecnológica incompleta         2\n",
       "Name: count, dtype: int64"
      ]
     },
     "execution_count": 202,
     "metadata": {},
     "output_type": "execute_result"
    }
   ],
   "source": [
    "filas_valor['fami_educacionpadre'].value_counts()"
   ]
  },
  {
   "cell_type": "code",
   "execution_count": 203,
   "metadata": {},
   "outputs": [
    {
     "data": {
      "text/plain": [
       "fami_estratovivienda\n",
       "Estrato 2    126\n",
       "Estrato 1     36\n",
       "Estrato 3     33\n",
       "Estrato 4      6\n",
       "Estrato 6      1\n",
       "Name: count, dtype: int64"
      ]
     },
     "execution_count": 203,
     "metadata": {},
     "output_type": "execute_result"
    }
   ],
   "source": [
    "filas_valor['fami_estratovivienda'].value_counts()"
   ]
  },
  {
   "cell_type": "markdown",
   "metadata": {},
   "source": [
    "#### Valor BBDD"
   ]
  },
  {
   "cell_type": "code",
   "execution_count": 204,
   "metadata": {},
   "outputs": [
    {
     "data": {
      "text/plain": [
       "estu_cod_depto_presentacion\n",
       "17.0    135885\n",
       "66.0      1188\n",
       "73.0       139\n",
       "11.0        41\n",
       "5.0         38\n",
       "76.0        13\n",
       "25.0         9\n",
       "15.0         9\n",
       "41.0         6\n",
       "54.0         4\n",
       "68.0         4\n",
       "50.0         3\n",
       "63.0         3\n",
       "8.0          3\n",
       "13.0         2\n",
       "70.0         2\n",
       "20.0         2\n",
       "19.0         1\n",
       "18.0         1\n",
       "85.0         1\n",
       "23.0         1\n",
       "Name: count, dtype: int64"
      ]
     },
     "execution_count": 204,
     "metadata": {},
     "output_type": "execute_result"
    }
   ],
   "source": [
    "df['estu_cod_depto_presentacion'].value_counts()"
   ]
  },
  {
   "cell_type": "code",
   "execution_count": 205,
   "metadata": {},
   "outputs": [
    {
     "data": {
      "text/plain": [
       "estu_cod_mcpio_presentacion\n",
       "17001.0    69190\n",
       "17614.0    14029\n",
       "17380.0    11430\n",
       "17174.0     8680\n",
       "17042.0     6911\n",
       "           ...  \n",
       "66687.0        1\n",
       "5154.0         1\n",
       "70820.0        1\n",
       "25175.0        1\n",
       "8433.0         1\n",
       "Name: count, Length: 74, dtype: int64"
      ]
     },
     "execution_count": 205,
     "metadata": {},
     "output_type": "execute_result"
    }
   ],
   "source": [
    "df['estu_cod_mcpio_presentacion'].value_counts()"
   ]
  },
  {
   "cell_type": "code",
   "execution_count": 206,
   "metadata": {},
   "outputs": [
    {
     "data": {
      "text/plain": [
       "estu_cod_reside_depto\n",
       "17.0    135952\n",
       "73.0       144\n",
       "66.0       102\n",
       "5.0         99\n",
       "25.0        71\n",
       "11.0        71\n",
       "76.0        18\n",
       "15.0        15\n",
       "63.0         7\n",
       "54.0         6\n",
       "52.0         5\n",
       "41.0         5\n",
       "68.0         5\n",
       "50.0         4\n",
       "70.0         4\n",
       "18.0         3\n",
       "13.0         2\n",
       "86.0         2\n",
       "85.0         2\n",
       "44.0         2\n",
       "8.0          2\n",
       "95.0         1\n",
       "81.0         1\n",
       "27.0         1\n",
       "19.0         1\n",
       "94.0         1\n",
       "Name: count, dtype: int64"
      ]
     },
     "execution_count": 206,
     "metadata": {},
     "output_type": "execute_result"
    }
   ],
   "source": [
    "df['estu_cod_reside_depto'].value_counts()"
   ]
  },
  {
   "cell_type": "code",
   "execution_count": 208,
   "metadata": {},
   "outputs": [
    {
     "data": {
      "text/plain": [
       "estu_cod_reside_mcpio\n",
       "17001.0    59195\n",
       "17380.0     8891\n",
       "17614.0     7147\n",
       "17174.0     7034\n",
       "17873.0     6886\n",
       "           ...  \n",
       "5591.0         1\n",
       "85001.0        1\n",
       "5380.0         1\n",
       "5756.0         1\n",
       "5031.0         1\n",
       "Name: count, Length: 122, dtype: int64"
      ]
     },
     "execution_count": 208,
     "metadata": {},
     "output_type": "execute_result"
    }
   ],
   "source": [
    "df['estu_cod_reside_mcpio'].value_counts()"
   ]
  },
  {
   "cell_type": "code",
   "execution_count": 209,
   "metadata": {},
   "outputs": [
    {
     "data": {
      "text/plain": [
       "estu_depto_presentacion\n",
       "CALDAS             136092\n",
       "RISARALDA            1188\n",
       "TOLIMA                139\n",
       "BOGOTÁ                 41\n",
       "ANTIOQUIA              38\n",
       "VALLE                  13\n",
       "CUNDINAMARCA            9\n",
       "BOYACA                  9\n",
       "HUILA                   6\n",
       "NORTE SANTANDER         4\n",
       "SANTANDER               4\n",
       "META                    3\n",
       "QUINDIO                 3\n",
       "ATLANTICO               3\n",
       "BOLIVAR                 2\n",
       "SUCRE                   2\n",
       "CESAR                   2\n",
       "CAUCA                   1\n",
       "CAQUETA                 1\n",
       "CASANARE                1\n",
       "CORDOBA                 1\n",
       "Name: count, dtype: int64"
      ]
     },
     "execution_count": 209,
     "metadata": {},
     "output_type": "execute_result"
    }
   ],
   "source": [
    "df['estu_depto_presentacion'].value_counts()"
   ]
  },
  {
   "cell_type": "code",
   "execution_count": 210,
   "metadata": {},
   "outputs": [
    {
     "data": {
      "text/plain": [
       "estu_depto_reside\n",
       "CALDAS             136151\n",
       "TOLIMA                144\n",
       "RISARALDA             105\n",
       "ANTIOQUIA              99\n",
       "CUNDINAMARCA           71\n",
       "BOGOTÁ                 71\n",
       "VALLE                  18\n",
       "BOYACA                 15\n",
       "QUINDIO                 7\n",
       "NORTE SANTANDER         6\n",
       "NARIÑO                  5\n",
       "HUILA                   5\n",
       "SANTANDER               5\n",
       "META                    4\n",
       "SUCRE                   4\n",
       "CAQUETA                 3\n",
       "BOLIVAR                 2\n",
       "PUTUMAYO                2\n",
       "CASANARE                2\n",
       "LA GUAJIRA              2\n",
       "ATLANTICO               2\n",
       "GUAVIARE                1\n",
       "ARAUCA                  1\n",
       "CHOCO                   1\n",
       "CAUCA                   1\n",
       "GUAINIA                 1\n",
       "Name: count, dtype: int64"
      ]
     },
     "execution_count": 210,
     "metadata": {},
     "output_type": "execute_result"
    }
   ],
   "source": [
    "df['estu_depto_reside'].value_counts()"
   ]
  },
  {
   "cell_type": "code",
   "execution_count": 211,
   "metadata": {},
   "outputs": [
    {
     "data": {
      "text/plain": [
       "estu_estadoinvestigacion\n",
       "PUBLICAR                                  137517\n",
       "VALIDEZ OFICINA JURÍDICA                      34\n",
       "NO SE COMPROBO IDENTIDAD DEL EXAMINADO        11\n",
       "PRESENTE CON LECTURA TARDIA                   10\n",
       "Name: count, dtype: int64"
      ]
     },
     "execution_count": 211,
     "metadata": {},
     "output_type": "execute_result"
    }
   ],
   "source": [
    "df['estu_estadoinvestigacion'].value_counts()"
   ]
  },
  {
   "cell_type": "code",
   "execution_count": 212,
   "metadata": {},
   "outputs": [
    {
     "data": {
      "text/plain": [
       "estu_estudiante\n",
       "ESTUDIANTE    137572\n",
       "Name: count, dtype: int64"
      ]
     },
     "execution_count": 212,
     "metadata": {},
     "output_type": "execute_result"
    }
   ],
   "source": [
    "df['estu_estudiante'].value_counts()"
   ]
  },
  {
   "cell_type": "code",
   "execution_count": 213,
   "metadata": {},
   "outputs": [
    {
     "data": {
      "text/plain": [
       "estu_fechanacimiento\n",
       "5/07/02       56\n",
       "6/06/94       53\n",
       "7/06/02       52\n",
       "22/12/93      52\n",
       "1/07/05       52\n",
       "              ..\n",
       "27/03/72       1\n",
       "10/01/73       1\n",
       "27/12/78       1\n",
       "18/04/0004     1\n",
       "5/08/83        1\n",
       "Name: count, Length: 10292, dtype: int64"
      ]
     },
     "execution_count": 213,
     "metadata": {},
     "output_type": "execute_result"
    }
   ],
   "source": [
    "df['estu_fechanacimiento'].value_counts()"
   ]
  },
  {
   "cell_type": "code",
   "execution_count": 214,
   "metadata": {},
   "outputs": [
    {
     "data": {
      "text/plain": [
       "estu_genero\n",
       "F    75520\n",
       "M    61979\n",
       "Name: count, dtype: int64"
      ]
     },
     "execution_count": 214,
     "metadata": {},
     "output_type": "execute_result"
    }
   ],
   "source": [
    "df['estu_genero'].value_counts()"
   ]
  },
  {
   "cell_type": "code",
   "execution_count": 215,
   "metadata": {},
   "outputs": [
    {
     "data": {
      "text/plain": [
       "estu_mcpio_presentacion\n",
       "MANIZALES           69281\n",
       "RIOSUCIO            14029\n",
       "LA DORADA           11430\n",
       "CHINCHINÁ            8796\n",
       "ANSERMA              6911\n",
       "                    ...  \n",
       "SANTUARIO               1\n",
       "CAUCASIA                1\n",
       "SANTIAGO DE TOLÚ        1\n",
       "CHÍA                    1\n",
       "MALAMBO                 1\n",
       "Name: count, Length: 74, dtype: int64"
      ]
     },
     "execution_count": 215,
     "metadata": {},
     "output_type": "execute_result"
    }
   ],
   "source": [
    "df['estu_mcpio_presentacion'].value_counts()"
   ]
  },
  {
   "cell_type": "code",
   "execution_count": 216,
   "metadata": {},
   "outputs": [
    {
     "data": {
      "text/plain": [
       "estu_mcpio_reside\n",
       "MANIZALES      59200\n",
       "LA DORADA       8891\n",
       "CHINCHINÁ       7216\n",
       "RIOSUCIO        7147\n",
       "VILLAMARÍA      6886\n",
       "               ...  \n",
       "LA ESTRELLA        1\n",
       "SONSÓN             1\n",
       "QUIBDÓ             1\n",
       "SOLEDAD            1\n",
       "AMALFI             1\n",
       "Name: count, Length: 115, dtype: int64"
      ]
     },
     "execution_count": 216,
     "metadata": {},
     "output_type": "execute_result"
    }
   ],
   "source": [
    "df['estu_mcpio_reside'].value_counts()"
   ]
  },
  {
   "cell_type": "code",
   "execution_count": 217,
   "metadata": {},
   "outputs": [
    {
     "data": {
      "text/plain": [
       "estu_nacionalidad\n",
       "COLOMBIA                137402\n",
       "VENEZUELA                  138\n",
       "ESTADOS UNIDOS               9\n",
       "ESPAÑA                       8\n",
       "REPÚBLICA DOMINICANA         2\n",
       "ARGENTINA                    2\n",
       "ECUADOR                      2\n",
       "PERÚ                         2\n",
       "CHILE                        1\n",
       "ITALIA                       1\n",
       "URUGUAY                      1\n",
       "CIUDAD DEL VATICANO          1\n",
       "FRANCIA                      1\n",
       "OMÁN                         1\n",
       "JAPÓN                        1\n",
       "Name: count, dtype: int64"
      ]
     },
     "execution_count": 217,
     "metadata": {},
     "output_type": "execute_result"
    }
   ],
   "source": [
    "df['estu_nacionalidad'].value_counts()"
   ]
  },
  {
   "cell_type": "code",
   "execution_count": 129,
   "metadata": {},
   "outputs": [
    {
     "data": {
      "text/plain": [
       "estu_pais_reside\n",
       "COLOMBIA                137195\n",
       "CHINCHINÁ                  182\n",
       "VENEZUELA                  138\n",
       "PALESTINA                   11\n",
       "ESTADOS UNIDOS               9\n",
       "ESPAÑA                       8\n",
       "MANIZALES                    5\n",
       "REPÚBLICA DOMINICANA         2\n",
       "ARGENTINA                    2\n",
       "SANTA ROSA DE CABAL          2\n",
       "ECUADOR                      2\n",
       "PERÚ                         2\n",
       "CHILE                        1\n",
       "RISARALDA                    1\n",
       "PEREIRA                      1\n",
       "ITALIA                       1\n",
       "URUGUAY                      1\n",
       "CIUDAD DEL VATICANO          1\n",
       "FRANCIA                      1\n",
       "OMÁN                         1\n",
       "JAPÓN                        1\n",
       "Name: count, dtype: int64"
      ]
     },
     "execution_count": 129,
     "metadata": {},
     "output_type": "execute_result"
    }
   ],
   "source": [
    "df['estu_pais_reside'].value_counts()"
   ]
  },
  {
   "cell_type": "code",
   "execution_count": 218,
   "metadata": {},
   "outputs": [
    {
     "data": {
      "text/plain": [
       "estu_privado_libertad\n",
       "N    137482\n",
       "S        90\n",
       "Name: count, dtype: int64"
      ]
     },
     "execution_count": 218,
     "metadata": {},
     "output_type": "execute_result"
    }
   ],
   "source": [
    "df['estu_privado_libertad'].value_counts()"
   ]
  },
  {
   "cell_type": "code",
   "execution_count": 219,
   "metadata": {},
   "outputs": [
    {
     "data": {
      "text/plain": [
       "fami_cuartoshogar\n",
       "Tres          53470\n",
       "Dos           49729\n",
       "Cuatro        18419\n",
       "Uno            5669\n",
       "Cinco          5346\n",
       "Seis o mas     1001\n",
       "Seis            971\n",
       "Siete           319\n",
       "Ocho            133\n",
       "Diez o más       86\n",
       "Nueve            60\n",
       "Name: count, dtype: int64"
      ]
     },
     "execution_count": 219,
     "metadata": {},
     "output_type": "execute_result"
    }
   ],
   "source": [
    "df['fami_cuartoshogar'].value_counts()"
   ]
  },
  {
   "cell_type": "code",
   "execution_count": 220,
   "metadata": {},
   "outputs": [
    {
     "data": {
      "text/plain": [
       "fami_educacionmadre\n",
       "Secundaria (Bachillerato) completa      34488\n",
       "Primaria incompleta                     26951\n",
       "Secundaria (Bachillerato) incompleta    20259\n",
       "Primaria completa                       19819\n",
       "Educación profesional completa          10506\n",
       "Técnica o tecnológica completa           8783\n",
       "No sabe                                  3123\n",
       "Postgrado                                2863\n",
       "Ninguno                                  2582\n",
       "Técnica o tecnológica incompleta         2006\n",
       "Educación profesional incompleta         1866\n",
       "No Aplica                                 134\n",
       "Name: count, dtype: int64"
      ]
     },
     "execution_count": 220,
     "metadata": {},
     "output_type": "execute_result"
    }
   ],
   "source": [
    "df['fami_educacionmadre'].value_counts()"
   ]
  },
  {
   "cell_type": "code",
   "execution_count": 221,
   "metadata": {},
   "outputs": [
    {
     "data": {
      "text/plain": [
       "fami_educacionpadre\n",
       "Primaria incompleta                     32971\n",
       "Secundaria (Bachillerato) completa      28018\n",
       "Primaria completa                       18317\n",
       "Secundaria (Bachillerato) incompleta    16322\n",
       "No sabe                                 10609\n",
       "Educación profesional completa           9154\n",
       "Ninguno                                  6111\n",
       "Técnica o tecnológica completa           5642\n",
       "Postgrado                                2523\n",
       "Educación profesional incompleta         1522\n",
       "Técnica o tecnológica incompleta         1297\n",
       "No Aplica                                 914\n",
       "Name: count, dtype: int64"
      ]
     },
     "execution_count": 221,
     "metadata": {},
     "output_type": "execute_result"
    }
   ],
   "source": [
    "df['fami_educacionpadre'].value_counts()"
   ]
  },
  {
   "cell_type": "code",
   "execution_count": 46,
   "metadata": {},
   "outputs": [
    {
     "data": {
      "text/plain": [
       "fami_estratovivienda\n",
       "Estrato 2                               53892\n",
       "Estrato 1                               37730\n",
       "Estrato 3                               31130\n",
       "Estrato 4                                6119\n",
       "Estrato 6                                2368\n",
       "Estrato 5                                1670\n",
       "Sin Estrato                               838\n",
       "Primaria incompleta                        55\n",
       "Secundaria (Bachillerato) completa         49\n",
       "Primaria completa                          46\n",
       "Secundaria (Bachillerato) incompleta       30\n",
       "Ninguno                                     9\n",
       "Educación profesional completa              6\n",
       "No sabe                                     4\n",
       "Técnica o tecnológica completa              3\n",
       "Postgrado                                   1\n",
       "Técnica o tecnológica incompleta            1\n",
       "Name: count, dtype: int64"
      ]
     },
     "execution_count": 46,
     "metadata": {},
     "output_type": "execute_result"
    }
   ],
   "source": [
    "df['fami_estratovivienda'].value_counts()"
   ]
  },
  {
   "cell_type": "code",
   "execution_count": 222,
   "metadata": {},
   "outputs": [
    {
     "data": {
      "text/plain": [
       "fami_personashogar\n",
       "3 a 4         28723\n",
       "Cuatro        26139\n",
       "Tres          17859\n",
       "Cinco         16856\n",
       "5 a 6         13142\n",
       "Seis           8411\n",
       "Dos            5695\n",
       "1 a 2          5344\n",
       "Siete          4074\n",
       "7 a 8          3016\n",
       "Ocho           2225\n",
       "Nueve          1043\n",
       "9 o más         963\n",
       "Diez            630\n",
       "Doce o más      461\n",
       "Una             326\n",
       "Once            264\n",
       "Name: count, dtype: int64"
      ]
     },
     "execution_count": 222,
     "metadata": {},
     "output_type": "execute_result"
    }
   ],
   "source": [
    "df['fami_personashogar'].value_counts()"
   ]
  },
  {
   "cell_type": "code",
   "execution_count": 223,
   "metadata": {},
   "outputs": [
    {
     "data": {
      "text/plain": [
       "fami_tieneautomovil\n",
       "No    109528\n",
       "Si     25562\n",
       "Name: count, dtype: int64"
      ]
     },
     "execution_count": 223,
     "metadata": {},
     "output_type": "execute_result"
    }
   ],
   "source": [
    "df['fami_tieneautomovil'].value_counts()"
   ]
  },
  {
   "cell_type": "code",
   "execution_count": 224,
   "metadata": {},
   "outputs": [
    {
     "data": {
      "text/plain": [
       "fami_tienecomputador\n",
       "Si    76028\n",
       "No    58327\n",
       "Name: count, dtype: int64"
      ]
     },
     "execution_count": 224,
     "metadata": {},
     "output_type": "execute_result"
    }
   ],
   "source": [
    "df['fami_tienecomputador'].value_counts()"
   ]
  },
  {
   "cell_type": "code",
   "execution_count": 225,
   "metadata": {},
   "outputs": [
    {
     "data": {
      "text/plain": [
       "fami_tieneinternet\n",
       "Si    70823\n",
       "No    63377\n",
       "Name: count, dtype: int64"
      ]
     },
     "execution_count": 225,
     "metadata": {},
     "output_type": "execute_result"
    }
   ],
   "source": [
    "df['fami_tieneinternet'].value_counts()"
   ]
  },
  {
   "cell_type": "code",
   "execution_count": 226,
   "metadata": {},
   "outputs": [
    {
     "data": {
      "text/plain": [
       "fami_tienelavadora\n",
       "Si    92556\n",
       "No    42454\n",
       "Name: count, dtype: int64"
      ]
     },
     "execution_count": 226,
     "metadata": {},
     "output_type": "execute_result"
    }
   ],
   "source": [
    "df['fami_tienelavadora'].value_counts()"
   ]
  },
  {
   "cell_type": "code",
   "execution_count": 227,
   "metadata": {},
   "outputs": [
    {
     "data": {
      "text/plain": [
       "desemp_ingles\n",
       "A-    68418\n",
       "A1    44305\n",
       "A2    14936\n",
       "B1     7384\n",
       "B+     2302\n",
       "Name: count, dtype: int64"
      ]
     },
     "execution_count": 227,
     "metadata": {},
     "output_type": "execute_result"
    }
   ],
   "source": [
    "df['desemp_ingles'].value_counts()"
   ]
  },
  {
   "cell_type": "code",
   "execution_count": 228,
   "metadata": {},
   "outputs": [
    {
     "data": {
      "text/plain": [
       "punt_ingles\n",
       "43.00     9892\n",
       "45.00     5728\n",
       "39.00     5235\n",
       "47.00     4944\n",
       "40.00     4716\n",
       "          ... \n",
       "51.01        1\n",
       "23.36        1\n",
       "24.90        1\n",
       "117.29       1\n",
       "25.71        1\n",
       "Name: count, Length: 244, dtype: int64"
      ]
     },
     "execution_count": 228,
     "metadata": {},
     "output_type": "execute_result"
    }
   ],
   "source": [
    "df['punt_ingles'].value_counts()"
   ]
  },
  {
   "cell_type": "code",
   "execution_count": 229,
   "metadata": {},
   "outputs": [
    {
     "data": {
      "text/plain": [
       "punt_matematicas\n",
       "49.00     5801\n",
       "52.00     5445\n",
       "46.00     4865\n",
       "45.00     4697\n",
       "55.00     4415\n",
       "          ... \n",
       "87.15        1\n",
       "87.61        1\n",
       "82.16        1\n",
       "68.03        1\n",
       "113.64       1\n",
       "Name: count, Length: 271, dtype: int64"
      ]
     },
     "execution_count": 229,
     "metadata": {},
     "output_type": "execute_result"
    }
   ],
   "source": [
    "df['punt_matematicas'].value_counts()"
   ]
  },
  {
   "cell_type": "code",
   "execution_count": 230,
   "metadata": {},
   "outputs": [
    {
     "data": {
      "text/plain": [
       "punt_sociales_ciudadanas\n",
       "50.0    3260\n",
       "47.0    3231\n",
       "53.0    3072\n",
       "44.0    3071\n",
       "49.0    2975\n",
       "        ... \n",
       "9.0        1\n",
       "99.0       1\n",
       "15.0       1\n",
       "12.0       1\n",
       "1.0        1\n",
       "Name: count, Length: 91, dtype: int64"
      ]
     },
     "execution_count": 230,
     "metadata": {},
     "output_type": "execute_result"
    }
   ],
   "source": [
    "df['punt_sociales_ciudadanas'].value_counts()"
   ]
  },
  {
   "cell_type": "code",
   "execution_count": 231,
   "metadata": {},
   "outputs": [
    {
     "data": {
      "text/plain": [
       "punt_c_naturales\n",
       "48.0    3435\n",
       "49.0    3343\n",
       "46.0    3272\n",
       "50.0    3256\n",
       "52.0    3219\n",
       "        ... \n",
       "14.0       2\n",
       "17.0       2\n",
       "8.0        2\n",
       "89.0       1\n",
       "15.0       1\n",
       "Name: count, Length: 83, dtype: int64"
      ]
     },
     "execution_count": 231,
     "metadata": {},
     "output_type": "execute_result"
    }
   ],
   "source": [
    "df['punt_c_naturales'].value_counts()"
   ]
  },
  {
   "cell_type": "code",
   "execution_count": 232,
   "metadata": {},
   "outputs": [
    {
     "data": {
      "text/plain": [
       "punt_lectura_critica\n",
       "54.0    3542\n",
       "50.0    3485\n",
       "51.0    3448\n",
       "47.0    3374\n",
       "52.0    3254\n",
       "        ... \n",
       "15.0       1\n",
       "86.0       1\n",
       "18.0       1\n",
       "8.0        1\n",
       "96.0       1\n",
       "Name: count, Length: 78, dtype: int64"
      ]
     },
     "execution_count": 232,
     "metadata": {},
     "output_type": "execute_result"
    }
   ],
   "source": [
    "df['punt_lectura_critica'].value_counts()"
   ]
  },
  {
   "cell_type": "code",
   "execution_count": 233,
   "metadata": {},
   "outputs": [
    {
     "data": {
      "text/plain": [
       "punt_global\n",
       "238.0    871\n",
       "250.0    850\n",
       "243.0    825\n",
       "245.0    817\n",
       "233.0    807\n",
       "        ... \n",
       "457.0      1\n",
       "436.0      1\n",
       "454.0      1\n",
       "450.0      1\n",
       "462.0      1\n",
       "Name: count, Length: 350, dtype: int64"
      ]
     },
     "execution_count": 233,
     "metadata": {},
     "output_type": "execute_result"
    }
   ],
   "source": [
    "df['punt_global'].value_counts()"
   ]
  },
  {
   "cell_type": "code",
   "execution_count": null,
   "metadata": {},
   "outputs": [],
   "source": []
  }
 ],
 "metadata": {
  "kernelspec": {
   "display_name": "Python 3",
   "language": "python",
   "name": "python3"
  },
  "language_info": {
   "codemirror_mode": {
    "name": "ipython",
    "version": 3
   },
   "file_extension": ".py",
   "mimetype": "text/x-python",
   "name": "python",
   "nbconvert_exporter": "python",
   "pygments_lexer": "ipython3",
   "version": "3.9.6"
  }
 },
 "nbformat": 4,
 "nbformat_minor": 2
}
