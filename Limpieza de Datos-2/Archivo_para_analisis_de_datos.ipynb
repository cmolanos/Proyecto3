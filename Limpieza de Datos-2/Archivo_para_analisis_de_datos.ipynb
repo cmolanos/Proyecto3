{
 "cells": [
  {
   "cell_type": "markdown",
   "metadata": {},
   "source": [
    "### Base Limpia"
   ]
  },
  {
   "cell_type": "code",
   "execution_count": null,
   "metadata": {},
   "outputs": [],
   "source": [
    "import pandas as pd\n",
    "\n",
    "# Cargar el archivo CSV especificando el delimitador ';'\n",
    "df_1 = pd.read_excel('Base_Limpia.xlsx')\n",
    "\n",
    "# Verificar las primeras filas para asegurarte de que se cargó correctamente\n",
    "print(df_1.head())"
   ]
  },
  {
   "cell_type": "markdown",
   "metadata": {},
   "source": [
    "### Base con las Dummies"
   ]
  },
  {
   "cell_type": "code",
   "execution_count": null,
   "metadata": {},
   "outputs": [],
   "source": [
    "import pandas as pd\n",
    "\n",
    "# Suponiendo que 'df_1' ya está cargado, convertir las columnas categóricas en dummies\n",
    "columnas_a_convertir = [\n",
    "    'estu_tipodocumento', 'cole_area_ubicacion', 'cole_bilingue',\n",
    "    'cole_calendario', 'cole_caracter', 'cole_genero', 'cole_jornada',\n",
    "    'cole_mcpio_ubicacion', 'cole_naturaleza', 'cole_nombre_establecimiento',\n",
    "    'cole_nombre_sede', 'cole_sede_principal', 'estu_depto_presentacion',\n",
    "    'estu_depto_reside', 'estu_estadoinvestigacion', 'estu_genero',\n",
    "    'estu_mcpio_presentacion', 'estu_mcpio_reside', 'estu_nacionalidad',\n",
    "    'estu_pais_reside', 'estu_privado_libertad', 'fami_cuartoshogar',\n",
    "    'fami_educacionmadre', 'fami_educacionpadre', 'fami_estratovivienda',\n",
    "    'fami_personashogar', 'fami_tieneautomovil', 'fami_tienecomputador',\n",
    "    'fami_tieneinternet', 'fami_tienelavadora', 'desemp_ingles'\n",
    "]\n",
    "\n",
    "# Convertir a dummies y crear un nuevo DataFrame\n",
    "df_dummies = pd.get_dummies(df_1[columnas_a_convertir], drop_first=True)\n",
    "\n",
    "\n",
    "# Combinar df_1 con las columnas de dummies\n",
    "df_final = pd.concat([df_1.drop(columns=columnas_a_convertir), df_dummies], axis=1)\n",
    "\n",
    "# Mostrar el DataFrame final\n",
    "print(\"Columnas en df_final:\")\n",
    "print(df_final.columns)\n",
    "df_final.head()"
   ]
  },
  {
   "cell_type": "markdown",
   "metadata": {},
   "source": [
    "### Matriz de Autocorrelación"
   ]
  },
  {
   "cell_type": "code",
   "execution_count": null,
   "metadata": {},
   "outputs": [],
   "source": [
    "# Excluir la columna 'estu_fechanacimiento'\n",
    "df_without_date = df_final.drop(columns=['estu_fechanacimiento'])\n",
    "\n",
    "# Calcular la matriz de correlación sin incluir 'estu_fechanacimiento'\n",
    "correlation_matrix = df_without_date.corr()\n",
    "\n",
    "# Mostrar la matriz de correlación\n",
    "print(\"Matriz de correlación (sin 'estu_fechanacimiento'):\")\n",
    "print(correlation_matrix)"
   ]
  }
 ],
 "metadata": {
  "language_info": {
   "name": "python"
  }
 },
 "nbformat": 4,
 "nbformat_minor": 2
}
