{
 "cells": [
  {
   "cell_type": "markdown",
   "metadata": {},
   "source": [
    "### Modelos"
   ]
  },
  {
   "cell_type": "code",
   "execution_count": 2,
   "metadata": {},
   "outputs": [
    {
     "name": "stderr",
     "output_type": "stream",
     "text": [
      "/var/folders/3k/yvqxg5fs60x9q4t5nyz08bvc0000gn/T/ipykernel_2377/1340890804.py:35: UserWarning: Could not infer format, so each element will be parsed individually, falling back to `dateutil`. To ensure parsing is consistent and as-expected, please specify a format.\n",
      "  df_caldas = df_caldas[pd.to_datetime(df_caldas['estu_fechanacimiento'], errors='coerce').notna()]\n"
     ]
    }
   ],
   "source": [
    "import pandas as pd\n",
    "import numpy as np\n",
    "from sklearn.preprocessing import StandardScaler\n",
    "from sklearn.model_selection import train_test_split\n",
    "from sklearn.metrics import classification_report, confusion_matrix\n",
    "from imblearn.over_sampling import SMOTE\n",
    "from tensorflow.keras.models import Sequential\n",
    "from tensorflow.keras.layers import Dense\n",
    "from tensorflow.keras.optimizers import Adam\n",
    "\n",
    "# Cargar los datos\n",
    "df = pd.read_excel(\"Base_Limpia.xlsx\")\n",
    "\n",
    "# Convertir las columnas categóricas a dummies\n",
    "columnas_a_convertir = [\n",
    "    'estu_tipodocumento', 'cole_area_ubicacion', 'cole_bilingue',\n",
    "    'cole_calendario', 'cole_caracter', 'cole_genero', 'cole_jornada',\n",
    "    'cole_mcpio_ubicacion', 'cole_naturaleza', 'cole_nombre_establecimiento',\n",
    "    'cole_nombre_sede', 'cole_sede_principal', 'estu_depto_presentacion',\n",
    "    'estu_depto_reside', 'estu_estadoinvestigacion', 'estu_genero',\n",
    "    'estu_mcpio_presentacion', 'estu_mcpio_reside', 'estu_nacionalidad',\n",
    "    'estu_pais_reside', 'estu_privado_libertad', 'fami_cuartoshogar',\n",
    "    'fami_educacionmadre', 'fami_educacionpadre', 'fami_estratovivienda',\n",
    "    'fami_personashogar', 'fami_tieneautomovil', 'fami_tienecomputador',\n",
    "    'fami_tieneinternet', 'fami_tienelavadora', 'desemp_ingles'\n",
    "]\n",
    "\n",
    "df_dummies = pd.get_dummies(df[columnas_a_convertir], drop_first=True)\n",
    "\n",
    "# Combinar las columnas originales con las dummies\n",
    "df_final = pd.concat([df.drop(columns=columnas_a_convertir), df_dummies], axis=1)\n",
    "\n",
    "# Filtrar filas válidas en 'punt_global' y fechas válidas\n",
    "df_caldas = df_final[df_final['punt_global'].notna()]\n",
    "df_caldas = df_caldas[pd.to_datetime(df_caldas['estu_fechanacimiento'], errors='coerce').notna()]"
   ]
  },
  {
   "cell_type": "markdown",
   "metadata": {},
   "source": [
    "#### Iteración en MLflow"
   ]
  },
  {
   "cell_type": "code",
   "execution_count": 27,
   "metadata": {},
   "outputs": [
    {
     "name": "stdout",
     "output_type": "stream",
     "text": [
      "Total de configuraciones: 27\n"
     ]
    }
   ],
   "source": [
    "# Configuración de hiperparámetros\n",
    "num_capas = [2, 3, 4]  # Diferentes números de capas\n",
    "neuronas_por_capa = [32, 64, 128]  # Diferentes tamaños de capa\n",
    "dropout_rates = [0.2, 0.3, 0.4]  # Tasas de dropout\n",
    "configuraciones = list(product(num_capas, neuronas_por_capa, dropout_rates))\n",
    "\n",
    "print(f\"Total de configuraciones: {len(configuraciones)}\")\n"
   ]
  },
  {
   "cell_type": "code",
   "execution_count": 33,
   "metadata": {},
   "outputs": [
    {
     "name": "stdout",
     "output_type": "stream",
     "text": [
      "🏃 View run ambitious-smelt-63 at: http://127.0.0.1:5000/#/experiments/600831147481878571/runs/dd6854e7e1344dd491cc0e0bd2b9a7b4\n",
      "🧪 View experiment at: http://127.0.0.1:5000/#/experiments/600831147481878571\n"
     ]
    }
   ],
   "source": [
    "with mlflow.start_run(nested=True):\n",
    "    # Registrar parámetros, métricas, y modelos aquí\n",
    "    mlflow.log_param(\"param1\", 42)\n",
    "    mlflow.log_metric(\"accuracy\", 0.95)"
   ]
  },
  {
   "cell_type": "code",
   "execution_count": 37,
   "metadata": {},
   "outputs": [],
   "source": [
    "from sklearn.metrics import accuracy_score, precision_score, recall_score, f1_score, roc_auc_score, mean_squared_error\n",
    "import numpy as np\n",
    "\n",
    "def crear_modelo(num_capas, num_neuronas, dropout_rate, input_dim, tipo_modelo):\n",
    "    model = Sequential()\n",
    "    for _ in range(num_capas):\n",
    "        model.add(Dense(num_neuronas, activation='relu', input_dim=input_dim))\n",
    "        model.add(Dropout(dropout_rate))\n",
    "    if tipo_modelo == \"clasificación\":\n",
    "        model.add(Dense(1, activation='sigmoid'))\n",
    "        model.compile(optimizer='adam', loss='binary_crossentropy', metrics=['accuracy'])\n",
    "    elif tipo_modelo == \"regresión\":\n",
    "        model.add(Dense(1, activation='linear'))\n",
    "        model.compile(optimizer='adam', loss='mse', metrics=['mae'])\n",
    "    return model\n",
    "\n",
    "\n",
    "def entrenar_modelo(config, tipo_modelo, X_train, y_train, X_test, y_test, epochs=30):\n",
    "    num_capas, num_neuronas, dropout_rate = config\n",
    "\n",
    "    # Verificar y cerrar ejecuciones activas\n",
    "    if mlflow.active_run() is not None:\n",
    "        mlflow.end_run()\n",
    "\n",
    "    # Configurar el experimento en MLflow\n",
    "    mlflow.set_experiment(f\"Modelos {tipo_modelo}\")\n",
    "\n",
    "    with mlflow.start_run():\n",
    "        try:\n",
    "            # Crear el modelo\n",
    "            model = crear_modelo(num_capas, num_neuronas, dropout_rate, X_train.shape[1], tipo_modelo)\n",
    "\n",
    "            # Entrenar el modelo\n",
    "            model.fit(X_train, y_train, epochs=epochs, batch_size=32, validation_split=0.2, verbose=0)\n",
    "\n",
    "            # Evaluar el modelo\n",
    "            y_pred = model.predict(X_test).flatten()\n",
    "            y_pred = np.nan_to_num(y_pred)  # Manejo de valores NaN o infinitos\n",
    "\n",
    "            if tipo_modelo == \"clasificación\":\n",
    "                y_pred_binary = (y_pred > 0.5).astype(int)\n",
    "\n",
    "                # Calcular métricas de clasificación\n",
    "                accuracy = accuracy_score(y_test, y_pred_binary)\n",
    "                precision = precision_score(y_test, y_pred_binary)\n",
    "                recall = recall_score(y_test, y_pred_binary)\n",
    "                f1 = f1_score(y_test, y_pred_binary)\n",
    "                roc_auc = roc_auc_score(y_test, y_pred)\n",
    "\n",
    "                # Registrar métricas en MLflow\n",
    "                mlflow.log_metric(\"accuracy\", accuracy)\n",
    "                mlflow.log_metric(\"precision\", precision)\n",
    "                mlflow.log_metric(\"recall\", recall)\n",
    "                mlflow.log_metric(\"f1_score\", f1)\n",
    "                mlflow.log_metric(\"roc_auc\", roc_auc)\n",
    "\n",
    "                # Imprimir todas las métricas\n",
    "                print(f\"Config: {config} -> Accuracy: {accuracy:.2f}, F1 Score: {f1:.2f}, ROC AUC: {roc_auc:.2f}, Recall: {recall:.2f}\")\n",
    "\n",
    "            elif tipo_modelo == \"regresión\":\n",
    "                # Calcular métricas de regresión\n",
    "                mse = mean_squared_error(y_test, y_pred)\n",
    "                rmse = np.sqrt(mse)\n",
    "\n",
    "                # Registrar métricas en MLflow\n",
    "                mlflow.log_metric(\"mse\", mse)\n",
    "                mlflow.log_metric(\"rmse\", rmse)\n",
    "\n",
    "                # Imprimir métricas de regresión\n",
    "                print(f\"Config: {config} -> MSE: {mse:.2f}, RMSE: {rmse:.2f}\")\n",
    "\n",
    "            # Registrar hiperparámetros y el modelo\n",
    "            mlflow.log_param(\"num_capas\", num_capas)\n",
    "            mlflow.log_param(\"num_neuronas\", num_neuronas)\n",
    "            mlflow.log_param(\"dropout_rate\", dropout_rate)\n",
    "            mlflow.keras.log_model(model, f\"{tipo_modelo}_model\")\n",
    "        except Exception as e:\n",
    "            print(f\"Error durante la ejecución: {e}\")\n",
    "        finally:\n",
    "            mlflow.end_run()"
   ]
  },
  {
   "cell_type": "code",
   "execution_count": 38,
   "metadata": {},
   "outputs": [
    {
     "name": "stdout",
     "output_type": "stream",
     "text": [
      "\u001b[1m544/544\u001b[0m \u001b[32m━━━━━━━━━━━━━━━━━━━━\u001b[0m\u001b[37m\u001b[0m \u001b[1m0s\u001b[0m 288us/step\n"
     ]
    },
    {
     "name": "stderr",
     "output_type": "stream",
     "text": [
      "2024/11/28 10:50:32 WARNING mlflow.keras.save: You are saving a Keras model without specifying model signature.\n"
     ]
    },
    {
     "name": "stdout",
     "output_type": "stream",
     "text": [
      "Config: (2, 32, 0.2) -> Accuracy: 0.89, F1 Score: 0.58, ROC AUC: 0.92, Recall: 0.44\n"
     ]
    },
    {
     "name": "stderr",
     "output_type": "stream",
     "text": [
      "2024/11/28 10:50:36 WARNING mlflow.models.model: Model logged without a signature and input example. Please set `input_example` parameter when logging the model to auto infer the model signature.\n",
      "/Users/isabellacastillo/Library/Python/3.9/lib/python/site-packages/keras/src/layers/core/dense.py:87: UserWarning: Do not pass an `input_shape`/`input_dim` argument to a layer. When using Sequential models, prefer using an `Input(shape)` object as the first layer in the model instead.\n",
      "  super().__init__(activity_regularizer=activity_regularizer, **kwargs)\n"
     ]
    },
    {
     "name": "stdout",
     "output_type": "stream",
     "text": [
      "🏃 View run resilient-fowl-290 at: http://127.0.0.1:5000/#/experiments/182041493394083450/runs/0a0de309fff64fee9170ce5d92b3b652\n",
      "🧪 View experiment at: http://127.0.0.1:5000/#/experiments/182041493394083450\n",
      "\u001b[1m544/544\u001b[0m \u001b[32m━━━━━━━━━━━━━━━━━━━━\u001b[0m\u001b[37m\u001b[0m \u001b[1m0s\u001b[0m 270us/step\n"
     ]
    },
    {
     "name": "stderr",
     "output_type": "stream",
     "text": [
      "2024/11/28 10:51:02 WARNING mlflow.keras.save: You are saving a Keras model without specifying model signature.\n"
     ]
    },
    {
     "name": "stdout",
     "output_type": "stream",
     "text": [
      "Config: (2, 32, 0.3) -> Accuracy: 0.89, F1 Score: 0.61, ROC AUC: 0.92, Recall: 0.50\n"
     ]
    },
    {
     "name": "stderr",
     "output_type": "stream",
     "text": [
      "2024/11/28 10:51:05 WARNING mlflow.models.model: Model logged without a signature and input example. Please set `input_example` parameter when logging the model to auto infer the model signature.\n",
      "/Users/isabellacastillo/Library/Python/3.9/lib/python/site-packages/keras/src/layers/core/dense.py:87: UserWarning: Do not pass an `input_shape`/`input_dim` argument to a layer. When using Sequential models, prefer using an `Input(shape)` object as the first layer in the model instead.\n",
      "  super().__init__(activity_regularizer=activity_regularizer, **kwargs)\n"
     ]
    },
    {
     "name": "stdout",
     "output_type": "stream",
     "text": [
      "🏃 View run resilient-bee-126 at: http://127.0.0.1:5000/#/experiments/182041493394083450/runs/c6553c7f36804f5a9ea403cdf03036ac\n",
      "🧪 View experiment at: http://127.0.0.1:5000/#/experiments/182041493394083450\n",
      "\u001b[1m544/544\u001b[0m \u001b[32m━━━━━━━━━━━━━━━━━━━━\u001b[0m\u001b[37m\u001b[0m \u001b[1m0s\u001b[0m 268us/step\n"
     ]
    },
    {
     "name": "stderr",
     "output_type": "stream",
     "text": [
      "2024/11/28 10:51:30 WARNING mlflow.keras.save: You are saving a Keras model without specifying model signature.\n"
     ]
    },
    {
     "name": "stdout",
     "output_type": "stream",
     "text": [
      "Config: (2, 32, 0.4) -> Accuracy: 0.89, F1 Score: 0.61, ROC AUC: 0.92, Recall: 0.50\n"
     ]
    },
    {
     "name": "stderr",
     "output_type": "stream",
     "text": [
      "2024/11/28 10:51:33 WARNING mlflow.models.model: Model logged without a signature and input example. Please set `input_example` parameter when logging the model to auto infer the model signature.\n",
      "/Users/isabellacastillo/Library/Python/3.9/lib/python/site-packages/keras/src/layers/core/dense.py:87: UserWarning: Do not pass an `input_shape`/`input_dim` argument to a layer. When using Sequential models, prefer using an `Input(shape)` object as the first layer in the model instead.\n",
      "  super().__init__(activity_regularizer=activity_regularizer, **kwargs)\n"
     ]
    },
    {
     "name": "stdout",
     "output_type": "stream",
     "text": [
      "🏃 View run gregarious-stag-627 at: http://127.0.0.1:5000/#/experiments/182041493394083450/runs/7f1e7bcc2b764b4190acbbe8ec47d7ad\n",
      "🧪 View experiment at: http://127.0.0.1:5000/#/experiments/182041493394083450\n",
      "\u001b[1m544/544\u001b[0m \u001b[32m━━━━━━━━━━━━━━━━━━━━\u001b[0m\u001b[37m\u001b[0m \u001b[1m0s\u001b[0m 272us/step\n"
     ]
    },
    {
     "name": "stderr",
     "output_type": "stream",
     "text": [
      "2024/11/28 10:51:59 WARNING mlflow.keras.save: You are saving a Keras model without specifying model signature.\n"
     ]
    },
    {
     "name": "stdout",
     "output_type": "stream",
     "text": [
      "Config: (2, 64, 0.2) -> Accuracy: 0.89, F1 Score: 0.62, ROC AUC: 0.92, Recall: 0.51\n"
     ]
    },
    {
     "name": "stderr",
     "output_type": "stream",
     "text": [
      "2024/11/28 10:52:02 WARNING mlflow.models.model: Model logged without a signature and input example. Please set `input_example` parameter when logging the model to auto infer the model signature.\n",
      "/Users/isabellacastillo/Library/Python/3.9/lib/python/site-packages/keras/src/layers/core/dense.py:87: UserWarning: Do not pass an `input_shape`/`input_dim` argument to a layer. When using Sequential models, prefer using an `Input(shape)` object as the first layer in the model instead.\n",
      "  super().__init__(activity_regularizer=activity_regularizer, **kwargs)\n"
     ]
    },
    {
     "name": "stdout",
     "output_type": "stream",
     "text": [
      "🏃 View run loud-sponge-959 at: http://127.0.0.1:5000/#/experiments/182041493394083450/runs/9a23ed18169543abb707b367215f1fbc\n",
      "🧪 View experiment at: http://127.0.0.1:5000/#/experiments/182041493394083450\n",
      "\u001b[1m544/544\u001b[0m \u001b[32m━━━━━━━━━━━━━━━━━━━━\u001b[0m\u001b[37m\u001b[0m \u001b[1m0s\u001b[0m 399us/step\n"
     ]
    },
    {
     "name": "stderr",
     "output_type": "stream",
     "text": [
      "2024/11/28 10:52:30 WARNING mlflow.keras.save: You are saving a Keras model without specifying model signature.\n"
     ]
    },
    {
     "name": "stdout",
     "output_type": "stream",
     "text": [
      "Config: (2, 64, 0.3) -> Accuracy: 0.89, F1 Score: 0.62, ROC AUC: 0.92, Recall: 0.51\n"
     ]
    },
    {
     "name": "stderr",
     "output_type": "stream",
     "text": [
      "2024/11/28 10:52:35 WARNING mlflow.models.model: Model logged without a signature and input example. Please set `input_example` parameter when logging the model to auto infer the model signature.\n",
      "/Users/isabellacastillo/Library/Python/3.9/lib/python/site-packages/keras/src/layers/core/dense.py:87: UserWarning: Do not pass an `input_shape`/`input_dim` argument to a layer. When using Sequential models, prefer using an `Input(shape)` object as the first layer in the model instead.\n",
      "  super().__init__(activity_regularizer=activity_regularizer, **kwargs)\n"
     ]
    },
    {
     "name": "stdout",
     "output_type": "stream",
     "text": [
      "🏃 View run gifted-squirrel-518 at: http://127.0.0.1:5000/#/experiments/182041493394083450/runs/7e192fd00e974870a195bde9ea9f058c\n",
      "🧪 View experiment at: http://127.0.0.1:5000/#/experiments/182041493394083450\n",
      "\u001b[1m544/544\u001b[0m \u001b[32m━━━━━━━━━━━━━━━━━━━━\u001b[0m\u001b[37m\u001b[0m \u001b[1m0s\u001b[0m 268us/step\n"
     ]
    },
    {
     "name": "stderr",
     "output_type": "stream",
     "text": [
      "2024/11/28 10:53:02 WARNING mlflow.keras.save: You are saving a Keras model without specifying model signature.\n"
     ]
    },
    {
     "name": "stdout",
     "output_type": "stream",
     "text": [
      "Config: (2, 64, 0.4) -> Accuracy: 0.89, F1 Score: 0.60, ROC AUC: 0.92, Recall: 0.48\n"
     ]
    },
    {
     "name": "stderr",
     "output_type": "stream",
     "text": [
      "2024/11/28 10:53:06 WARNING mlflow.models.model: Model logged without a signature and input example. Please set `input_example` parameter when logging the model to auto infer the model signature.\n",
      "/Users/isabellacastillo/Library/Python/3.9/lib/python/site-packages/keras/src/layers/core/dense.py:87: UserWarning: Do not pass an `input_shape`/`input_dim` argument to a layer. When using Sequential models, prefer using an `Input(shape)` object as the first layer in the model instead.\n",
      "  super().__init__(activity_regularizer=activity_regularizer, **kwargs)\n"
     ]
    },
    {
     "name": "stdout",
     "output_type": "stream",
     "text": [
      "🏃 View run skittish-calf-541 at: http://127.0.0.1:5000/#/experiments/182041493394083450/runs/1048393c7bc44dc58bf02e36a3dc0ff8\n",
      "🧪 View experiment at: http://127.0.0.1:5000/#/experiments/182041493394083450\n",
      "\u001b[1m544/544\u001b[0m \u001b[32m━━━━━━━━━━━━━━━━━━━━\u001b[0m\u001b[37m\u001b[0m \u001b[1m0s\u001b[0m 289us/step\n",
      "Config: (2, 128, 0.2) -> Accuracy: 0.89, F1 Score: 0.63, ROC AUC: 0.92, Recall: 0.55\n"
     ]
    },
    {
     "name": "stderr",
     "output_type": "stream",
     "text": [
      "2024/11/28 10:53:38 WARNING mlflow.keras.save: You are saving a Keras model without specifying model signature.\n",
      "2024/11/28 10:53:41 WARNING mlflow.models.model: Model logged without a signature and input example. Please set `input_example` parameter when logging the model to auto infer the model signature.\n",
      "/Users/isabellacastillo/Library/Python/3.9/lib/python/site-packages/keras/src/layers/core/dense.py:87: UserWarning: Do not pass an `input_shape`/`input_dim` argument to a layer. When using Sequential models, prefer using an `Input(shape)` object as the first layer in the model instead.\n",
      "  super().__init__(activity_regularizer=activity_regularizer, **kwargs)\n"
     ]
    },
    {
     "name": "stdout",
     "output_type": "stream",
     "text": [
      "🏃 View run sedate-penguin-850 at: http://127.0.0.1:5000/#/experiments/182041493394083450/runs/11beb1c0807744cbac36986bea631b8c\n",
      "🧪 View experiment at: http://127.0.0.1:5000/#/experiments/182041493394083450\n",
      "\u001b[1m544/544\u001b[0m \u001b[32m━━━━━━━━━━━━━━━━━━━━\u001b[0m\u001b[37m\u001b[0m \u001b[1m0s\u001b[0m 287us/step\n"
     ]
    },
    {
     "name": "stderr",
     "output_type": "stream",
     "text": [
      "2024/11/28 10:54:12 WARNING mlflow.keras.save: You are saving a Keras model without specifying model signature.\n"
     ]
    },
    {
     "name": "stdout",
     "output_type": "stream",
     "text": [
      "Config: (2, 128, 0.3) -> Accuracy: 0.89, F1 Score: 0.57, ROC AUC: 0.92, Recall: 0.43\n"
     ]
    },
    {
     "name": "stderr",
     "output_type": "stream",
     "text": [
      "2024/11/28 10:54:15 WARNING mlflow.models.model: Model logged without a signature and input example. Please set `input_example` parameter when logging the model to auto infer the model signature.\n",
      "/Users/isabellacastillo/Library/Python/3.9/lib/python/site-packages/keras/src/layers/core/dense.py:87: UserWarning: Do not pass an `input_shape`/`input_dim` argument to a layer. When using Sequential models, prefer using an `Input(shape)` object as the first layer in the model instead.\n",
      "  super().__init__(activity_regularizer=activity_regularizer, **kwargs)\n"
     ]
    },
    {
     "name": "stdout",
     "output_type": "stream",
     "text": [
      "🏃 View run indecisive-frog-401 at: http://127.0.0.1:5000/#/experiments/182041493394083450/runs/58f91fdd52dd4726824bf8773bcfaafe\n",
      "🧪 View experiment at: http://127.0.0.1:5000/#/experiments/182041493394083450\n",
      "\u001b[1m544/544\u001b[0m \u001b[32m━━━━━━━━━━━━━━━━━━━━\u001b[0m\u001b[37m\u001b[0m \u001b[1m0s\u001b[0m 347us/step\n",
      "Config: (2, 128, 0.4) -> Accuracy: 0.89, F1 Score: 0.56, ROC AUC: 0.92, Recall: 0.42\n"
     ]
    },
    {
     "name": "stderr",
     "output_type": "stream",
     "text": [
      "2024/11/28 10:54:45 WARNING mlflow.keras.save: You are saving a Keras model without specifying model signature.\n",
      "2024/11/28 10:54:49 WARNING mlflow.models.model: Model logged without a signature and input example. Please set `input_example` parameter when logging the model to auto infer the model signature.\n",
      "/Users/isabellacastillo/Library/Python/3.9/lib/python/site-packages/keras/src/layers/core/dense.py:87: UserWarning: Do not pass an `input_shape`/`input_dim` argument to a layer. When using Sequential models, prefer using an `Input(shape)` object as the first layer in the model instead.\n",
      "  super().__init__(activity_regularizer=activity_regularizer, **kwargs)\n"
     ]
    },
    {
     "name": "stdout",
     "output_type": "stream",
     "text": [
      "🏃 View run sneaky-swan-63 at: http://127.0.0.1:5000/#/experiments/182041493394083450/runs/960c2fbd57dc484b8dc4ba2c08c43542\n",
      "🧪 View experiment at: http://127.0.0.1:5000/#/experiments/182041493394083450\n",
      "\u001b[1m544/544\u001b[0m \u001b[32m━━━━━━━━━━━━━━━━━━━━\u001b[0m\u001b[37m\u001b[0m \u001b[1m0s\u001b[0m 286us/step\n"
     ]
    },
    {
     "name": "stderr",
     "output_type": "stream",
     "text": [
      "2024/11/28 10:55:16 WARNING mlflow.keras.save: You are saving a Keras model without specifying model signature.\n"
     ]
    },
    {
     "name": "stdout",
     "output_type": "stream",
     "text": [
      "Config: (3, 32, 0.2) -> Accuracy: 0.89, F1 Score: 0.56, ROC AUC: 0.92, Recall: 0.42\n"
     ]
    },
    {
     "name": "stderr",
     "output_type": "stream",
     "text": [
      "2024/11/28 10:55:19 WARNING mlflow.models.model: Model logged without a signature and input example. Please set `input_example` parameter when logging the model to auto infer the model signature.\n",
      "/Users/isabellacastillo/Library/Python/3.9/lib/python/site-packages/keras/src/layers/core/dense.py:87: UserWarning: Do not pass an `input_shape`/`input_dim` argument to a layer. When using Sequential models, prefer using an `Input(shape)` object as the first layer in the model instead.\n",
      "  super().__init__(activity_regularizer=activity_regularizer, **kwargs)\n"
     ]
    },
    {
     "name": "stdout",
     "output_type": "stream",
     "text": [
      "🏃 View run resilient-stag-532 at: http://127.0.0.1:5000/#/experiments/182041493394083450/runs/ba71350a73da43e9ab99e636c59f4e9d\n",
      "🧪 View experiment at: http://127.0.0.1:5000/#/experiments/182041493394083450\n",
      "\u001b[1m544/544\u001b[0m \u001b[32m━━━━━━━━━━━━━━━━━━━━\u001b[0m\u001b[37m\u001b[0m \u001b[1m0s\u001b[0m 278us/step\n"
     ]
    },
    {
     "name": "stderr",
     "output_type": "stream",
     "text": [
      "2024/11/28 10:55:46 WARNING mlflow.keras.save: You are saving a Keras model without specifying model signature.\n"
     ]
    },
    {
     "name": "stdout",
     "output_type": "stream",
     "text": [
      "Config: (3, 32, 0.3) -> Accuracy: 0.89, F1 Score: 0.57, ROC AUC: 0.92, Recall: 0.43\n"
     ]
    },
    {
     "name": "stderr",
     "output_type": "stream",
     "text": [
      "2024/11/28 10:55:49 WARNING mlflow.models.model: Model logged without a signature and input example. Please set `input_example` parameter when logging the model to auto infer the model signature.\n",
      "/Users/isabellacastillo/Library/Python/3.9/lib/python/site-packages/keras/src/layers/core/dense.py:87: UserWarning: Do not pass an `input_shape`/`input_dim` argument to a layer. When using Sequential models, prefer using an `Input(shape)` object as the first layer in the model instead.\n",
      "  super().__init__(activity_regularizer=activity_regularizer, **kwargs)\n"
     ]
    },
    {
     "name": "stdout",
     "output_type": "stream",
     "text": [
      "🏃 View run unique-mole-133 at: http://127.0.0.1:5000/#/experiments/182041493394083450/runs/20b4a9a4855d44b588f40c6ac20b8bfd\n",
      "🧪 View experiment at: http://127.0.0.1:5000/#/experiments/182041493394083450\n",
      "\u001b[1m544/544\u001b[0m \u001b[32m━━━━━━━━━━━━━━━━━━━━\u001b[0m\u001b[37m\u001b[0m \u001b[1m0s\u001b[0m 282us/step\n"
     ]
    },
    {
     "name": "stderr",
     "output_type": "stream",
     "text": [
      "2024/11/28 10:56:16 WARNING mlflow.keras.save: You are saving a Keras model without specifying model signature.\n"
     ]
    },
    {
     "name": "stdout",
     "output_type": "stream",
     "text": [
      "Config: (3, 32, 0.4) -> Accuracy: 0.89, F1 Score: 0.56, ROC AUC: 0.92, Recall: 0.42\n"
     ]
    },
    {
     "name": "stderr",
     "output_type": "stream",
     "text": [
      "2024/11/28 10:56:19 WARNING mlflow.models.model: Model logged without a signature and input example. Please set `input_example` parameter when logging the model to auto infer the model signature.\n",
      "/Users/isabellacastillo/Library/Python/3.9/lib/python/site-packages/keras/src/layers/core/dense.py:87: UserWarning: Do not pass an `input_shape`/`input_dim` argument to a layer. When using Sequential models, prefer using an `Input(shape)` object as the first layer in the model instead.\n",
      "  super().__init__(activity_regularizer=activity_regularizer, **kwargs)\n"
     ]
    },
    {
     "name": "stdout",
     "output_type": "stream",
     "text": [
      "🏃 View run upset-jay-380 at: http://127.0.0.1:5000/#/experiments/182041493394083450/runs/0409b2453d0b4c86a1ca29b8267d01e7\n",
      "🧪 View experiment at: http://127.0.0.1:5000/#/experiments/182041493394083450\n",
      "\u001b[1m544/544\u001b[0m \u001b[32m━━━━━━━━━━━━━━━━━━━━\u001b[0m\u001b[37m\u001b[0m \u001b[1m0s\u001b[0m 293us/step\n"
     ]
    },
    {
     "name": "stderr",
     "output_type": "stream",
     "text": [
      "2024/11/28 10:56:48 WARNING mlflow.keras.save: You are saving a Keras model without specifying model signature.\n"
     ]
    },
    {
     "name": "stdout",
     "output_type": "stream",
     "text": [
      "Config: (3, 64, 0.2) -> Accuracy: 0.89, F1 Score: 0.61, ROC AUC: 0.92, Recall: 0.50\n"
     ]
    },
    {
     "name": "stderr",
     "output_type": "stream",
     "text": [
      "2024/11/28 10:56:51 WARNING mlflow.models.model: Model logged without a signature and input example. Please set `input_example` parameter when logging the model to auto infer the model signature.\n",
      "/Users/isabellacastillo/Library/Python/3.9/lib/python/site-packages/keras/src/layers/core/dense.py:87: UserWarning: Do not pass an `input_shape`/`input_dim` argument to a layer. When using Sequential models, prefer using an `Input(shape)` object as the first layer in the model instead.\n",
      "  super().__init__(activity_regularizer=activity_regularizer, **kwargs)\n"
     ]
    },
    {
     "name": "stdout",
     "output_type": "stream",
     "text": [
      "🏃 View run valuable-dog-569 at: http://127.0.0.1:5000/#/experiments/182041493394083450/runs/62a56dee81fd4817b9eb2199465b5a5f\n",
      "🧪 View experiment at: http://127.0.0.1:5000/#/experiments/182041493394083450\n",
      "\u001b[1m544/544\u001b[0m \u001b[32m━━━━━━━━━━━━━━━━━━━━\u001b[0m\u001b[37m\u001b[0m \u001b[1m0s\u001b[0m 288us/step\n",
      "Config: (3, 64, 0.3) -> Accuracy: 0.89, F1 Score: 0.56, ROC AUC: 0.92, Recall: 0.42\n"
     ]
    },
    {
     "name": "stderr",
     "output_type": "stream",
     "text": [
      "2024/11/28 10:57:20 WARNING mlflow.keras.save: You are saving a Keras model without specifying model signature.\n",
      "2024/11/28 10:57:23 WARNING mlflow.models.model: Model logged without a signature and input example. Please set `input_example` parameter when logging the model to auto infer the model signature.\n",
      "/Users/isabellacastillo/Library/Python/3.9/lib/python/site-packages/keras/src/layers/core/dense.py:87: UserWarning: Do not pass an `input_shape`/`input_dim` argument to a layer. When using Sequential models, prefer using an `Input(shape)` object as the first layer in the model instead.\n",
      "  super().__init__(activity_regularizer=activity_regularizer, **kwargs)\n"
     ]
    },
    {
     "name": "stdout",
     "output_type": "stream",
     "text": [
      "🏃 View run auspicious-fly-621 at: http://127.0.0.1:5000/#/experiments/182041493394083450/runs/d86492e3514143afa16e1a3ba726702b\n",
      "🧪 View experiment at: http://127.0.0.1:5000/#/experiments/182041493394083450\n",
      "\u001b[1m544/544\u001b[0m \u001b[32m━━━━━━━━━━━━━━━━━━━━\u001b[0m\u001b[37m\u001b[0m \u001b[1m0s\u001b[0m 290us/step\n"
     ]
    },
    {
     "name": "stderr",
     "output_type": "stream",
     "text": [
      "2024/11/28 10:57:51 WARNING mlflow.keras.save: You are saving a Keras model without specifying model signature.\n"
     ]
    },
    {
     "name": "stdout",
     "output_type": "stream",
     "text": [
      "Config: (3, 64, 0.4) -> Accuracy: 0.88, F1 Score: 0.57, ROC AUC: 0.92, Recall: 0.45\n"
     ]
    },
    {
     "name": "stderr",
     "output_type": "stream",
     "text": [
      "2024/11/28 10:57:54 WARNING mlflow.models.model: Model logged without a signature and input example. Please set `input_example` parameter when logging the model to auto infer the model signature.\n",
      "/Users/isabellacastillo/Library/Python/3.9/lib/python/site-packages/keras/src/layers/core/dense.py:87: UserWarning: Do not pass an `input_shape`/`input_dim` argument to a layer. When using Sequential models, prefer using an `Input(shape)` object as the first layer in the model instead.\n",
      "  super().__init__(activity_regularizer=activity_regularizer, **kwargs)\n"
     ]
    },
    {
     "name": "stdout",
     "output_type": "stream",
     "text": [
      "🏃 View run shivering-deer-932 at: http://127.0.0.1:5000/#/experiments/182041493394083450/runs/db86584e97484b49bbb3cd9fe3b6f462\n",
      "🧪 View experiment at: http://127.0.0.1:5000/#/experiments/182041493394083450\n",
      "\u001b[1m544/544\u001b[0m \u001b[32m━━━━━━━━━━━━━━━━━━━━\u001b[0m\u001b[37m\u001b[0m \u001b[1m1s\u001b[0m 2ms/step\n"
     ]
    },
    {
     "name": "stderr",
     "output_type": "stream",
     "text": [
      "2024/11/28 10:58:32 WARNING mlflow.keras.save: You are saving a Keras model without specifying model signature.\n"
     ]
    },
    {
     "name": "stdout",
     "output_type": "stream",
     "text": [
      "Config: (3, 128, 0.2) -> Accuracy: 0.89, F1 Score: 0.62, ROC AUC: 0.92, Recall: 0.54\n"
     ]
    },
    {
     "name": "stderr",
     "output_type": "stream",
     "text": [
      "2024/11/28 10:58:35 WARNING mlflow.models.model: Model logged without a signature and input example. Please set `input_example` parameter when logging the model to auto infer the model signature.\n",
      "/Users/isabellacastillo/Library/Python/3.9/lib/python/site-packages/keras/src/layers/core/dense.py:87: UserWarning: Do not pass an `input_shape`/`input_dim` argument to a layer. When using Sequential models, prefer using an `Input(shape)` object as the first layer in the model instead.\n",
      "  super().__init__(activity_regularizer=activity_regularizer, **kwargs)\n"
     ]
    },
    {
     "name": "stdout",
     "output_type": "stream",
     "text": [
      "🏃 View run exultant-smelt-16 at: http://127.0.0.1:5000/#/experiments/182041493394083450/runs/91ad28faac1e47539d5416bc588377e6\n",
      "🧪 View experiment at: http://127.0.0.1:5000/#/experiments/182041493394083450\n",
      "\u001b[1m544/544\u001b[0m \u001b[32m━━━━━━━━━━━━━━━━━━━━\u001b[0m\u001b[37m\u001b[0m \u001b[1m0s\u001b[0m 354us/step\n"
     ]
    },
    {
     "name": "stderr",
     "output_type": "stream",
     "text": [
      "2024/11/28 11:19:34 WARNING mlflow.keras.save: You are saving a Keras model without specifying model signature.\n"
     ]
    },
    {
     "name": "stdout",
     "output_type": "stream",
     "text": [
      "Config: (3, 128, 0.3) -> Accuracy: 0.89, F1 Score: 0.56, ROC AUC: 0.92, Recall: 0.42\n"
     ]
    },
    {
     "name": "stderr",
     "output_type": "stream",
     "text": [
      "2024/11/28 11:19:39 WARNING mlflow.models.model: Model logged without a signature and input example. Please set `input_example` parameter when logging the model to auto infer the model signature.\n",
      "/Users/isabellacastillo/Library/Python/3.9/lib/python/site-packages/keras/src/layers/core/dense.py:87: UserWarning: Do not pass an `input_shape`/`input_dim` argument to a layer. When using Sequential models, prefer using an `Input(shape)` object as the first layer in the model instead.\n",
      "  super().__init__(activity_regularizer=activity_regularizer, **kwargs)\n"
     ]
    },
    {
     "name": "stdout",
     "output_type": "stream",
     "text": [
      "🏃 View run defiant-asp-321 at: http://127.0.0.1:5000/#/experiments/182041493394083450/runs/53e1662ebc314aa098d06db6674a54cb\n",
      "🧪 View experiment at: http://127.0.0.1:5000/#/experiments/182041493394083450\n",
      "\u001b[1m544/544\u001b[0m \u001b[32m━━━━━━━━━━━━━━━━━━━━\u001b[0m\u001b[37m\u001b[0m \u001b[1m0s\u001b[0m 334us/step\n"
     ]
    },
    {
     "name": "stderr",
     "output_type": "stream",
     "text": [
      "2024/11/28 11:20:18 WARNING mlflow.keras.save: You are saving a Keras model without specifying model signature.\n"
     ]
    },
    {
     "name": "stdout",
     "output_type": "stream",
     "text": [
      "Config: (3, 128, 0.4) -> Accuracy: 0.89, F1 Score: 0.56, ROC AUC: 0.92, Recall: 0.42\n"
     ]
    },
    {
     "name": "stderr",
     "output_type": "stream",
     "text": [
      "2024/11/28 11:20:24 WARNING mlflow.models.model: Model logged without a signature and input example. Please set `input_example` parameter when logging the model to auto infer the model signature.\n",
      "/Users/isabellacastillo/Library/Python/3.9/lib/python/site-packages/keras/src/layers/core/dense.py:87: UserWarning: Do not pass an `input_shape`/`input_dim` argument to a layer. When using Sequential models, prefer using an `Input(shape)` object as the first layer in the model instead.\n",
      "  super().__init__(activity_regularizer=activity_regularizer, **kwargs)\n"
     ]
    },
    {
     "name": "stdout",
     "output_type": "stream",
     "text": [
      "🏃 View run honorable-vole-720 at: http://127.0.0.1:5000/#/experiments/182041493394083450/runs/3bf09c41e740465b9e8122e8c218014b\n",
      "🧪 View experiment at: http://127.0.0.1:5000/#/experiments/182041493394083450\n",
      "\u001b[1m544/544\u001b[0m \u001b[32m━━━━━━━━━━━━━━━━━━━━\u001b[0m\u001b[37m\u001b[0m \u001b[1m0s\u001b[0m 309us/step\n",
      "Config: (4, 32, 0.2) -> Accuracy: 0.89, F1 Score: 0.57, ROC AUC: 0.92, Recall: 0.43\n"
     ]
    },
    {
     "name": "stderr",
     "output_type": "stream",
     "text": [
      "2024/11/28 11:20:53 WARNING mlflow.keras.save: You are saving a Keras model without specifying model signature.\n",
      "2024/11/28 11:20:56 WARNING mlflow.models.model: Model logged without a signature and input example. Please set `input_example` parameter when logging the model to auto infer the model signature.\n",
      "/Users/isabellacastillo/Library/Python/3.9/lib/python/site-packages/keras/src/layers/core/dense.py:87: UserWarning: Do not pass an `input_shape`/`input_dim` argument to a layer. When using Sequential models, prefer using an `Input(shape)` object as the first layer in the model instead.\n",
      "  super().__init__(activity_regularizer=activity_regularizer, **kwargs)\n"
     ]
    },
    {
     "name": "stdout",
     "output_type": "stream",
     "text": [
      "🏃 View run stately-turtle-513 at: http://127.0.0.1:5000/#/experiments/182041493394083450/runs/76a8cbaa179b49a6a47d6d096f94b80c\n",
      "🧪 View experiment at: http://127.0.0.1:5000/#/experiments/182041493394083450\n",
      "\u001b[1m544/544\u001b[0m \u001b[32m━━━━━━━━━━━━━━━━━━━━\u001b[0m\u001b[37m\u001b[0m \u001b[1m0s\u001b[0m 296us/step\n"
     ]
    },
    {
     "name": "stderr",
     "output_type": "stream",
     "text": [
      "2024/11/28 11:21:24 WARNING mlflow.keras.save: You are saving a Keras model without specifying model signature.\n"
     ]
    },
    {
     "name": "stdout",
     "output_type": "stream",
     "text": [
      "Config: (4, 32, 0.3) -> Accuracy: 0.89, F1 Score: 0.57, ROC AUC: 0.92, Recall: 0.43\n"
     ]
    },
    {
     "name": "stderr",
     "output_type": "stream",
     "text": [
      "2024/11/28 11:21:27 WARNING mlflow.models.model: Model logged without a signature and input example. Please set `input_example` parameter when logging the model to auto infer the model signature.\n",
      "/Users/isabellacastillo/Library/Python/3.9/lib/python/site-packages/keras/src/layers/core/dense.py:87: UserWarning: Do not pass an `input_shape`/`input_dim` argument to a layer. When using Sequential models, prefer using an `Input(shape)` object as the first layer in the model instead.\n",
      "  super().__init__(activity_regularizer=activity_regularizer, **kwargs)\n"
     ]
    },
    {
     "name": "stdout",
     "output_type": "stream",
     "text": [
      "🏃 View run illustrious-grub-360 at: http://127.0.0.1:5000/#/experiments/182041493394083450/runs/870cb5dd4a414adba3dfdb7178b4d15d\n",
      "🧪 View experiment at: http://127.0.0.1:5000/#/experiments/182041493394083450\n",
      "\u001b[1m544/544\u001b[0m \u001b[32m━━━━━━━━━━━━━━━━━━━━\u001b[0m\u001b[37m\u001b[0m \u001b[1m0s\u001b[0m 308us/step\n"
     ]
    },
    {
     "name": "stderr",
     "output_type": "stream",
     "text": [
      "2024/11/28 11:21:57 WARNING mlflow.keras.save: You are saving a Keras model without specifying model signature.\n"
     ]
    },
    {
     "name": "stdout",
     "output_type": "stream",
     "text": [
      "Config: (4, 32, 0.4) -> Accuracy: 0.89, F1 Score: 0.56, ROC AUC: 0.92, Recall: 0.42\n"
     ]
    },
    {
     "name": "stderr",
     "output_type": "stream",
     "text": [
      "2024/11/28 11:22:00 WARNING mlflow.models.model: Model logged without a signature and input example. Please set `input_example` parameter when logging the model to auto infer the model signature.\n",
      "/Users/isabellacastillo/Library/Python/3.9/lib/python/site-packages/keras/src/layers/core/dense.py:87: UserWarning: Do not pass an `input_shape`/`input_dim` argument to a layer. When using Sequential models, prefer using an `Input(shape)` object as the first layer in the model instead.\n",
      "  super().__init__(activity_regularizer=activity_regularizer, **kwargs)\n"
     ]
    },
    {
     "name": "stdout",
     "output_type": "stream",
     "text": [
      "🏃 View run wise-mule-297 at: http://127.0.0.1:5000/#/experiments/182041493394083450/runs/1bac4b3816e245708b2e318b9a6a1c47\n",
      "🧪 View experiment at: http://127.0.0.1:5000/#/experiments/182041493394083450\n",
      "\u001b[1m544/544\u001b[0m \u001b[32m━━━━━━━━━━━━━━━━━━━━\u001b[0m\u001b[37m\u001b[0m \u001b[1m0s\u001b[0m 318us/step\n"
     ]
    },
    {
     "name": "stderr",
     "output_type": "stream",
     "text": [
      "2024/11/28 11:22:31 WARNING mlflow.keras.save: You are saving a Keras model without specifying model signature.\n"
     ]
    },
    {
     "name": "stdout",
     "output_type": "stream",
     "text": [
      "Config: (4, 64, 0.2) -> Accuracy: 0.89, F1 Score: 0.56, ROC AUC: 0.92, Recall: 0.42\n"
     ]
    },
    {
     "name": "stderr",
     "output_type": "stream",
     "text": [
      "2024/11/28 11:22:35 WARNING mlflow.models.model: Model logged without a signature and input example. Please set `input_example` parameter when logging the model to auto infer the model signature.\n",
      "/Users/isabellacastillo/Library/Python/3.9/lib/python/site-packages/keras/src/layers/core/dense.py:87: UserWarning: Do not pass an `input_shape`/`input_dim` argument to a layer. When using Sequential models, prefer using an `Input(shape)` object as the first layer in the model instead.\n",
      "  super().__init__(activity_regularizer=activity_regularizer, **kwargs)\n"
     ]
    },
    {
     "name": "stdout",
     "output_type": "stream",
     "text": [
      "🏃 View run treasured-donkey-403 at: http://127.0.0.1:5000/#/experiments/182041493394083450/runs/d9c767663ce74f11b171e4ac64d84325\n",
      "🧪 View experiment at: http://127.0.0.1:5000/#/experiments/182041493394083450\n",
      "\u001b[1m544/544\u001b[0m \u001b[32m━━━━━━━━━━━━━━━━━━━━\u001b[0m\u001b[37m\u001b[0m \u001b[1m0s\u001b[0m 372us/step\n",
      "Config: (4, 64, 0.3) -> Accuracy: 0.89, F1 Score: 0.56, ROC AUC: 0.92, Recall: 0.42\n"
     ]
    },
    {
     "name": "stderr",
     "output_type": "stream",
     "text": [
      "2024/11/28 11:26:41 WARNING mlflow.keras.save: You are saving a Keras model without specifying model signature.\n",
      "2024/11/28 11:26:46 WARNING mlflow.models.model: Model logged without a signature and input example. Please set `input_example` parameter when logging the model to auto infer the model signature.\n",
      "/Users/isabellacastillo/Library/Python/3.9/lib/python/site-packages/keras/src/layers/core/dense.py:87: UserWarning: Do not pass an `input_shape`/`input_dim` argument to a layer. When using Sequential models, prefer using an `Input(shape)` object as the first layer in the model instead.\n",
      "  super().__init__(activity_regularizer=activity_regularizer, **kwargs)\n"
     ]
    },
    {
     "name": "stdout",
     "output_type": "stream",
     "text": [
      "🏃 View run calm-crab-91 at: http://127.0.0.1:5000/#/experiments/182041493394083450/runs/4f380f7e589d48cf987074af355e6e6b\n",
      "🧪 View experiment at: http://127.0.0.1:5000/#/experiments/182041493394083450\n",
      "\u001b[1m544/544\u001b[0m \u001b[32m━━━━━━━━━━━━━━━━━━━━\u001b[0m\u001b[37m\u001b[0m \u001b[1m0s\u001b[0m 324us/step\n",
      "Config: (4, 64, 0.4) -> Accuracy: 0.89, F1 Score: 0.56, ROC AUC: 0.92, Recall: 0.42\n"
     ]
    },
    {
     "name": "stderr",
     "output_type": "stream",
     "text": [
      "2024/11/28 11:27:23 WARNING mlflow.keras.save: You are saving a Keras model without specifying model signature.\n",
      "2024/11/28 11:27:27 WARNING mlflow.models.model: Model logged without a signature and input example. Please set `input_example` parameter when logging the model to auto infer the model signature.\n",
      "/Users/isabellacastillo/Library/Python/3.9/lib/python/site-packages/keras/src/layers/core/dense.py:87: UserWarning: Do not pass an `input_shape`/`input_dim` argument to a layer. When using Sequential models, prefer using an `Input(shape)` object as the first layer in the model instead.\n",
      "  super().__init__(activity_regularizer=activity_regularizer, **kwargs)\n"
     ]
    },
    {
     "name": "stdout",
     "output_type": "stream",
     "text": [
      "🏃 View run gifted-midge-758 at: http://127.0.0.1:5000/#/experiments/182041493394083450/runs/f336b89b84294255b04fc8b1de567708\n",
      "🧪 View experiment at: http://127.0.0.1:5000/#/experiments/182041493394083450\n",
      "\u001b[1m544/544\u001b[0m \u001b[32m━━━━━━━━━━━━━━━━━━━━\u001b[0m\u001b[37m\u001b[0m \u001b[1m0s\u001b[0m 342us/step\n"
     ]
    },
    {
     "name": "stderr",
     "output_type": "stream",
     "text": [
      "2024/11/28 11:28:10 WARNING mlflow.keras.save: You are saving a Keras model without specifying model signature.\n"
     ]
    },
    {
     "name": "stdout",
     "output_type": "stream",
     "text": [
      "Config: (4, 128, 0.2) -> Accuracy: 0.89, F1 Score: 0.56, ROC AUC: 0.92, Recall: 0.42\n"
     ]
    },
    {
     "name": "stderr",
     "output_type": "stream",
     "text": [
      "2024/11/28 11:28:13 WARNING mlflow.models.model: Model logged without a signature and input example. Please set `input_example` parameter when logging the model to auto infer the model signature.\n",
      "/Users/isabellacastillo/Library/Python/3.9/lib/python/site-packages/keras/src/layers/core/dense.py:87: UserWarning: Do not pass an `input_shape`/`input_dim` argument to a layer. When using Sequential models, prefer using an `Input(shape)` object as the first layer in the model instead.\n",
      "  super().__init__(activity_regularizer=activity_regularizer, **kwargs)\n"
     ]
    },
    {
     "name": "stdout",
     "output_type": "stream",
     "text": [
      "🏃 View run stately-boar-679 at: http://127.0.0.1:5000/#/experiments/182041493394083450/runs/2358c83457bd489482602a9748d5ea5f\n",
      "🧪 View experiment at: http://127.0.0.1:5000/#/experiments/182041493394083450\n",
      "\u001b[1m544/544\u001b[0m \u001b[32m━━━━━━━━━━━━━━━━━━━━\u001b[0m\u001b[37m\u001b[0m \u001b[1m0s\u001b[0m 337us/step\n",
      "Config: (4, 128, 0.3) -> Accuracy: 0.89, F1 Score: 0.56, ROC AUC: 0.92, Recall: 0.42\n"
     ]
    },
    {
     "name": "stderr",
     "output_type": "stream",
     "text": [
      "2024/11/28 11:28:55 WARNING mlflow.keras.save: You are saving a Keras model without specifying model signature.\n",
      "2024/11/28 11:28:58 WARNING mlflow.models.model: Model logged without a signature and input example. Please set `input_example` parameter when logging the model to auto infer the model signature.\n",
      "/Users/isabellacastillo/Library/Python/3.9/lib/python/site-packages/keras/src/layers/core/dense.py:87: UserWarning: Do not pass an `input_shape`/`input_dim` argument to a layer. When using Sequential models, prefer using an `Input(shape)` object as the first layer in the model instead.\n",
      "  super().__init__(activity_regularizer=activity_regularizer, **kwargs)\n"
     ]
    },
    {
     "name": "stdout",
     "output_type": "stream",
     "text": [
      "🏃 View run victorious-fowl-164 at: http://127.0.0.1:5000/#/experiments/182041493394083450/runs/04b300d37cce42c9b90d1dfa8d56550d\n",
      "🧪 View experiment at: http://127.0.0.1:5000/#/experiments/182041493394083450\n",
      "\u001b[1m544/544\u001b[0m \u001b[32m━━━━━━━━━━━━━━━━━━━━\u001b[0m\u001b[37m\u001b[0m \u001b[1m0s\u001b[0m 338us/step\n"
     ]
    },
    {
     "name": "stderr",
     "output_type": "stream",
     "text": [
      "2024/11/28 11:29:40 WARNING mlflow.keras.save: You are saving a Keras model without specifying model signature.\n"
     ]
    },
    {
     "name": "stdout",
     "output_type": "stream",
     "text": [
      "Config: (4, 128, 0.4) -> Accuracy: 0.89, F1 Score: 0.56, ROC AUC: 0.92, Recall: 0.42\n"
     ]
    },
    {
     "name": "stderr",
     "output_type": "stream",
     "text": [
      "2024/11/28 11:29:43 WARNING mlflow.models.model: Model logged without a signature and input example. Please set `input_example` parameter when logging the model to auto infer the model signature.\n"
     ]
    },
    {
     "name": "stdout",
     "output_type": "stream",
     "text": [
      "🏃 View run abrasive-vole-940 at: http://127.0.0.1:5000/#/experiments/182041493394083450/runs/fdc78132a0f048089a31053ee6e89f38\n",
      "🧪 View experiment at: http://127.0.0.1:5000/#/experiments/182041493394083450\n"
     ]
    }
   ],
   "source": [
    "# Iterar sobre configuraciones para clasificación\n",
    "for config in configuraciones:\n",
    "    entrenar_modelo(config, \"clasificación\", X_train, y_train_class, X_test, y_test_class)"
   ]
  },
  {
   "cell_type": "code",
   "execution_count": 39,
   "metadata": {},
   "outputs": [
    {
     "name": "stderr",
     "output_type": "stream",
     "text": [
      "/Users/isabellacastillo/Library/Python/3.9/lib/python/site-packages/keras/src/layers/core/dense.py:87: UserWarning: Do not pass an `input_shape`/`input_dim` argument to a layer. When using Sequential models, prefer using an `Input(shape)` object as the first layer in the model instead.\n",
      "  super().__init__(activity_regularizer=activity_regularizer, **kwargs)\n"
     ]
    },
    {
     "name": "stdout",
     "output_type": "stream",
     "text": [
      "\u001b[1m544/544\u001b[0m \u001b[32m━━━━━━━━━━━━━━━━━━━━\u001b[0m\u001b[37m\u001b[0m \u001b[1m0s\u001b[0m 274us/step\n"
     ]
    },
    {
     "name": "stderr",
     "output_type": "stream",
     "text": [
      "2024/11/28 14:26:41 WARNING mlflow.keras.save: You are saving a Keras model without specifying model signature.\n"
     ]
    },
    {
     "name": "stdout",
     "output_type": "stream",
     "text": [
      "Config: (2, 32, 0.2) -> MSE: 1068.75, RMSE: 32.69\n"
     ]
    },
    {
     "name": "stderr",
     "output_type": "stream",
     "text": [
      "2024/11/28 14:26:46 WARNING mlflow.models.model: Model logged without a signature and input example. Please set `input_example` parameter when logging the model to auto infer the model signature.\n",
      "/Users/isabellacastillo/Library/Python/3.9/lib/python/site-packages/keras/src/layers/core/dense.py:87: UserWarning: Do not pass an `input_shape`/`input_dim` argument to a layer. When using Sequential models, prefer using an `Input(shape)` object as the first layer in the model instead.\n",
      "  super().__init__(activity_regularizer=activity_regularizer, **kwargs)\n"
     ]
    },
    {
     "name": "stdout",
     "output_type": "stream",
     "text": [
      "🏃 View run overjoyed-rook-756 at: http://127.0.0.1:5000/#/experiments/600831147481878571/runs/e86023c3de074f9ca00db81c5df3ca5c\n",
      "🧪 View experiment at: http://127.0.0.1:5000/#/experiments/600831147481878571\n",
      "\u001b[1m544/544\u001b[0m \u001b[32m━━━━━━━━━━━━━━━━━━━━\u001b[0m\u001b[37m\u001b[0m \u001b[1m0s\u001b[0m 260us/step\n"
     ]
    },
    {
     "name": "stderr",
     "output_type": "stream",
     "text": [
      "2024/11/28 14:27:09 WARNING mlflow.keras.save: You are saving a Keras model without specifying model signature.\n"
     ]
    },
    {
     "name": "stdout",
     "output_type": "stream",
     "text": [
      "Config: (2, 32, 0.3) -> MSE: 1089.99, RMSE: 33.01\n"
     ]
    },
    {
     "name": "stderr",
     "output_type": "stream",
     "text": [
      "2024/11/28 14:27:13 WARNING mlflow.models.model: Model logged without a signature and input example. Please set `input_example` parameter when logging the model to auto infer the model signature.\n",
      "/Users/isabellacastillo/Library/Python/3.9/lib/python/site-packages/keras/src/layers/core/dense.py:87: UserWarning: Do not pass an `input_shape`/`input_dim` argument to a layer. When using Sequential models, prefer using an `Input(shape)` object as the first layer in the model instead.\n",
      "  super().__init__(activity_regularizer=activity_regularizer, **kwargs)\n"
     ]
    },
    {
     "name": "stdout",
     "output_type": "stream",
     "text": [
      "🏃 View run zealous-carp-698 at: http://127.0.0.1:5000/#/experiments/600831147481878571/runs/bcce4a4ba3994236ab5d5b6f3483fc15\n",
      "🧪 View experiment at: http://127.0.0.1:5000/#/experiments/600831147481878571\n",
      "\u001b[1m544/544\u001b[0m \u001b[32m━━━━━━━━━━━━━━━━━━━━\u001b[0m\u001b[37m\u001b[0m \u001b[1m0s\u001b[0m 264us/step\n"
     ]
    },
    {
     "name": "stderr",
     "output_type": "stream",
     "text": [
      "2024/11/28 14:27:36 WARNING mlflow.keras.save: You are saving a Keras model without specifying model signature.\n"
     ]
    },
    {
     "name": "stdout",
     "output_type": "stream",
     "text": [
      "Config: (2, 32, 0.4) -> MSE: 1131.61, RMSE: 33.64\n"
     ]
    },
    {
     "name": "stderr",
     "output_type": "stream",
     "text": [
      "2024/11/28 14:27:39 WARNING mlflow.models.model: Model logged without a signature and input example. Please set `input_example` parameter when logging the model to auto infer the model signature.\n",
      "/Users/isabellacastillo/Library/Python/3.9/lib/python/site-packages/keras/src/layers/core/dense.py:87: UserWarning: Do not pass an `input_shape`/`input_dim` argument to a layer. When using Sequential models, prefer using an `Input(shape)` object as the first layer in the model instead.\n",
      "  super().__init__(activity_regularizer=activity_regularizer, **kwargs)\n"
     ]
    },
    {
     "name": "stdout",
     "output_type": "stream",
     "text": [
      "🏃 View run youthful-jay-806 at: http://127.0.0.1:5000/#/experiments/600831147481878571/runs/c823e9b963f2442b947c785a3b10735b\n",
      "🧪 View experiment at: http://127.0.0.1:5000/#/experiments/600831147481878571\n",
      "\u001b[1m544/544\u001b[0m \u001b[32m━━━━━━━━━━━━━━━━━━━━\u001b[0m\u001b[37m\u001b[0m \u001b[1m0s\u001b[0m 278us/step\n",
      "Config: (2, 64, 0.2) -> MSE: 1092.08, RMSE: 33.05\n"
     ]
    },
    {
     "name": "stderr",
     "output_type": "stream",
     "text": [
      "2024/11/28 14:28:04 WARNING mlflow.keras.save: You are saving a Keras model without specifying model signature.\n",
      "2024/11/28 14:28:07 WARNING mlflow.models.model: Model logged without a signature and input example. Please set `input_example` parameter when logging the model to auto infer the model signature.\n",
      "/Users/isabellacastillo/Library/Python/3.9/lib/python/site-packages/keras/src/layers/core/dense.py:87: UserWarning: Do not pass an `input_shape`/`input_dim` argument to a layer. When using Sequential models, prefer using an `Input(shape)` object as the first layer in the model instead.\n",
      "  super().__init__(activity_regularizer=activity_regularizer, **kwargs)\n"
     ]
    },
    {
     "name": "stdout",
     "output_type": "stream",
     "text": [
      "🏃 View run auspicious-kite-409 at: http://127.0.0.1:5000/#/experiments/600831147481878571/runs/a86944da20e94195b832961c3ba77f54\n",
      "🧪 View experiment at: http://127.0.0.1:5000/#/experiments/600831147481878571\n",
      "\u001b[1m544/544\u001b[0m \u001b[32m━━━━━━━━━━━━━━━━━━━━\u001b[0m\u001b[37m\u001b[0m \u001b[1m0s\u001b[0m 273us/step\n"
     ]
    },
    {
     "name": "stderr",
     "output_type": "stream",
     "text": [
      "2024/11/28 14:28:32 WARNING mlflow.keras.save: You are saving a Keras model without specifying model signature.\n"
     ]
    },
    {
     "name": "stdout",
     "output_type": "stream",
     "text": [
      "Config: (2, 64, 0.3) -> MSE: 1101.56, RMSE: 33.19\n"
     ]
    },
    {
     "name": "stderr",
     "output_type": "stream",
     "text": [
      "2024/11/28 14:28:36 WARNING mlflow.models.model: Model logged without a signature and input example. Please set `input_example` parameter when logging the model to auto infer the model signature.\n",
      "/Users/isabellacastillo/Library/Python/3.9/lib/python/site-packages/keras/src/layers/core/dense.py:87: UserWarning: Do not pass an `input_shape`/`input_dim` argument to a layer. When using Sequential models, prefer using an `Input(shape)` object as the first layer in the model instead.\n",
      "  super().__init__(activity_regularizer=activity_regularizer, **kwargs)\n"
     ]
    },
    {
     "name": "stdout",
     "output_type": "stream",
     "text": [
      "🏃 View run bold-squid-999 at: http://127.0.0.1:5000/#/experiments/600831147481878571/runs/b1fe87e7029d4e44819d6afc94091a12\n",
      "🧪 View experiment at: http://127.0.0.1:5000/#/experiments/600831147481878571\n",
      "\u001b[1m544/544\u001b[0m \u001b[32m━━━━━━━━━━━━━━━━━━━━\u001b[0m\u001b[37m\u001b[0m \u001b[1m0s\u001b[0m 279us/step\n",
      "Config: (2, 64, 0.4) -> MSE: 1068.52, RMSE: 32.69\n"
     ]
    },
    {
     "name": "stderr",
     "output_type": "stream",
     "text": [
      "2024/11/28 14:29:01 WARNING mlflow.keras.save: You are saving a Keras model without specifying model signature.\n",
      "2024/11/28 14:29:04 WARNING mlflow.models.model: Model logged without a signature and input example. Please set `input_example` parameter when logging the model to auto infer the model signature.\n",
      "/Users/isabellacastillo/Library/Python/3.9/lib/python/site-packages/keras/src/layers/core/dense.py:87: UserWarning: Do not pass an `input_shape`/`input_dim` argument to a layer. When using Sequential models, prefer using an `Input(shape)` object as the first layer in the model instead.\n",
      "  super().__init__(activity_regularizer=activity_regularizer, **kwargs)\n"
     ]
    },
    {
     "name": "stdout",
     "output_type": "stream",
     "text": [
      "🏃 View run stylish-crow-919 at: http://127.0.0.1:5000/#/experiments/600831147481878571/runs/e6de478cede842f6bcdd9c53db75376e\n",
      "🧪 View experiment at: http://127.0.0.1:5000/#/experiments/600831147481878571\n",
      "\u001b[1m544/544\u001b[0m \u001b[32m━━━━━━━━━━━━━━━━━━━━\u001b[0m\u001b[37m\u001b[0m \u001b[1m0s\u001b[0m 300us/step\n"
     ]
    },
    {
     "name": "stderr",
     "output_type": "stream",
     "text": [
      "2024/11/28 14:29:33 WARNING mlflow.keras.save: You are saving a Keras model without specifying model signature.\n"
     ]
    },
    {
     "name": "stdout",
     "output_type": "stream",
     "text": [
      "Config: (2, 128, 0.2) -> MSE: 1059.54, RMSE: 32.55\n"
     ]
    },
    {
     "name": "stderr",
     "output_type": "stream",
     "text": [
      "2024/11/28 14:29:37 WARNING mlflow.models.model: Model logged without a signature and input example. Please set `input_example` parameter when logging the model to auto infer the model signature.\n",
      "/Users/isabellacastillo/Library/Python/3.9/lib/python/site-packages/keras/src/layers/core/dense.py:87: UserWarning: Do not pass an `input_shape`/`input_dim` argument to a layer. When using Sequential models, prefer using an `Input(shape)` object as the first layer in the model instead.\n",
      "  super().__init__(activity_regularizer=activity_regularizer, **kwargs)\n"
     ]
    },
    {
     "name": "stdout",
     "output_type": "stream",
     "text": [
      "🏃 View run dapper-dolphin-560 at: http://127.0.0.1:5000/#/experiments/600831147481878571/runs/6c304c8a2aa940ab875a90fb4980f3c0\n",
      "🧪 View experiment at: http://127.0.0.1:5000/#/experiments/600831147481878571\n",
      "\u001b[1m544/544\u001b[0m \u001b[32m━━━━━━━━━━━━━━━━━━━━\u001b[0m\u001b[37m\u001b[0m \u001b[1m0s\u001b[0m 299us/step\n",
      "Config: (2, 128, 0.3) -> MSE: 1078.78, RMSE: 32.84\n"
     ]
    },
    {
     "name": "stderr",
     "output_type": "stream",
     "text": [
      "2024/11/28 14:30:06 WARNING mlflow.keras.save: You are saving a Keras model without specifying model signature.\n",
      "2024/11/28 14:30:09 WARNING mlflow.models.model: Model logged without a signature and input example. Please set `input_example` parameter when logging the model to auto infer the model signature.\n",
      "/Users/isabellacastillo/Library/Python/3.9/lib/python/site-packages/keras/src/layers/core/dense.py:87: UserWarning: Do not pass an `input_shape`/`input_dim` argument to a layer. When using Sequential models, prefer using an `Input(shape)` object as the first layer in the model instead.\n",
      "  super().__init__(activity_regularizer=activity_regularizer, **kwargs)\n"
     ]
    },
    {
     "name": "stdout",
     "output_type": "stream",
     "text": [
      "🏃 View run luxuriant-pug-151 at: http://127.0.0.1:5000/#/experiments/600831147481878571/runs/ead1f4da5b064ef4b668385d811e7d6c\n",
      "🧪 View experiment at: http://127.0.0.1:5000/#/experiments/600831147481878571\n",
      "\u001b[1m544/544\u001b[0m \u001b[32m━━━━━━━━━━━━━━━━━━━━\u001b[0m\u001b[37m\u001b[0m \u001b[1m0s\u001b[0m 307us/step\n"
     ]
    },
    {
     "name": "stderr",
     "output_type": "stream",
     "text": [
      "2024/11/28 14:30:42 WARNING mlflow.keras.save: You are saving a Keras model without specifying model signature.\n"
     ]
    },
    {
     "name": "stdout",
     "output_type": "stream",
     "text": [
      "Config: (2, 128, 0.4) -> MSE: 1062.83, RMSE: 32.60\n"
     ]
    },
    {
     "name": "stderr",
     "output_type": "stream",
     "text": [
      "2024/11/28 14:30:46 WARNING mlflow.models.model: Model logged without a signature and input example. Please set `input_example` parameter when logging the model to auto infer the model signature.\n",
      "/Users/isabellacastillo/Library/Python/3.9/lib/python/site-packages/keras/src/layers/core/dense.py:87: UserWarning: Do not pass an `input_shape`/`input_dim` argument to a layer. When using Sequential models, prefer using an `Input(shape)` object as the first layer in the model instead.\n",
      "  super().__init__(activity_regularizer=activity_regularizer, **kwargs)\n"
     ]
    },
    {
     "name": "stdout",
     "output_type": "stream",
     "text": [
      "🏃 View run popular-seal-144 at: http://127.0.0.1:5000/#/experiments/600831147481878571/runs/d7035c27c1d84d2cbffee03f0c7e494e\n",
      "🧪 View experiment at: http://127.0.0.1:5000/#/experiments/600831147481878571\n",
      "\u001b[1m544/544\u001b[0m \u001b[32m━━━━━━━━━━━━━━━━━━━━\u001b[0m\u001b[37m\u001b[0m \u001b[1m0s\u001b[0m 272us/step\n",
      "Config: (3, 32, 0.2) -> MSE: 1076.01, RMSE: 32.80\n"
     ]
    },
    {
     "name": "stderr",
     "output_type": "stream",
     "text": [
      "2024/11/28 14:31:13 WARNING mlflow.keras.save: You are saving a Keras model without specifying model signature.\n",
      "2024/11/28 14:31:18 WARNING mlflow.models.model: Model logged without a signature and input example. Please set `input_example` parameter when logging the model to auto infer the model signature.\n",
      "/Users/isabellacastillo/Library/Python/3.9/lib/python/site-packages/keras/src/layers/core/dense.py:87: UserWarning: Do not pass an `input_shape`/`input_dim` argument to a layer. When using Sequential models, prefer using an `Input(shape)` object as the first layer in the model instead.\n",
      "  super().__init__(activity_regularizer=activity_regularizer, **kwargs)\n"
     ]
    },
    {
     "name": "stdout",
     "output_type": "stream",
     "text": [
      "🏃 View run grandiose-chimp-229 at: http://127.0.0.1:5000/#/experiments/600831147481878571/runs/f9c6bb70e866452a9f6528fa76395f7c\n",
      "🧪 View experiment at: http://127.0.0.1:5000/#/experiments/600831147481878571\n",
      "\u001b[1m544/544\u001b[0m \u001b[32m━━━━━━━━━━━━━━━━━━━━\u001b[0m\u001b[37m\u001b[0m \u001b[1m0s\u001b[0m 287us/step\n"
     ]
    },
    {
     "name": "stderr",
     "output_type": "stream",
     "text": [
      "2024/11/28 14:31:45 WARNING mlflow.keras.save: You are saving a Keras model without specifying model signature.\n"
     ]
    },
    {
     "name": "stdout",
     "output_type": "stream",
     "text": [
      "Config: (3, 32, 0.3) -> MSE: 1098.77, RMSE: 33.15\n"
     ]
    },
    {
     "name": "stderr",
     "output_type": "stream",
     "text": [
      "2024/11/28 14:31:50 WARNING mlflow.models.model: Model logged without a signature and input example. Please set `input_example` parameter when logging the model to auto infer the model signature.\n",
      "/Users/isabellacastillo/Library/Python/3.9/lib/python/site-packages/keras/src/layers/core/dense.py:87: UserWarning: Do not pass an `input_shape`/`input_dim` argument to a layer. When using Sequential models, prefer using an `Input(shape)` object as the first layer in the model instead.\n",
      "  super().__init__(activity_regularizer=activity_regularizer, **kwargs)\n"
     ]
    },
    {
     "name": "stdout",
     "output_type": "stream",
     "text": [
      "🏃 View run marvelous-shrew-731 at: http://127.0.0.1:5000/#/experiments/600831147481878571/runs/8eb480e49b61486e8b1e0fab168152ae\n",
      "🧪 View experiment at: http://127.0.0.1:5000/#/experiments/600831147481878571\n",
      "\u001b[1m544/544\u001b[0m \u001b[32m━━━━━━━━━━━━━━━━━━━━\u001b[0m\u001b[37m\u001b[0m \u001b[1m0s\u001b[0m 389us/step\n"
     ]
    },
    {
     "name": "stderr",
     "output_type": "stream",
     "text": [
      "2024/11/28 14:32:18 WARNING mlflow.keras.save: You are saving a Keras model without specifying model signature.\n"
     ]
    },
    {
     "name": "stdout",
     "output_type": "stream",
     "text": [
      "Config: (3, 32, 0.4) -> MSE: 1182.07, RMSE: 34.38\n"
     ]
    },
    {
     "name": "stderr",
     "output_type": "stream",
     "text": [
      "2024/11/28 14:32:23 WARNING mlflow.models.model: Model logged without a signature and input example. Please set `input_example` parameter when logging the model to auto infer the model signature.\n",
      "/Users/isabellacastillo/Library/Python/3.9/lib/python/site-packages/keras/src/layers/core/dense.py:87: UserWarning: Do not pass an `input_shape`/`input_dim` argument to a layer. When using Sequential models, prefer using an `Input(shape)` object as the first layer in the model instead.\n",
      "  super().__init__(activity_regularizer=activity_regularizer, **kwargs)\n"
     ]
    },
    {
     "name": "stdout",
     "output_type": "stream",
     "text": [
      "🏃 View run loud-rat-508 at: http://127.0.0.1:5000/#/experiments/600831147481878571/runs/a65098b1ca2c43a3b62f04d3e82a9d5a\n",
      "🧪 View experiment at: http://127.0.0.1:5000/#/experiments/600831147481878571\n",
      "\u001b[1m544/544\u001b[0m \u001b[32m━━━━━━━━━━━━━━━━━━━━\u001b[0m\u001b[37m\u001b[0m \u001b[1m0s\u001b[0m 402us/step\n",
      "Config: (3, 64, 0.2) -> MSE: 1053.12, RMSE: 32.45\n"
     ]
    },
    {
     "name": "stderr",
     "output_type": "stream",
     "text": [
      "2024/11/28 14:32:52 WARNING mlflow.keras.save: You are saving a Keras model without specifying model signature.\n",
      "2024/11/28 14:32:57 WARNING mlflow.models.model: Model logged without a signature and input example. Please set `input_example` parameter when logging the model to auto infer the model signature.\n",
      "/Users/isabellacastillo/Library/Python/3.9/lib/python/site-packages/keras/src/layers/core/dense.py:87: UserWarning: Do not pass an `input_shape`/`input_dim` argument to a layer. When using Sequential models, prefer using an `Input(shape)` object as the first layer in the model instead.\n",
      "  super().__init__(activity_regularizer=activity_regularizer, **kwargs)\n"
     ]
    },
    {
     "name": "stdout",
     "output_type": "stream",
     "text": [
      "🏃 View run bald-grouse-395 at: http://127.0.0.1:5000/#/experiments/600831147481878571/runs/8e9ab8f294d84cd6864870acab3e307b\n",
      "🧪 View experiment at: http://127.0.0.1:5000/#/experiments/600831147481878571\n",
      "\u001b[1m544/544\u001b[0m \u001b[32m━━━━━━━━━━━━━━━━━━━━\u001b[0m\u001b[37m\u001b[0m \u001b[1m0s\u001b[0m 300us/step\n",
      "Config: (3, 64, 0.3) -> MSE: 1071.61, RMSE: 32.74\n"
     ]
    },
    {
     "name": "stderr",
     "output_type": "stream",
     "text": [
      "2024/11/28 14:33:25 WARNING mlflow.keras.save: You are saving a Keras model without specifying model signature.\n",
      "2024/11/28 14:33:28 WARNING mlflow.models.model: Model logged without a signature and input example. Please set `input_example` parameter when logging the model to auto infer the model signature.\n",
      "/Users/isabellacastillo/Library/Python/3.9/lib/python/site-packages/keras/src/layers/core/dense.py:87: UserWarning: Do not pass an `input_shape`/`input_dim` argument to a layer. When using Sequential models, prefer using an `Input(shape)` object as the first layer in the model instead.\n",
      "  super().__init__(activity_regularizer=activity_regularizer, **kwargs)\n"
     ]
    },
    {
     "name": "stdout",
     "output_type": "stream",
     "text": [
      "🏃 View run wise-hare-598 at: http://127.0.0.1:5000/#/experiments/600831147481878571/runs/d86664247d574290af76a42b5e4b54e7\n",
      "🧪 View experiment at: http://127.0.0.1:5000/#/experiments/600831147481878571\n",
      "\u001b[1m544/544\u001b[0m \u001b[32m━━━━━━━━━━━━━━━━━━━━\u001b[0m\u001b[37m\u001b[0m \u001b[1m0s\u001b[0m 283us/step\n"
     ]
    },
    {
     "name": "stderr",
     "output_type": "stream",
     "text": [
      "2024/11/28 14:33:56 WARNING mlflow.keras.save: You are saving a Keras model without specifying model signature.\n"
     ]
    },
    {
     "name": "stdout",
     "output_type": "stream",
     "text": [
      "Config: (3, 64, 0.4) -> MSE: 1082.94, RMSE: 32.91\n"
     ]
    },
    {
     "name": "stderr",
     "output_type": "stream",
     "text": [
      "2024/11/28 14:33:59 WARNING mlflow.models.model: Model logged without a signature and input example. Please set `input_example` parameter when logging the model to auto infer the model signature.\n",
      "/Users/isabellacastillo/Library/Python/3.9/lib/python/site-packages/keras/src/layers/core/dense.py:87: UserWarning: Do not pass an `input_shape`/`input_dim` argument to a layer. When using Sequential models, prefer using an `Input(shape)` object as the first layer in the model instead.\n",
      "  super().__init__(activity_regularizer=activity_regularizer, **kwargs)\n"
     ]
    },
    {
     "name": "stdout",
     "output_type": "stream",
     "text": [
      "🏃 View run wise-gull-112 at: http://127.0.0.1:5000/#/experiments/600831147481878571/runs/86259fdef97a4657816cd98c362ca20a\n",
      "🧪 View experiment at: http://127.0.0.1:5000/#/experiments/600831147481878571\n",
      "\u001b[1m544/544\u001b[0m \u001b[32m━━━━━━━━━━━━━━━━━━━━\u001b[0m\u001b[37m\u001b[0m \u001b[1m0s\u001b[0m 324us/step\n"
     ]
    },
    {
     "name": "stderr",
     "output_type": "stream",
     "text": [
      "2024/11/28 14:34:36 WARNING mlflow.keras.save: You are saving a Keras model without specifying model signature.\n"
     ]
    },
    {
     "name": "stdout",
     "output_type": "stream",
     "text": [
      "Config: (3, 128, 0.2) -> MSE: 1059.68, RMSE: 32.55\n"
     ]
    },
    {
     "name": "stderr",
     "output_type": "stream",
     "text": [
      "2024/11/28 14:34:40 WARNING mlflow.models.model: Model logged without a signature and input example. Please set `input_example` parameter when logging the model to auto infer the model signature.\n",
      "/Users/isabellacastillo/Library/Python/3.9/lib/python/site-packages/keras/src/layers/core/dense.py:87: UserWarning: Do not pass an `input_shape`/`input_dim` argument to a layer. When using Sequential models, prefer using an `Input(shape)` object as the first layer in the model instead.\n",
      "  super().__init__(activity_regularizer=activity_regularizer, **kwargs)\n"
     ]
    },
    {
     "name": "stdout",
     "output_type": "stream",
     "text": [
      "🏃 View run traveling-roo-41 at: http://127.0.0.1:5000/#/experiments/600831147481878571/runs/0becb91169fa47d2944f5e08ce16d355\n",
      "🧪 View experiment at: http://127.0.0.1:5000/#/experiments/600831147481878571\n",
      "\u001b[1m544/544\u001b[0m \u001b[32m━━━━━━━━━━━━━━━━━━━━\u001b[0m\u001b[37m\u001b[0m \u001b[1m0s\u001b[0m 323us/step\n",
      "Config: (3, 128, 0.3) -> MSE: 1086.30, RMSE: 32.96\n"
     ]
    },
    {
     "name": "stderr",
     "output_type": "stream",
     "text": [
      "2024/11/28 14:35:17 WARNING mlflow.keras.save: You are saving a Keras model without specifying model signature.\n",
      "2024/11/28 14:35:22 WARNING mlflow.models.model: Model logged without a signature and input example. Please set `input_example` parameter when logging the model to auto infer the model signature.\n",
      "/Users/isabellacastillo/Library/Python/3.9/lib/python/site-packages/keras/src/layers/core/dense.py:87: UserWarning: Do not pass an `input_shape`/`input_dim` argument to a layer. When using Sequential models, prefer using an `Input(shape)` object as the first layer in the model instead.\n",
      "  super().__init__(activity_regularizer=activity_regularizer, **kwargs)\n"
     ]
    },
    {
     "name": "stdout",
     "output_type": "stream",
     "text": [
      "🏃 View run industrious-ape-144 at: http://127.0.0.1:5000/#/experiments/600831147481878571/runs/8624ce81361a40f1a65d86aba0487885\n",
      "🧪 View experiment at: http://127.0.0.1:5000/#/experiments/600831147481878571\n",
      "\u001b[1m544/544\u001b[0m \u001b[32m━━━━━━━━━━━━━━━━━━━━\u001b[0m\u001b[37m\u001b[0m \u001b[1m0s\u001b[0m 352us/step\n"
     ]
    },
    {
     "name": "stderr",
     "output_type": "stream",
     "text": [
      "2024/11/28 14:35:57 WARNING mlflow.keras.save: You are saving a Keras model without specifying model signature.\n"
     ]
    },
    {
     "name": "stdout",
     "output_type": "stream",
     "text": [
      "Config: (3, 128, 0.4) -> MSE: 1089.49, RMSE: 33.01\n"
     ]
    },
    {
     "name": "stderr",
     "output_type": "stream",
     "text": [
      "2024/11/28 14:36:01 WARNING mlflow.models.model: Model logged without a signature and input example. Please set `input_example` parameter when logging the model to auto infer the model signature.\n",
      "/Users/isabellacastillo/Library/Python/3.9/lib/python/site-packages/keras/src/layers/core/dense.py:87: UserWarning: Do not pass an `input_shape`/`input_dim` argument to a layer. When using Sequential models, prefer using an `Input(shape)` object as the first layer in the model instead.\n",
      "  super().__init__(activity_regularizer=activity_regularizer, **kwargs)\n"
     ]
    },
    {
     "name": "stdout",
     "output_type": "stream",
     "text": [
      "🏃 View run delicate-shrew-412 at: http://127.0.0.1:5000/#/experiments/600831147481878571/runs/31bdc1b4bbfb48a78fb50868860b9239\n",
      "🧪 View experiment at: http://127.0.0.1:5000/#/experiments/600831147481878571\n",
      "\u001b[1m544/544\u001b[0m \u001b[32m━━━━━━━━━━━━━━━━━━━━\u001b[0m\u001b[37m\u001b[0m \u001b[1m0s\u001b[0m 306us/step\n"
     ]
    },
    {
     "name": "stderr",
     "output_type": "stream",
     "text": [
      "2024/11/28 14:36:28 WARNING mlflow.keras.save: You are saving a Keras model without specifying model signature.\n"
     ]
    },
    {
     "name": "stdout",
     "output_type": "stream",
     "text": [
      "Config: (4, 32, 0.2) -> MSE: 1068.01, RMSE: 32.68\n"
     ]
    },
    {
     "name": "stderr",
     "output_type": "stream",
     "text": [
      "2024/11/28 14:36:32 WARNING mlflow.models.model: Model logged without a signature and input example. Please set `input_example` parameter when logging the model to auto infer the model signature.\n",
      "/Users/isabellacastillo/Library/Python/3.9/lib/python/site-packages/keras/src/layers/core/dense.py:87: UserWarning: Do not pass an `input_shape`/`input_dim` argument to a layer. When using Sequential models, prefer using an `Input(shape)` object as the first layer in the model instead.\n",
      "  super().__init__(activity_regularizer=activity_regularizer, **kwargs)\n"
     ]
    },
    {
     "name": "stdout",
     "output_type": "stream",
     "text": [
      "🏃 View run nervous-crab-222 at: http://127.0.0.1:5000/#/experiments/600831147481878571/runs/497c40606c6a4772a7ce0085d1d9e5b9\n",
      "🧪 View experiment at: http://127.0.0.1:5000/#/experiments/600831147481878571\n",
      "\u001b[1m544/544\u001b[0m \u001b[32m━━━━━━━━━━━━━━━━━━━━\u001b[0m\u001b[37m\u001b[0m \u001b[1m0s\u001b[0m 331us/step\n"
     ]
    },
    {
     "name": "stderr",
     "output_type": "stream",
     "text": [
      "2024/11/28 14:36:59 WARNING mlflow.keras.save: You are saving a Keras model without specifying model signature.\n"
     ]
    },
    {
     "name": "stdout",
     "output_type": "stream",
     "text": [
      "Config: (4, 32, 0.3) -> MSE: 1078.39, RMSE: 32.84\n"
     ]
    },
    {
     "name": "stderr",
     "output_type": "stream",
     "text": [
      "2024/11/28 14:37:03 WARNING mlflow.models.model: Model logged without a signature and input example. Please set `input_example` parameter when logging the model to auto infer the model signature.\n",
      "/Users/isabellacastillo/Library/Python/3.9/lib/python/site-packages/keras/src/layers/core/dense.py:87: UserWarning: Do not pass an `input_shape`/`input_dim` argument to a layer. When using Sequential models, prefer using an `Input(shape)` object as the first layer in the model instead.\n",
      "  super().__init__(activity_regularizer=activity_regularizer, **kwargs)\n"
     ]
    },
    {
     "name": "stdout",
     "output_type": "stream",
     "text": [
      "🏃 View run fun-colt-248 at: http://127.0.0.1:5000/#/experiments/600831147481878571/runs/a6f010828aa7493faa711a4eaed141a0\n",
      "🧪 View experiment at: http://127.0.0.1:5000/#/experiments/600831147481878571\n",
      "\u001b[1m544/544\u001b[0m \u001b[32m━━━━━━━━━━━━━━━━━━━━\u001b[0m\u001b[37m\u001b[0m \u001b[1m0s\u001b[0m 326us/step\n"
     ]
    },
    {
     "name": "stderr",
     "output_type": "stream",
     "text": [
      "2024/11/28 14:37:32 WARNING mlflow.keras.save: You are saving a Keras model without specifying model signature.\n"
     ]
    },
    {
     "name": "stdout",
     "output_type": "stream",
     "text": [
      "Config: (4, 32, 0.4) -> MSE: 1127.80, RMSE: 33.58\n"
     ]
    },
    {
     "name": "stderr",
     "output_type": "stream",
     "text": [
      "2024/11/28 14:37:36 WARNING mlflow.models.model: Model logged without a signature and input example. Please set `input_example` parameter when logging the model to auto infer the model signature.\n",
      "/Users/isabellacastillo/Library/Python/3.9/lib/python/site-packages/keras/src/layers/core/dense.py:87: UserWarning: Do not pass an `input_shape`/`input_dim` argument to a layer. When using Sequential models, prefer using an `Input(shape)` object as the first layer in the model instead.\n",
      "  super().__init__(activity_regularizer=activity_regularizer, **kwargs)\n"
     ]
    },
    {
     "name": "stdout",
     "output_type": "stream",
     "text": [
      "🏃 View run redolent-shrimp-868 at: http://127.0.0.1:5000/#/experiments/600831147481878571/runs/f63a923b931f4872a86ecf4db109c209\n",
      "🧪 View experiment at: http://127.0.0.1:5000/#/experiments/600831147481878571\n",
      "\u001b[1m544/544\u001b[0m \u001b[32m━━━━━━━━━━━━━━━━━━━━\u001b[0m\u001b[37m\u001b[0m \u001b[1m0s\u001b[0m 323us/step\n"
     ]
    },
    {
     "name": "stderr",
     "output_type": "stream",
     "text": [
      "2024/11/28 14:38:07 WARNING mlflow.keras.save: You are saving a Keras model without specifying model signature.\n"
     ]
    },
    {
     "name": "stdout",
     "output_type": "stream",
     "text": [
      "Config: (4, 64, 0.2) -> MSE: 1060.04, RMSE: 32.56\n"
     ]
    },
    {
     "name": "stderr",
     "output_type": "stream",
     "text": [
      "2024/11/28 14:38:10 WARNING mlflow.models.model: Model logged without a signature and input example. Please set `input_example` parameter when logging the model to auto infer the model signature.\n",
      "/Users/isabellacastillo/Library/Python/3.9/lib/python/site-packages/keras/src/layers/core/dense.py:87: UserWarning: Do not pass an `input_shape`/`input_dim` argument to a layer. When using Sequential models, prefer using an `Input(shape)` object as the first layer in the model instead.\n",
      "  super().__init__(activity_regularizer=activity_regularizer, **kwargs)\n"
     ]
    },
    {
     "name": "stdout",
     "output_type": "stream",
     "text": [
      "🏃 View run chill-hare-137 at: http://127.0.0.1:5000/#/experiments/600831147481878571/runs/0e68886a274d41749f4f3416d8627772\n",
      "🧪 View experiment at: http://127.0.0.1:5000/#/experiments/600831147481878571\n",
      "\u001b[1m544/544\u001b[0m \u001b[32m━━━━━━━━━━━━━━━━━━━━\u001b[0m\u001b[37m\u001b[0m \u001b[1m0s\u001b[0m 330us/step\n"
     ]
    },
    {
     "name": "stderr",
     "output_type": "stream",
     "text": [
      "2024/11/28 14:38:42 WARNING mlflow.keras.save: You are saving a Keras model without specifying model signature.\n"
     ]
    },
    {
     "name": "stdout",
     "output_type": "stream",
     "text": [
      "Config: (4, 64, 0.3) -> MSE: 1078.38, RMSE: 32.84\n"
     ]
    },
    {
     "name": "stderr",
     "output_type": "stream",
     "text": [
      "2024/11/28 14:38:46 WARNING mlflow.models.model: Model logged without a signature and input example. Please set `input_example` parameter when logging the model to auto infer the model signature.\n",
      "/Users/isabellacastillo/Library/Python/3.9/lib/python/site-packages/keras/src/layers/core/dense.py:87: UserWarning: Do not pass an `input_shape`/`input_dim` argument to a layer. When using Sequential models, prefer using an `Input(shape)` object as the first layer in the model instead.\n",
      "  super().__init__(activity_regularizer=activity_regularizer, **kwargs)\n"
     ]
    },
    {
     "name": "stdout",
     "output_type": "stream",
     "text": [
      "🏃 View run chill-loon-962 at: http://127.0.0.1:5000/#/experiments/600831147481878571/runs/98c657a4ba0245d5aa2a3c36acb3e466\n",
      "🧪 View experiment at: http://127.0.0.1:5000/#/experiments/600831147481878571\n",
      "\u001b[1m544/544\u001b[0m \u001b[32m━━━━━━━━━━━━━━━━━━━━\u001b[0m\u001b[37m\u001b[0m \u001b[1m0s\u001b[0m 321us/step\n"
     ]
    },
    {
     "name": "stderr",
     "output_type": "stream",
     "text": [
      "2024/11/28 14:39:19 WARNING mlflow.keras.save: You are saving a Keras model without specifying model signature.\n"
     ]
    },
    {
     "name": "stdout",
     "output_type": "stream",
     "text": [
      "Config: (4, 64, 0.4) -> MSE: 1077.68, RMSE: 32.83\n"
     ]
    },
    {
     "name": "stderr",
     "output_type": "stream",
     "text": [
      "2024/11/28 14:39:24 WARNING mlflow.models.model: Model logged without a signature and input example. Please set `input_example` parameter when logging the model to auto infer the model signature.\n",
      "/Users/isabellacastillo/Library/Python/3.9/lib/python/site-packages/keras/src/layers/core/dense.py:87: UserWarning: Do not pass an `input_shape`/`input_dim` argument to a layer. When using Sequential models, prefer using an `Input(shape)` object as the first layer in the model instead.\n",
      "  super().__init__(activity_regularizer=activity_regularizer, **kwargs)\n"
     ]
    },
    {
     "name": "stdout",
     "output_type": "stream",
     "text": [
      "🏃 View run capricious-cow-178 at: http://127.0.0.1:5000/#/experiments/600831147481878571/runs/78a625053c6944208e9ba7f13ef9af1c\n",
      "🧪 View experiment at: http://127.0.0.1:5000/#/experiments/600831147481878571\n",
      "\u001b[1m544/544\u001b[0m \u001b[32m━━━━━━━━━━━━━━━━━━━━\u001b[0m\u001b[37m\u001b[0m \u001b[1m0s\u001b[0m 350us/step\n",
      "Config: (4, 128, 0.2) -> MSE: 1057.69, RMSE: 32.52\n"
     ]
    },
    {
     "name": "stderr",
     "output_type": "stream",
     "text": [
      "2024/11/28 14:40:07 WARNING mlflow.keras.save: You are saving a Keras model without specifying model signature.\n",
      "2024/11/28 14:40:11 WARNING mlflow.models.model: Model logged without a signature and input example. Please set `input_example` parameter when logging the model to auto infer the model signature.\n",
      "/Users/isabellacastillo/Library/Python/3.9/lib/python/site-packages/keras/src/layers/core/dense.py:87: UserWarning: Do not pass an `input_shape`/`input_dim` argument to a layer. When using Sequential models, prefer using an `Input(shape)` object as the first layer in the model instead.\n",
      "  super().__init__(activity_regularizer=activity_regularizer, **kwargs)\n"
     ]
    },
    {
     "name": "stdout",
     "output_type": "stream",
     "text": [
      "🏃 View run nervous-mare-474 at: http://127.0.0.1:5000/#/experiments/600831147481878571/runs/976a2c880d6344db8137fa6821b571c1\n",
      "🧪 View experiment at: http://127.0.0.1:5000/#/experiments/600831147481878571\n",
      "\u001b[1m544/544\u001b[0m \u001b[32m━━━━━━━━━━━━━━━━━━━━\u001b[0m\u001b[37m\u001b[0m \u001b[1m0s\u001b[0m 391us/step\n",
      "Config: (4, 128, 0.3) -> MSE: 1061.64, RMSE: 32.58\n"
     ]
    },
    {
     "name": "stderr",
     "output_type": "stream",
     "text": [
      "2024/11/28 14:40:54 WARNING mlflow.keras.save: You are saving a Keras model without specifying model signature.\n",
      "2024/11/28 14:40:58 WARNING mlflow.models.model: Model logged without a signature and input example. Please set `input_example` parameter when logging the model to auto infer the model signature.\n",
      "/Users/isabellacastillo/Library/Python/3.9/lib/python/site-packages/keras/src/layers/core/dense.py:87: UserWarning: Do not pass an `input_shape`/`input_dim` argument to a layer. When using Sequential models, prefer using an `Input(shape)` object as the first layer in the model instead.\n",
      "  super().__init__(activity_regularizer=activity_regularizer, **kwargs)\n"
     ]
    },
    {
     "name": "stdout",
     "output_type": "stream",
     "text": [
      "🏃 View run skittish-bass-698 at: http://127.0.0.1:5000/#/experiments/600831147481878571/runs/0a79abf1f03345e5b995677e1f2e8367\n",
      "🧪 View experiment at: http://127.0.0.1:5000/#/experiments/600831147481878571\n",
      "\u001b[1m544/544\u001b[0m \u001b[32m━━━━━━━━━━━━━━━━━━━━\u001b[0m\u001b[37m\u001b[0m \u001b[1m0s\u001b[0m 345us/step\n"
     ]
    },
    {
     "name": "stderr",
     "output_type": "stream",
     "text": [
      "2024/11/28 14:41:42 WARNING mlflow.keras.save: You are saving a Keras model without specifying model signature.\n"
     ]
    },
    {
     "name": "stdout",
     "output_type": "stream",
     "text": [
      "Config: (4, 128, 0.4) -> MSE: 1093.24, RMSE: 33.06\n"
     ]
    },
    {
     "name": "stderr",
     "output_type": "stream",
     "text": [
      "2024/11/28 14:41:47 WARNING mlflow.models.model: Model logged without a signature and input example. Please set `input_example` parameter when logging the model to auto infer the model signature.\n"
     ]
    },
    {
     "name": "stdout",
     "output_type": "stream",
     "text": [
      "🏃 View run salty-foal-709 at: http://127.0.0.1:5000/#/experiments/600831147481878571/runs/9134345766dd45048709a180b26be61c\n",
      "🧪 View experiment at: http://127.0.0.1:5000/#/experiments/600831147481878571\n"
     ]
    }
   ],
   "source": [
    "# Iterar sobre configuraciones para regresión\n",
    "for config in configuraciones:\n",
    "    entrenar_modelo(config, \"regresión\", X_train, y_train_reg, X_test, y_test_reg)\n"
   ]
  },
  {
   "cell_type": "markdown",
   "metadata": {},
   "source": [
    "### Modelo de Clasificación"
   ]
  },
  {
   "cell_type": "markdown",
   "metadata": {},
   "source": [
    "### Oversampling"
   ]
  },
  {
   "cell_type": "code",
   "execution_count": 6,
   "metadata": {},
   "outputs": [
    {
     "name": "stderr",
     "output_type": "stream",
     "text": [
      "/var/folders/3k/yvqxg5fs60x9q4t5nyz08bvc0000gn/T/ipykernel_2377/1111585453.py:35: UserWarning: Could not infer format, so each element will be parsed individually, falling back to `dateutil`. To ensure parsing is consistent and as-expected, please specify a format.\n",
      "  df_caldas = df_caldas[pd.to_datetime(df_caldas['estu_fechanacimiento'], errors='coerce').notna()]\n",
      "/var/folders/3k/yvqxg5fs60x9q4t5nyz08bvc0000gn/T/ipykernel_2377/1111585453.py:38: UserWarning: Could not infer format, so each element will be parsed individually, falling back to `dateutil`. To ensure parsing is consistent and as-expected, please specify a format.\n",
      "  df_caldas['edad'] = 2024 - pd.to_datetime(df_caldas['estu_fechanacimiento']).dt.year\n"
     ]
    },
    {
     "name": "stdout",
     "output_type": "stream",
     "text": [
      "Epoch 1/50\n"
     ]
    },
    {
     "name": "stderr",
     "output_type": "stream",
     "text": [
      "/Users/isabellacastillo/Library/Python/3.9/lib/python/site-packages/keras/src/layers/core/dense.py:87: UserWarning: Do not pass an `input_shape`/`input_dim` argument to a layer. When using Sequential models, prefer using an `Input(shape)` object as the first layer in the model instead.\n",
      "  super().__init__(activity_regularizer=activity_regularizer, **kwargs)\n"
     ]
    },
    {
     "name": "stdout",
     "output_type": "stream",
     "text": [
      "\u001b[1m3602/3602\u001b[0m \u001b[32m━━━━━━━━━━━━━━━━━━━━\u001b[0m\u001b[37m\u001b[0m \u001b[1m2s\u001b[0m 368us/step - AUC: 0.8828 - loss: 0.4187\n",
      "Epoch 2/50\n",
      "\u001b[1m3602/3602\u001b[0m \u001b[32m━━━━━━━━━━━━━━━━━━━━\u001b[0m\u001b[37m\u001b[0m \u001b[1m1s\u001b[0m 364us/step - AUC: 0.9118 - loss: 0.3724\n",
      "Epoch 3/50\n",
      "\u001b[1m3602/3602\u001b[0m \u001b[32m━━━━━━━━━━━━━━━━━━━━\u001b[0m\u001b[37m\u001b[0m \u001b[1m1s\u001b[0m 375us/step - AUC: 0.9135 - loss: 0.3692\n",
      "Epoch 4/50\n",
      "\u001b[1m3602/3602\u001b[0m \u001b[32m━━━━━━━━━━━━━━━━━━━━\u001b[0m\u001b[37m\u001b[0m \u001b[1m1s\u001b[0m 364us/step - AUC: 0.9152 - loss: 0.3655\n",
      "Epoch 5/50\n",
      "\u001b[1m3602/3602\u001b[0m \u001b[32m━━━━━━━━━━━━━━━━━━━━\u001b[0m\u001b[37m\u001b[0m \u001b[1m1s\u001b[0m 368us/step - AUC: 0.9146 - loss: 0.3669\n",
      "Epoch 6/50\n",
      "\u001b[1m3602/3602\u001b[0m \u001b[32m━━━━━━━━━━━━━━━━━━━━\u001b[0m\u001b[37m\u001b[0m \u001b[1m1s\u001b[0m 365us/step - AUC: 0.9137 - loss: 0.3691\n",
      "Epoch 7/50\n",
      "\u001b[1m3602/3602\u001b[0m \u001b[32m━━━━━━━━━━━━━━━━━━━━\u001b[0m\u001b[37m\u001b[0m \u001b[1m1s\u001b[0m 372us/step - AUC: 0.9147 - loss: 0.3661\n",
      "Epoch 8/50\n",
      "\u001b[1m3602/3602\u001b[0m \u001b[32m━━━━━━━━━━━━━━━━━━━━\u001b[0m\u001b[37m\u001b[0m \u001b[1m1s\u001b[0m 366us/step - AUC: 0.9151 - loss: 0.3657\n",
      "Epoch 9/50\n",
      "\u001b[1m3602/3602\u001b[0m \u001b[32m━━━━━━━━━━━━━━━━━━━━\u001b[0m\u001b[37m\u001b[0m \u001b[1m1s\u001b[0m 362us/step - AUC: 0.9158 - loss: 0.3645\n",
      "Epoch 10/50\n",
      "\u001b[1m3602/3602\u001b[0m \u001b[32m━━━━━━━━━━━━━━━━━━━━\u001b[0m\u001b[37m\u001b[0m \u001b[1m1s\u001b[0m 365us/step - AUC: 0.9163 - loss: 0.3636\n",
      "Epoch 11/50\n",
      "\u001b[1m3602/3602\u001b[0m \u001b[32m━━━━━━━━━━━━━━━━━━━━\u001b[0m\u001b[37m\u001b[0m \u001b[1m1s\u001b[0m 363us/step - AUC: 0.9160 - loss: 0.3640\n",
      "Epoch 12/50\n",
      "\u001b[1m3602/3602\u001b[0m \u001b[32m━━━━━━━━━━━━━━━━━━━━\u001b[0m\u001b[37m\u001b[0m \u001b[1m1s\u001b[0m 366us/step - AUC: 0.9168 - loss: 0.3626\n",
      "Epoch 13/50\n",
      "\u001b[1m3602/3602\u001b[0m \u001b[32m━━━━━━━━━━━━━━━━━━━━\u001b[0m\u001b[37m\u001b[0m \u001b[1m1s\u001b[0m 372us/step - AUC: 0.9165 - loss: 0.3632\n",
      "Epoch 14/50\n",
      "\u001b[1m3602/3602\u001b[0m \u001b[32m━━━━━━━━━━━━━━━━━━━━\u001b[0m\u001b[37m\u001b[0m \u001b[1m1s\u001b[0m 363us/step - AUC: 0.9158 - loss: 0.3647\n",
      "Epoch 15/50\n",
      "\u001b[1m3602/3602\u001b[0m \u001b[32m━━━━━━━━━━━━━━━━━━━━\u001b[0m\u001b[37m\u001b[0m \u001b[1m1s\u001b[0m 364us/step - AUC: 0.9176 - loss: 0.3606\n",
      "Epoch 16/50\n",
      "\u001b[1m3602/3602\u001b[0m \u001b[32m━━━━━━━━━━━━━━━━━━━━\u001b[0m\u001b[37m\u001b[0m \u001b[1m1s\u001b[0m 373us/step - AUC: 0.9165 - loss: 0.3628\n",
      "Epoch 17/50\n",
      "\u001b[1m3602/3602\u001b[0m \u001b[32m━━━━━━━━━━━━━━━━━━━━\u001b[0m\u001b[37m\u001b[0m \u001b[1m1s\u001b[0m 366us/step - AUC: 0.9185 - loss: 0.3586\n",
      "Epoch 18/50\n",
      "\u001b[1m3602/3602\u001b[0m \u001b[32m━━━━━━━━━━━━━━━━━━━━\u001b[0m\u001b[37m\u001b[0m \u001b[1m1s\u001b[0m 363us/step - AUC: 0.9155 - loss: 0.3653\n",
      "Epoch 19/50\n",
      "\u001b[1m3602/3602\u001b[0m \u001b[32m━━━━━━━━━━━━━━━━━━━━\u001b[0m\u001b[37m\u001b[0m \u001b[1m1s\u001b[0m 362us/step - AUC: 0.9162 - loss: 0.3640\n",
      "Epoch 20/50\n",
      "\u001b[1m3602/3602\u001b[0m \u001b[32m━━━━━━━━━━━━━━━━━━━━\u001b[0m\u001b[37m\u001b[0m \u001b[1m1s\u001b[0m 364us/step - AUC: 0.9175 - loss: 0.3610\n",
      "Epoch 21/50\n",
      "\u001b[1m3602/3602\u001b[0m \u001b[32m━━━━━━━━━━━━━━━━━━━━\u001b[0m\u001b[37m\u001b[0m \u001b[1m1s\u001b[0m 369us/step - AUC: 0.9176 - loss: 0.3609\n",
      "Epoch 22/50\n",
      "\u001b[1m3602/3602\u001b[0m \u001b[32m━━━━━━━━━━━━━━━━━━━━\u001b[0m\u001b[37m\u001b[0m \u001b[1m1s\u001b[0m 365us/step - AUC: 0.9181 - loss: 0.3597\n",
      "Epoch 23/50\n",
      "\u001b[1m3602/3602\u001b[0m \u001b[32m━━━━━━━━━━━━━━━━━━━━\u001b[0m\u001b[37m\u001b[0m \u001b[1m1s\u001b[0m 361us/step - AUC: 0.9173 - loss: 0.3614\n",
      "Epoch 24/50\n",
      "\u001b[1m3602/3602\u001b[0m \u001b[32m━━━━━━━━━━━━━━━━━━━━\u001b[0m\u001b[37m\u001b[0m \u001b[1m1s\u001b[0m 360us/step - AUC: 0.9180 - loss: 0.3604\n",
      "Epoch 25/50\n",
      "\u001b[1m3602/3602\u001b[0m \u001b[32m━━━━━━━━━━━━━━━━━━━━\u001b[0m\u001b[37m\u001b[0m \u001b[1m1s\u001b[0m 361us/step - AUC: 0.9177 - loss: 0.3611\n",
      "Epoch 26/50\n",
      "\u001b[1m3602/3602\u001b[0m \u001b[32m━━━━━━━━━━━━━━━━━━━━\u001b[0m\u001b[37m\u001b[0m \u001b[1m1s\u001b[0m 373us/step - AUC: 0.9175 - loss: 0.3611\n",
      "Epoch 27/50\n",
      "\u001b[1m3602/3602\u001b[0m \u001b[32m━━━━━━━━━━━━━━━━━━━━\u001b[0m\u001b[37m\u001b[0m \u001b[1m1s\u001b[0m 362us/step - AUC: 0.9181 - loss: 0.3595\n",
      "Epoch 28/50\n",
      "\u001b[1m3602/3602\u001b[0m \u001b[32m━━━━━━━━━━━━━━━━━━━━\u001b[0m\u001b[37m\u001b[0m \u001b[1m1s\u001b[0m 364us/step - AUC: 0.9178 - loss: 0.3602\n",
      "Epoch 29/50\n",
      "\u001b[1m3602/3602\u001b[0m \u001b[32m━━━━━━━━━━━━━━━━━━━━\u001b[0m\u001b[37m\u001b[0m \u001b[1m1s\u001b[0m 365us/step - AUC: 0.9175 - loss: 0.3610\n",
      "Epoch 30/50\n",
      "\u001b[1m3602/3602\u001b[0m \u001b[32m━━━━━━━━━━━━━━━━━━━━\u001b[0m\u001b[37m\u001b[0m \u001b[1m1s\u001b[0m 370us/step - AUC: 0.9185 - loss: 0.3587\n",
      "Epoch 31/50\n",
      "\u001b[1m3602/3602\u001b[0m \u001b[32m━━━━━━━━━━━━━━━━━━━━\u001b[0m\u001b[37m\u001b[0m \u001b[1m1s\u001b[0m 364us/step - AUC: 0.9177 - loss: 0.3609\n",
      "Epoch 32/50\n",
      "\u001b[1m3602/3602\u001b[0m \u001b[32m━━━━━━━━━━━━━━━━━━━━\u001b[0m\u001b[37m\u001b[0m \u001b[1m1s\u001b[0m 365us/step - AUC: 0.9184 - loss: 0.3596\n",
      "Epoch 33/50\n",
      "\u001b[1m3602/3602\u001b[0m \u001b[32m━━━━━━━━━━━━━━━━━━━━\u001b[0m\u001b[37m\u001b[0m \u001b[1m1s\u001b[0m 367us/step - AUC: 0.9194 - loss: 0.3573\n",
      "Epoch 34/50\n",
      "\u001b[1m3602/3602\u001b[0m \u001b[32m━━━━━━━━━━━━━━━━━━━━\u001b[0m\u001b[37m\u001b[0m \u001b[1m1s\u001b[0m 374us/step - AUC: 0.9189 - loss: 0.3585\n",
      "Epoch 35/50\n",
      "\u001b[1m3602/3602\u001b[0m \u001b[32m━━━━━━━━━━━━━━━━━━━━\u001b[0m\u001b[37m\u001b[0m \u001b[1m1s\u001b[0m 364us/step - AUC: 0.9172 - loss: 0.3616\n",
      "Epoch 36/50\n",
      "\u001b[1m3602/3602\u001b[0m \u001b[32m━━━━━━━━━━━━━━━━━━━━\u001b[0m\u001b[37m\u001b[0m \u001b[1m1s\u001b[0m 363us/step - AUC: 0.9170 - loss: 0.3622\n",
      "Epoch 37/50\n",
      "\u001b[1m3602/3602\u001b[0m \u001b[32m━━━━━━━━━━━━━━━━━━━━\u001b[0m\u001b[37m\u001b[0m \u001b[1m1s\u001b[0m 381us/step - AUC: 0.9184 - loss: 0.3594\n",
      "Epoch 38/50\n",
      "\u001b[1m3602/3602\u001b[0m \u001b[32m━━━━━━━━━━━━━━━━━━━━\u001b[0m\u001b[37m\u001b[0m \u001b[1m1s\u001b[0m 397us/step - AUC: 0.9201 - loss: 0.3553\n",
      "Epoch 39/50\n",
      "\u001b[1m3602/3602\u001b[0m \u001b[32m━━━━━━━━━━━━━━━━━━━━\u001b[0m\u001b[37m\u001b[0m \u001b[1m1s\u001b[0m 365us/step - AUC: 0.9193 - loss: 0.3570\n",
      "Epoch 40/50\n",
      "\u001b[1m3602/3602\u001b[0m \u001b[32m━━━━━━━━━━━━━━━━━━━━\u001b[0m\u001b[37m\u001b[0m \u001b[1m1s\u001b[0m 362us/step - AUC: 0.9197 - loss: 0.3569\n",
      "Epoch 41/50\n",
      "\u001b[1m3602/3602\u001b[0m \u001b[32m━━━━━━━━━━━━━━━━━━━━\u001b[0m\u001b[37m\u001b[0m \u001b[1m1s\u001b[0m 363us/step - AUC: 0.9196 - loss: 0.3569\n",
      "Epoch 42/50\n",
      "\u001b[1m3602/3602\u001b[0m \u001b[32m━━━━━━━━━━━━━━━━━━━━\u001b[0m\u001b[37m\u001b[0m \u001b[1m1s\u001b[0m 372us/step - AUC: 0.9193 - loss: 0.3575\n",
      "Epoch 43/50\n",
      "\u001b[1m3602/3602\u001b[0m \u001b[32m━━━━━━━━━━━━━━━━━━━━\u001b[0m\u001b[37m\u001b[0m \u001b[1m1s\u001b[0m 365us/step - AUC: 0.9191 - loss: 0.3578\n",
      "Epoch 44/50\n",
      "\u001b[1m3602/3602\u001b[0m \u001b[32m━━━━━━━━━━━━━━━━━━━━\u001b[0m\u001b[37m\u001b[0m \u001b[1m1s\u001b[0m 361us/step - AUC: 0.9199 - loss: 0.3561\n",
      "Epoch 45/50\n",
      "\u001b[1m3602/3602\u001b[0m \u001b[32m━━━━━━━━━━━━━━━━━━━━\u001b[0m\u001b[37m\u001b[0m \u001b[1m1s\u001b[0m 365us/step - AUC: 0.9196 - loss: 0.3567\n",
      "Epoch 46/50\n",
      "\u001b[1m3602/3602\u001b[0m \u001b[32m━━━━━━━━━━━━━━━━━━━━\u001b[0m\u001b[37m\u001b[0m \u001b[1m1s\u001b[0m 372us/step - AUC: 0.9189 - loss: 0.3578\n",
      "Epoch 47/50\n",
      "\u001b[1m3602/3602\u001b[0m \u001b[32m━━━━━━━━━━━━━━━━━━━━\u001b[0m\u001b[37m\u001b[0m \u001b[1m1s\u001b[0m 361us/step - AUC: 0.9189 - loss: 0.3580\n",
      "Epoch 48/50\n",
      "\u001b[1m3602/3602\u001b[0m \u001b[32m━━━━━━━━━━━━━━━━━━━━\u001b[0m\u001b[37m\u001b[0m \u001b[1m1s\u001b[0m 362us/step - AUC: 0.9198 - loss: 0.3560\n",
      "Epoch 49/50\n",
      "\u001b[1m3602/3602\u001b[0m \u001b[32m━━━━━━━━━━━━━━━━━━━━\u001b[0m\u001b[37m\u001b[0m \u001b[1m1s\u001b[0m 359us/step - AUC: 0.9213 - loss: 0.3535\n",
      "Epoch 50/50\n",
      "\u001b[1m3602/3602\u001b[0m \u001b[32m━━━━━━━━━━━━━━━━━━━━\u001b[0m\u001b[37m\u001b[0m \u001b[1m1s\u001b[0m 368us/step - AUC: 0.9191 - loss: 0.3575\n",
      "\u001b[1m544/544\u001b[0m \u001b[32m━━━━━━━━━━━━━━━━━━━━\u001b[0m\u001b[37m\u001b[0m \u001b[1m0s\u001b[0m 255us/step\n",
      "Confusion Matrix:\n",
      " [[12426  1938]\n",
      " [  572  2467]]\n",
      "\n",
      "Classification Report:\n",
      "               precision    recall  f1-score   support\n",
      "\n",
      "           0       0.96      0.87      0.91     14364\n",
      "           1       0.56      0.81      0.66      3039\n",
      "\n",
      "    accuracy                           0.86     17403\n",
      "   macro avg       0.76      0.84      0.79     17403\n",
      "weighted avg       0.89      0.86      0.87     17403\n",
      "\n"
     ]
    }
   ],
   "source": [
    "import pandas as pd\n",
    "import numpy as np\n",
    "from sklearn.preprocessing import StandardScaler\n",
    "from sklearn.model_selection import train_test_split\n",
    "from sklearn.metrics import classification_report, confusion_matrix\n",
    "from imblearn.over_sampling import SMOTE\n",
    "from tensorflow.keras.models import Sequential\n",
    "from tensorflow.keras.layers import Dense\n",
    "from tensorflow.keras.optimizers import Adam\n",
    "\n",
    "# Cargar los datos\n",
    "df = pd.read_excel(\"Base_Limpia.xlsx\")\n",
    "\n",
    "# Convertir las columnas categóricas a dummies\n",
    "columnas_a_convertir = [\n",
    "    'estu_tipodocumento', 'cole_area_ubicacion', 'cole_bilingue',\n",
    "    'cole_calendario', 'cole_caracter', 'cole_genero', 'cole_jornada',\n",
    "    'cole_mcpio_ubicacion', 'cole_naturaleza', 'cole_nombre_establecimiento',\n",
    "    'cole_nombre_sede', 'cole_sede_principal', 'estu_depto_presentacion',\n",
    "    'estu_depto_reside', 'estu_estadoinvestigacion', 'estu_genero',\n",
    "    'estu_mcpio_presentacion', 'estu_mcpio_reside', 'estu_nacionalidad',\n",
    "    'estu_pais_reside', 'estu_privado_libertad', 'fami_cuartoshogar',\n",
    "    'fami_educacionmadre', 'fami_educacionpadre', 'fami_estratovivienda',\n",
    "    'fami_personashogar', 'fami_tieneautomovil', 'fami_tienecomputador',\n",
    "    'fami_tieneinternet', 'fami_tienelavadora', 'desemp_ingles'\n",
    "]\n",
    "\n",
    "df_dummies = pd.get_dummies(df[columnas_a_convertir], drop_first=True)\n",
    "\n",
    "# Combinar las columnas originales con las dummies\n",
    "df_final = pd.concat([df.drop(columns=columnas_a_convertir), df_dummies], axis=1)\n",
    "\n",
    "# Filtrar filas válidas en 'punt_global' y fechas válidas\n",
    "df_caldas = df_final[df_final['punt_global'].notna()]\n",
    "df_caldas = df_caldas[pd.to_datetime(df_caldas['estu_fechanacimiento'], errors='coerce').notna()]\n",
    "\n",
    "# Calcular la edad\n",
    "df_caldas['edad'] = 2024 - pd.to_datetime(df_caldas['estu_fechanacimiento']).dt.year\n",
    "\n",
    "# Seleccionar columnas para el modelo\n",
    "selected_columns_updated = [\n",
    "    'edad', 'fami_tieneinternet_Si', 'fami_tienecomputador_Si',\n",
    "    'fami_tieneautomovil_Si', 'fami_tienelavadora_Si',\n",
    "    'fami_personashogar_Tres', 'fami_personashogar_Una',\n",
    "    'desemp_ingles_A1', 'desemp_ingles_A2', 'desemp_ingles_B+', 'desemp_ingles_B1',\n",
    "    'cole_area_ubicacion_URBANO', 'cole_caracter_TÉCNICO', 'cole_caracter_NO APLICA'\n",
    "]\n",
    "\n",
    "# Filtrar NaN en las columnas seleccionadas\n",
    "df_caldas = df_caldas.dropna(subset=selected_columns_updated)\n",
    "\n",
    "# Preparar variables predictoras y objetivo\n",
    "X = df_caldas[selected_columns_updated]\n",
    "y = (df_caldas['punt_global'] >= 300).astype(int)  # Clasificación binaria\n",
    "\n",
    "# Escalar los datos\n",
    "scaler = StandardScaler()\n",
    "X_scaled = scaler.fit_transform(X)\n",
    "\n",
    "# Dividir datos en entrenamiento y prueba\n",
    "X_train, X_test, y_train, y_test = train_test_split(X_scaled, y, test_size=0.2, random_state=42)\n",
    "\n",
    "# Sobremuestreo con SMOTE\n",
    "smote = SMOTE(random_state=42)\n",
    "X_resampled, y_resampled = smote.fit_resample(X_train, y_train)\n",
    "\n",
    "# Construir la red neuronal\n",
    "model = Sequential([\n",
    "    Dense(32, activation='relu', input_shape=(X_resampled.shape[1],)),\n",
    "    Dense(16, activation='relu'),\n",
    "    Dense(1, activation='sigmoid')  # Salida binaria\n",
    "])\n",
    "\n",
    "model.compile(optimizer=Adam(learning_rate=0.001),\n",
    "              loss='binary_crossentropy',\n",
    "              metrics=['AUC'])\n",
    "\n",
    "# Entrenar el modelo\n",
    "history = model.fit(X_resampled, y_resampled, epochs=50, batch_size=32, verbose=1)\n",
    "\n",
    "# Evaluar el modelo\n",
    "y_pred_probs = model.predict(X_test)\n",
    "y_pred_classes = (y_pred_probs > 0.5).astype(int)\n",
    "\n",
    "# Métricas\n",
    "print(\"Confusion Matrix:\\n\", confusion_matrix(y_test, y_pred_classes))\n",
    "print(\"\\nClassification Report:\\n\", classification_report(y_test, y_pred_classes))\n"
   ]
  },
  {
   "cell_type": "code",
   "execution_count": 7,
   "metadata": {},
   "outputs": [
    {
     "name": "stdout",
     "output_type": "stream",
     "text": [
      "\u001b[1m544/544\u001b[0m \u001b[32m━━━━━━━━━━━━━━━━━━━━\u001b[0m\u001b[37m\u001b[0m \u001b[1m0s\u001b[0m 234us/step\n",
      "F1 Score: 0.6628\n",
      "Recall: 0.8118\n"
     ]
    },
    {
     "data": {
      "image/png": "[encoded data removed]",
      "text/plain": [
       "<Figure size 800x600 with 2 Axes>"
      ]
     },
     "metadata": {},
     "output_type": "display_data"
    }
   ],
   "source": [
    "from sklearn.metrics import f1_score, recall_score, confusion_matrix\n",
    "import matplotlib.pyplot as plt\n",
    "import seaborn as sns\n",
    "\n",
    "# Realizar predicciones\n",
    "y_pred = (model.predict(X_test) > 0.5).astype(int)  # Convertir probabilidades a clases (0 o 1)\n",
    "\n",
    "# Calcular F1 Score y Recall\n",
    "f1 = f1_score(y_test, y_pred)\n",
    "recall = recall_score(y_test, y_pred)\n",
    "\n",
    "print(f\"F1 Score: {f1:.4f}\")\n",
    "print(f\"Recall: {recall:.4f}\")\n",
    "\n",
    "# Calcular matriz de confusión\n",
    "conf_matrix = confusion_matrix(y_test, y_pred)\n",
    "\n",
    "# Visualizar la matriz de confusión\n",
    "plt.figure(figsize=(8, 6))\n",
    "sns.heatmap(conf_matrix, annot=True, fmt='d', cmap='Blues', xticklabels=['Clase 0', 'Clase 1'], yticklabels=['Clase 0', 'Clase 1'])\n",
    "plt.xlabel('Predicción')\n",
    "plt.ylabel('Valor Real')\n",
    "plt.title('Matriz de Confusión')\n",
    "plt.show()"
   ]
  },
  {
   "cell_type": "code",
   "execution_count": 9,
   "metadata": {},
   "outputs": [
    {
     "name": "stdout",
     "output_type": "stream",
     "text": [
      "\u001b[1m544/544\u001b[0m \u001b[32m━━━━━━━━━━━━━━━━━━━━\u001b[0m\u001b[37m\u001b[0m \u001b[1m0s\u001b[0m 243us/step\n"
     ]
    },
    {
     "data": {
      "image/png": "[encoded data removed]",
      "text/plain": [
       "<Figure size 800x600 with 1 Axes>"
      ]
     },
     "metadata": {},
     "output_type": "display_data"
    }
   ],
   "source": [
    "import tensorflow as tf\n",
    "from sklearn.metrics import roc_curve, roc_auc_score\n",
    "import matplotlib.pyplot as plt\n",
    "\n",
    "# Convertir X_test a tensor si no lo está\n",
    "X_test_tensor = tf.convert_to_tensor(X_test, dtype=tf.float32)\n",
    "\n",
    "# Obtener las probabilidades predichas\n",
    "y_pred_probs = model.predict(X_test_tensor)\n",
    "\n",
    "# Calcular la curva ROC\n",
    "fpr, tpr, thresholds = roc_curve(y_test, y_pred_probs)\n",
    "roc_auc = roc_auc_score(y_test, y_pred_probs)\n",
    "\n",
    "# Graficar la curva ROC\n",
    "plt.figure(figsize=(8, 6))\n",
    "plt.plot(fpr, tpr, color='blue', lw=2, label=f'ROC Curve (AUC = {roc_auc:.2f})')\n",
    "plt.plot([0, 1], [0, 1], color='gray', linestyle='--', lw=1)\n",
    "plt.xlabel('False Positive Rate (FPR)')\n",
    "plt.ylabel('True Positive Rate (TPR)')\n",
    "plt.title('Receiver Operating Characteristic (ROC) Curve')\n",
    "plt.legend(loc='lower right')\n",
    "plt.grid()\n",
    "plt.show()"
   ]
  },
  {
   "cell_type": "markdown",
   "metadata": {},
   "source": [
    "### Undersimpling"
   ]
  },
  {
   "cell_type": "code",
   "execution_count": 10,
   "metadata": {},
   "outputs": [
    {
     "name": "stderr",
     "output_type": "stream",
     "text": [
      "/var/folders/3k/yvqxg5fs60x9q4t5nyz08bvc0000gn/T/ipykernel_2377/4082396292.py:35: UserWarning: Could not infer format, so each element will be parsed individually, falling back to `dateutil`. To ensure parsing is consistent and as-expected, please specify a format.\n",
      "  df_caldas = df_caldas[pd.to_datetime(df_caldas['estu_fechanacimiento'], errors='coerce').notna()]\n",
      "/var/folders/3k/yvqxg5fs60x9q4t5nyz08bvc0000gn/T/ipykernel_2377/4082396292.py:38: UserWarning: Could not infer format, so each element will be parsed individually, falling back to `dateutil`. To ensure parsing is consistent and as-expected, please specify a format.\n",
      "  df_caldas['edad'] = 2024 - pd.to_datetime(df_caldas['estu_fechanacimiento']).dt.year\n"
     ]
    },
    {
     "name": "stdout",
     "output_type": "stream",
     "text": [
      "X_resampled_tensor shape: (23976, 14)\n",
      "y_resampled_tensor shape: (23976,)\n",
      "Epoch 1/50\n",
      "\u001b[1m750/750\u001b[0m \u001b[32m━━━━━━━━━━━━━━━━━━━━\u001b[0m\u001b[37m\u001b[0m \u001b[1m1s\u001b[0m 386us/step - AUC: 0.9164 - loss: 0.3639\n",
      "Epoch 2/50\n",
      "\u001b[1m750/750\u001b[0m \u001b[32m━━━━━━━━━━━━━━━━━━━━\u001b[0m\u001b[37m\u001b[0m \u001b[1m0s\u001b[0m 381us/step - AUC: 0.9170 - loss: 0.3620\n",
      "Epoch 3/50\n",
      "\u001b[1m750/750\u001b[0m \u001b[32m━━━━━━━━━━━━━━━━━━━━\u001b[0m\u001b[37m\u001b[0m \u001b[1m0s\u001b[0m 375us/step - AUC: 0.9167 - loss: 0.3627\n",
      "Epoch 4/50\n",
      "\u001b[1m750/750\u001b[0m \u001b[32m━━━━━━━━━━━━━━━━━━━━\u001b[0m\u001b[37m\u001b[0m \u001b[1m0s\u001b[0m 375us/step - AUC: 0.9155 - loss: 0.3659\n",
      "Epoch 5/50\n",
      "\u001b[1m750/750\u001b[0m \u001b[32m━━━━━━━━━━━━━━━━━━━━\u001b[0m\u001b[37m\u001b[0m \u001b[1m0s\u001b[0m 376us/step - AUC: 0.9159 - loss: 0.3647\n",
      "Epoch 6/50\n",
      "\u001b[1m750/750\u001b[0m \u001b[32m━━━━━━━━━━━━━━━━━━━━\u001b[0m\u001b[37m\u001b[0m \u001b[1m0s\u001b[0m 377us/step - AUC: 0.9176 - loss: 0.3607\n",
      "Epoch 7/50\n",
      "\u001b[1m750/750\u001b[0m \u001b[32m━━━━━━━━━━━━━━━━━━━━\u001b[0m\u001b[37m\u001b[0m \u001b[1m0s\u001b[0m 379us/step - AUC: 0.9155 - loss: 0.3655\n",
      "Epoch 8/50\n",
      "\u001b[1m750/750\u001b[0m \u001b[32m━━━━━━━━━━━━━━━━━━━━\u001b[0m\u001b[37m\u001b[0m \u001b[1m0s\u001b[0m 384us/step - AUC: 0.9201 - loss: 0.3561\n",
      "Epoch 9/50\n",
      "\u001b[1m750/750\u001b[0m \u001b[32m━━━━━━━━━━━━━━━━━━━━\u001b[0m\u001b[37m\u001b[0m \u001b[1m0s\u001b[0m 373us/step - AUC: 0.9141 - loss: 0.3681\n",
      "Epoch 10/50\n",
      "\u001b[1m750/750\u001b[0m \u001b[32m━━━━━━━━━━━━━━━━━━━━\u001b[0m\u001b[37m\u001b[0m \u001b[1m0s\u001b[0m 373us/step - AUC: 0.9170 - loss: 0.3618\n",
      "Epoch 11/50\n",
      "\u001b[1m750/750\u001b[0m \u001b[32m━━━━━━━━━━━━━━━━━━━━\u001b[0m\u001b[37m\u001b[0m \u001b[1m0s\u001b[0m 374us/step - AUC: 0.9175 - loss: 0.3610\n",
      "Epoch 12/50\n",
      "\u001b[1m750/750\u001b[0m \u001b[32m━━━━━━━━━━━━━━━━━━━━\u001b[0m\u001b[37m\u001b[0m \u001b[1m0s\u001b[0m 374us/step - AUC: 0.9195 - loss: 0.3574\n",
      "Epoch 13/50\n",
      "\u001b[1m750/750\u001b[0m \u001b[32m━━━━━━━━━━━━━━━━━━━━\u001b[0m\u001b[37m\u001b[0m \u001b[1m0s\u001b[0m 370us/step - AUC: 0.9184 - loss: 0.3592\n",
      "Epoch 14/50\n",
      "\u001b[1m750/750\u001b[0m \u001b[32m━━━━━━━━━━━━━━━━━━━━\u001b[0m\u001b[37m\u001b[0m \u001b[1m0s\u001b[0m 374us/step - AUC: 0.9158 - loss: 0.3647\n",
      "Epoch 15/50\n",
      "\u001b[1m750/750\u001b[0m \u001b[32m━━━━━━━━━━━━━━━━━━━━\u001b[0m\u001b[37m\u001b[0m \u001b[1m0s\u001b[0m 381us/step - AUC: 0.9172 - loss: 0.3621\n",
      "Epoch 16/50\n",
      "\u001b[1m750/750\u001b[0m \u001b[32m━━━━━━━━━━━━━━━━━━━━\u001b[0m\u001b[37m\u001b[0m \u001b[1m0s\u001b[0m 421us/step - AUC: 0.9161 - loss: 0.3655\n",
      "Epoch 17/50\n",
      "\u001b[1m750/750\u001b[0m \u001b[32m━━━━━━━━━━━━━━━━━━━━\u001b[0m\u001b[37m\u001b[0m \u001b[1m0s\u001b[0m 372us/step - AUC: 0.9156 - loss: 0.3644\n",
      "Epoch 18/50\n",
      "\u001b[1m750/750\u001b[0m \u001b[32m━━━━━━━━━━━━━━━━━━━━\u001b[0m\u001b[37m\u001b[0m \u001b[1m0s\u001b[0m 375us/step - AUC: 0.9161 - loss: 0.3641\n",
      "Epoch 19/50\n",
      "\u001b[1m750/750\u001b[0m \u001b[32m━━━━━━━━━━━━━━━━━━━━\u001b[0m\u001b[37m\u001b[0m \u001b[1m0s\u001b[0m 381us/step - AUC: 0.9181 - loss: 0.3609\n",
      "Epoch 20/50\n",
      "\u001b[1m750/750\u001b[0m \u001b[32m━━━━━━━━━━━━━━━━━━━━\u001b[0m\u001b[37m\u001b[0m \u001b[1m0s\u001b[0m 363us/step - AUC: 0.9151 - loss: 0.3671\n",
      "Epoch 21/50\n",
      "\u001b[1m750/750\u001b[0m \u001b[32m━━━━━━━━━━━━━━━━━━━━\u001b[0m\u001b[37m\u001b[0m \u001b[1m0s\u001b[0m 372us/step - AUC: 0.9168 - loss: 0.3634\n",
      "Epoch 22/50\n",
      "\u001b[1m750/750\u001b[0m \u001b[32m━━━━━━━━━━━━━━━━━━━━\u001b[0m\u001b[37m\u001b[0m \u001b[1m0s\u001b[0m 368us/step - AUC: 0.9179 - loss: 0.3593\n",
      "Epoch 23/50\n",
      "\u001b[1m750/750\u001b[0m \u001b[32m━━━━━━━━━━━━━━━━━━━━\u001b[0m\u001b[37m\u001b[0m \u001b[1m0s\u001b[0m 368us/step - AUC: 0.9172 - loss: 0.3611\n",
      "Epoch 24/50\n",
      "\u001b[1m750/750\u001b[0m \u001b[32m━━━━━━━━━━━━━━━━━━━━\u001b[0m\u001b[37m\u001b[0m \u001b[1m0s\u001b[0m 372us/step - AUC: 0.9172 - loss: 0.3618\n",
      "Epoch 25/50\n",
      "\u001b[1m750/750\u001b[0m \u001b[32m━━━━━━━━━━━━━━━━━━━━\u001b[0m\u001b[37m\u001b[0m \u001b[1m0s\u001b[0m 381us/step - AUC: 0.9186 - loss: 0.3591\n",
      "Epoch 26/50\n",
      "\u001b[1m750/750\u001b[0m \u001b[32m━━━━━━━━━━━━━━━━━━━━\u001b[0m\u001b[37m\u001b[0m \u001b[1m0s\u001b[0m 367us/step - AUC: 0.9183 - loss: 0.3594\n",
      "Epoch 27/50\n",
      "\u001b[1m750/750\u001b[0m \u001b[32m━━━━━━━━━━━━━━━━━━━━\u001b[0m\u001b[37m\u001b[0m \u001b[1m0s\u001b[0m 373us/step - AUC: 0.9166 - loss: 0.3634\n",
      "Epoch 28/50\n",
      "\u001b[1m750/750\u001b[0m \u001b[32m━━━━━━━━━━━━━━━━━━━━\u001b[0m\u001b[37m\u001b[0m \u001b[1m0s\u001b[0m 365us/step - AUC: 0.9201 - loss: 0.3555\n",
      "Epoch 29/50\n",
      "\u001b[1m750/750\u001b[0m \u001b[32m━━━━━━━━━━━━━━━━━━━━\u001b[0m\u001b[37m\u001b[0m \u001b[1m0s\u001b[0m 365us/step - AUC: 0.9169 - loss: 0.3620\n",
      "Epoch 30/50\n",
      "\u001b[1m750/750\u001b[0m \u001b[32m━━━━━━━━━━━━━━━━━━━━\u001b[0m\u001b[37m\u001b[0m \u001b[1m0s\u001b[0m 383us/step - AUC: 0.9188 - loss: 0.3584\n",
      "Epoch 31/50\n",
      "\u001b[1m750/750\u001b[0m \u001b[32m━━━━━━━━━━━━━━━━━━━━\u001b[0m\u001b[37m\u001b[0m \u001b[1m0s\u001b[0m 371us/step - AUC: 0.9164 - loss: 0.3626\n",
      "Epoch 32/50\n",
      "\u001b[1m750/750\u001b[0m \u001b[32m━━━━━━━━━━━━━━━━━━━━\u001b[0m\u001b[37m\u001b[0m \u001b[1m0s\u001b[0m 413us/step - AUC: 0.9164 - loss: 0.3621\n",
      "Epoch 33/50\n",
      "\u001b[1m750/750\u001b[0m \u001b[32m━━━━━━━━━━━━━━━━━━━━\u001b[0m\u001b[37m\u001b[0m \u001b[1m0s\u001b[0m 371us/step - AUC: 0.9201 - loss: 0.3562\n",
      "Epoch 34/50\n",
      "\u001b[1m750/750\u001b[0m \u001b[32m━━━━━━━━━━━━━━━━━━━━\u001b[0m\u001b[37m\u001b[0m \u001b[1m0s\u001b[0m 371us/step - AUC: 0.9159 - loss: 0.3631\n",
      "Epoch 35/50\n",
      "\u001b[1m750/750\u001b[0m \u001b[32m━━━━━━━━━━━━━━━━━━━━\u001b[0m\u001b[37m\u001b[0m \u001b[1m0s\u001b[0m 382us/step - AUC: 0.9170 - loss: 0.3628\n",
      "Epoch 36/50\n",
      "\u001b[1m750/750\u001b[0m \u001b[32m━━━━━━━━━━━━━━━━━━━━\u001b[0m\u001b[37m\u001b[0m \u001b[1m0s\u001b[0m 371us/step - AUC: 0.9174 - loss: 0.3613\n",
      "Epoch 37/50\n",
      "\u001b[1m750/750\u001b[0m \u001b[32m━━━━━━━━━━━━━━━━━━━━\u001b[0m\u001b[37m\u001b[0m \u001b[1m0s\u001b[0m 371us/step - AUC: 0.9152 - loss: 0.3667\n",
      "Epoch 38/50\n",
      "\u001b[1m750/750\u001b[0m \u001b[32m━━━━━━━━━━━━━━━━━━━━\u001b[0m\u001b[37m\u001b[0m \u001b[1m0s\u001b[0m 369us/step - AUC: 0.9185 - loss: 0.3591\n",
      "Epoch 39/50\n",
      "\u001b[1m750/750\u001b[0m \u001b[32m━━━━━━━━━━━━━━━━━━━━\u001b[0m\u001b[37m\u001b[0m \u001b[1m0s\u001b[0m 367us/step - AUC: 0.9171 - loss: 0.3624\n",
      "Epoch 40/50\n",
      "\u001b[1m750/750\u001b[0m \u001b[32m━━━━━━━━━━━━━━━━━━━━\u001b[0m\u001b[37m\u001b[0m \u001b[1m0s\u001b[0m 387us/step - AUC: 0.9165 - loss: 0.3636\n",
      "Epoch 41/50\n",
      "\u001b[1m750/750\u001b[0m \u001b[32m━━━━━━━━━━━━━━━━━━━━\u001b[0m\u001b[37m\u001b[0m \u001b[1m0s\u001b[0m 375us/step - AUC: 0.9195 - loss: 0.3576\n",
      "Epoch 42/50\n",
      "\u001b[1m750/750\u001b[0m \u001b[32m━━━━━━━━━━━━━━━━━━━━\u001b[0m\u001b[37m\u001b[0m \u001b[1m0s\u001b[0m 367us/step - AUC: 0.9166 - loss: 0.3640\n",
      "Epoch 43/50\n",
      "\u001b[1m750/750\u001b[0m \u001b[32m━━━━━━━━━━━━━━━━━━━━\u001b[0m\u001b[37m\u001b[0m \u001b[1m0s\u001b[0m 369us/step - AUC: 0.9199 - loss: 0.3560\n",
      "Epoch 44/50\n",
      "\u001b[1m750/750\u001b[0m \u001b[32m━━━━━━━━━━━━━━━━━━━━\u001b[0m\u001b[37m\u001b[0m \u001b[1m0s\u001b[0m 373us/step - AUC: 0.9173 - loss: 0.3617\n",
      "Epoch 45/50\n",
      "\u001b[1m750/750\u001b[0m \u001b[32m━━━━━━━━━━━━━━━━━━━━\u001b[0m\u001b[37m\u001b[0m \u001b[1m0s\u001b[0m 368us/step - AUC: 0.9184 - loss: 0.3590\n",
      "Epoch 46/50\n",
      "\u001b[1m750/750\u001b[0m \u001b[32m━━━━━━━━━━━━━━━━━━━━\u001b[0m\u001b[37m\u001b[0m \u001b[1m0s\u001b[0m 379us/step - AUC: 0.9144 - loss: 0.3675\n",
      "Epoch 47/50\n",
      "\u001b[1m750/750\u001b[0m \u001b[32m━━━━━━━━━━━━━━━━━━━━\u001b[0m\u001b[37m\u001b[0m \u001b[1m0s\u001b[0m 374us/step - AUC: 0.9160 - loss: 0.3642\n",
      "Epoch 48/50\n",
      "\u001b[1m750/750\u001b[0m \u001b[32m━━━━━━━━━━━━━━━━━━━━\u001b[0m\u001b[37m\u001b[0m \u001b[1m0s\u001b[0m 411us/step - AUC: 0.9196 - loss: 0.3572\n",
      "Epoch 49/50\n",
      "\u001b[1m750/750\u001b[0m \u001b[32m━━━━━━━━━━━━━━━━━━━━\u001b[0m\u001b[37m\u001b[0m \u001b[1m0s\u001b[0m 368us/step - AUC: 0.9184 - loss: 0.3598\n",
      "Epoch 50/50\n",
      "\u001b[1m750/750\u001b[0m \u001b[32m━━━━━━━━━━━━━━━━━━━━\u001b[0m\u001b[37m\u001b[0m \u001b[1m0s\u001b[0m 372us/step - AUC: 0.9202 - loss: 0.3556\n",
      "\u001b[1m544/544\u001b[0m \u001b[32m━━━━━━━━━━━━━━━━━━━━\u001b[0m\u001b[37m\u001b[0m \u001b[1m0s\u001b[0m 250us/step\n",
      "Matriz de confusión:\n",
      "[[12296  2068]\n",
      " [  540  2499]]\n",
      "Reporte de clasificación:\n",
      "              precision    recall  f1-score   support\n",
      "\n",
      "           0       0.96      0.86      0.90     14364\n",
      "           1       0.55      0.82      0.66      3039\n",
      "\n",
      "    accuracy                           0.85     17403\n",
      "   macro avg       0.75      0.84      0.78     17403\n",
      "weighted avg       0.89      0.85      0.86     17403\n",
      "\n"
     ]
    }
   ],
   "source": [
    "import pandas as pd\n",
    "import numpy as np\n",
    "from sklearn.preprocessing import StandardScaler\n",
    "from sklearn.model_selection import train_test_split\n",
    "from sklearn.metrics import classification_report, confusion_matrix\n",
    "from imblearn.over_sampling import SMOTE\n",
    "from tensorflow.keras.models import Sequential\n",
    "from tensorflow.keras.layers import Dense\n",
    "from tensorflow.keras.optimizers import Adam\n",
    "\n",
    "# Cargar los datos\n",
    "df = pd.read_excel(\"Base_Limpia.xlsx\")\n",
    "\n",
    "# Convertir las columnas categóricas a dummies\n",
    "columnas_a_convertir = [\n",
    "    'estu_tipodocumento', 'cole_area_ubicacion', 'cole_bilingue',\n",
    "    'cole_calendario', 'cole_caracter', 'cole_genero', 'cole_jornada',\n",
    "    'cole_mcpio_ubicacion', 'cole_naturaleza', 'cole_nombre_establecimiento',\n",
    "    'cole_nombre_sede', 'cole_sede_principal', 'estu_depto_presentacion',\n",
    "    'estu_depto_reside', 'estu_estadoinvestigacion', 'estu_genero',\n",
    "    'estu_mcpio_presentacion', 'estu_mcpio_reside', 'estu_nacionalidad',\n",
    "    'estu_pais_reside', 'estu_privado_libertad', 'fami_cuartoshogar',\n",
    "    'fami_educacionmadre', 'fami_educacionpadre', 'fami_estratovivienda',\n",
    "    'fami_personashogar', 'fami_tieneautomovil', 'fami_tienecomputador',\n",
    "    'fami_tieneinternet', 'fami_tienelavadora', 'desemp_ingles'\n",
    "]\n",
    "\n",
    "df_dummies = pd.get_dummies(df[columnas_a_convertir], drop_first=True)\n",
    "\n",
    "# Combinar las columnas originales con las dummies\n",
    "df_final = pd.concat([df.drop(columns=columnas_a_convertir), df_dummies], axis=1)\n",
    "\n",
    "# Filtrar filas válidas en 'punt_global' y fechas válidas\n",
    "df_caldas = df_final[df_final['punt_global'].notna()]\n",
    "df_caldas = df_caldas[pd.to_datetime(df_caldas['estu_fechanacimiento'], errors='coerce').notna()]\n",
    "\n",
    "# Calcular la edad\n",
    "df_caldas['edad'] = 2024 - pd.to_datetime(df_caldas['estu_fechanacimiento']).dt.year\n",
    "\n",
    "# Seleccionar columnas para el modelo\n",
    "selected_columns_updated = [\n",
    "    'edad', 'fami_tieneinternet_Si', 'fami_tienecomputador_Si',\n",
    "    'fami_tieneautomovil_Si', 'fami_tienelavadora_Si',\n",
    "    'fami_personashogar_Tres', 'fami_personashogar_Una',\n",
    "    'desemp_ingles_A1', 'desemp_ingles_A2', 'desemp_ingles_B+', 'desemp_ingles_B1',\n",
    "    'cole_area_ubicacion_URBANO', 'cole_caracter_TÉCNICO', 'cole_caracter_NO APLICA'\n",
    "]\n",
    "\n",
    "# Filtrar NaN en las columnas seleccionadas\n",
    "df_caldas = df_caldas.dropna(subset=selected_columns_updated)\n",
    "\n",
    "# Preparar variables predictoras y objetivo\n",
    "X = df_caldas[selected_columns_updated]\n",
    "y = (df_caldas['punt_global'] >= 300).astype(int)  # Clasificación binaria\n",
    "\n",
    "import tensorflow as tf\n",
    "from imblearn.under_sampling import RandomUnderSampler\n",
    "import numpy as np\n",
    "\n",
    "# Realizar undersampling\n",
    "undersampler = RandomUnderSampler(random_state=42)\n",
    "X_resampled, y_resampled = undersampler.fit_resample(X_train, y_train)\n",
    "\n",
    "# Convertir a numpy.ndarray con tipos compatibles\n",
    "X_resampled = np.array(X_resampled, dtype=np.float32)\n",
    "y_resampled = np.array(y_resampled, dtype=np.int32)\n",
    "\n",
    "# Convertir a tensores\n",
    "X_resampled_tensor = tf.convert_to_tensor(X_resampled, dtype=tf.float32)\n",
    "y_resampled_tensor = tf.convert_to_tensor(y_resampled, dtype=tf.float32)\n",
    "\n",
    "# Verificar que los tensores se han creado correctamente\n",
    "print(\"X_resampled_tensor shape:\", X_resampled_tensor.shape)\n",
    "print(\"y_resampled_tensor shape:\", y_resampled_tensor.shape)\n",
    "\n",
    "# Entrenar el modelo con tensores\n",
    "model.fit(X_resampled_tensor, y_resampled_tensor, epochs=50, batch_size=32, verbose=1)\n",
    "\n",
    "# Predecir en los datos de prueba (asegúrate de que X_test esté escalado y sea compatible)\n",
    "X_test_tensor = tf.convert_to_tensor(X_test, dtype=tf.float32)\n",
    "y_pred_probs = model.predict(X_test_tensor)\n",
    "y_pred_classes = (y_pred_probs > 0.5).astype(int)\n",
    "\n",
    "# Métricas\n",
    "print(\"Matriz de confusión:\")\n",
    "print(confusion_matrix(y_test, y_pred_classes))\n",
    "\n",
    "print(\"Reporte de clasificación:\")\n",
    "print(classification_report(y_test, y_pred_classes))"
   ]
  },
  {
   "cell_type": "code",
   "execution_count": 11,
   "metadata": {},
   "outputs": [
    {
     "name": "stdout",
     "output_type": "stream",
     "text": [
      "\u001b[1m544/544\u001b[0m \u001b[32m━━━━━━━━━━━━━━━━━━━━\u001b[0m\u001b[37m\u001b[0m \u001b[1m0s\u001b[0m 244us/step\n",
      "F1 Score: 0.6571\n",
      "Recall: 0.8223\n"
     ]
    },
    {
     "data": {
      "image/png": "[encoded data removed]",
      "text/plain": [
       "<Figure size 800x600 with 2 Axes>"
      ]
     },
     "metadata": {},
     "output_type": "display_data"
    }
   ],
   "source": [
    "from sklearn.metrics import f1_score, recall_score, confusion_matrix\n",
    "import matplotlib.pyplot as plt\n",
    "import seaborn as sns\n",
    "\n",
    "# Realizar predicciones\n",
    "y_pred = (model.predict(X_test) > 0.5).astype(int)  # Convertir probabilidades a clases (0 o 1)\n",
    "\n",
    "# Calcular F1 Score y Recall\n",
    "f1 = f1_score(y_test, y_pred)\n",
    "recall = recall_score(y_test, y_pred)\n",
    "\n",
    "print(f\"F1 Score: {f1:.4f}\")\n",
    "print(f\"Recall: {recall:.4f}\")\n",
    "\n",
    "# Calcular matriz de confusión\n",
    "conf_matrix = confusion_matrix(y_test, y_pred)\n",
    "\n",
    "# Visualizar la matriz de confusión\n",
    "plt.figure(figsize=(8, 6))\n",
    "sns.heatmap(conf_matrix, annot=True, fmt='d', cmap='Blues', xticklabels=['Clase 0', 'Clase 1'], yticklabels=['Clase 0', 'Clase 1'])\n",
    "plt.xlabel('Predicción')\n",
    "plt.ylabel('Valor Real')\n",
    "plt.title('Matriz de Confusión')\n",
    "plt.show()"
   ]
  },
  {
   "cell_type": "code",
   "execution_count": 12,
   "metadata": {},
   "outputs": [
    {
     "name": "stdout",
     "output_type": "stream",
     "text": [
      "\u001b[1m544/544\u001b[0m \u001b[32m━━━━━━━━━━━━━━━━━━━━\u001b[0m\u001b[37m\u001b[0m \u001b[1m0s\u001b[0m 251us/step\n"
     ]
    },
    {
     "data": {
      "image/png": "[encoded data removed]",
      "text/plain": [
       "<Figure size 800x600 with 1 Axes>"
      ]
     },
     "metadata": {},
     "output_type": "display_data"
    }
   ],
   "source": [
    "import tensorflow as tf\n",
    "from sklearn.metrics import roc_curve, roc_auc_score\n",
    "import matplotlib.pyplot as plt\n",
    "\n",
    "# Convertir X_test a tensor si no lo está\n",
    "X_test_tensor = tf.convert_to_tensor(X_test, dtype=tf.float32)\n",
    "\n",
    "# Obtener las probabilidades predichas\n",
    "y_pred_probs = model.predict(X_test_tensor)\n",
    "\n",
    "# Calcular la curva ROC\n",
    "fpr, tpr, thresholds = roc_curve(y_test, y_pred_probs)\n",
    "roc_auc = roc_auc_score(y_test, y_pred_probs)\n",
    "\n",
    "# Graficar la curva ROC\n",
    "plt.figure(figsize=(8, 6))\n",
    "plt.plot(fpr, tpr, color='blue', lw=2, label=f'ROC Curve (AUC = {roc_auc:.2f})')\n",
    "plt.plot([0, 1], [0, 1], color='gray', linestyle='--', lw=1)\n",
    "plt.xlabel('False Positive Rate (FPR)')\n",
    "plt.ylabel('True Positive Rate (TPR)')\n",
    "plt.title('Receiver Operating Characteristic (ROC) Curve')\n",
    "plt.legend(loc='lower right')\n",
    "plt.grid()\n",
    "plt.show()"
   ]
  },
  {
   "cell_type": "markdown",
   "metadata": {},
   "source": [
    "### Sin Sampling"
   ]
  },
  {
   "cell_type": "code",
   "execution_count": 22,
   "metadata": {},
   "outputs": [
    {
     "ename": "ValueError",
     "evalue": "Found array with 0 sample(s) (shape=(0,)) while a minimum of 1 is required.",
     "output_type": "error",
     "traceback": [
      "\u001b[0;31m---------------------------------------------------------------------------\u001b[0m",
      "\u001b[0;31mValueError\u001b[0m                                Traceback (most recent call last)",
      "Cell \u001b[0;32mIn[22], line 36\u001b[0m\n\u001b[1;32m     34\u001b[0m \u001b[38;5;66;03m# Codificar variables categóricas\u001b[39;00m\n\u001b[1;32m     35\u001b[0m encoder \u001b[38;5;241m=\u001b[39m OrdinalEncoder()\n\u001b[0;32m---> 36\u001b[0m df[categorical_columns] \u001b[38;5;241m=\u001b[39m \u001b[43mencoder\u001b[49m\u001b[38;5;241;43m.\u001b[39;49m\u001b[43mfit_transform\u001b[49m\u001b[43m(\u001b[49m\u001b[43mdf\u001b[49m\u001b[43m[\u001b[49m\u001b[43mcategorical_columns\u001b[49m\u001b[43m]\u001b[49m\u001b[43m)\u001b[49m\n\u001b[1;32m     38\u001b[0m \u001b[38;5;66;03m# Manejar valores faltantes\u001b[39;00m\n\u001b[1;32m     39\u001b[0m \u001b[38;5;28;01mfor\u001b[39;00m col \u001b[38;5;129;01min\u001b[39;00m categorical_columns:\n",
      "File \u001b[0;32m/opt/homebrew/lib/python3.9/site-packages/sklearn/utils/_set_output.py:316\u001b[0m, in \u001b[0;36m_wrap_method_output.<locals>.wrapped\u001b[0;34m(self, X, *args, **kwargs)\u001b[0m\n\u001b[1;32m    314\u001b[0m \u001b[38;5;129m@wraps\u001b[39m(f)\n\u001b[1;32m    315\u001b[0m \u001b[38;5;28;01mdef\u001b[39;00m \u001b[38;5;21mwrapped\u001b[39m(\u001b[38;5;28mself\u001b[39m, X, \u001b[38;5;241m*\u001b[39margs, \u001b[38;5;241m*\u001b[39m\u001b[38;5;241m*\u001b[39mkwargs):\n\u001b[0;32m--> 316\u001b[0m     data_to_wrap \u001b[38;5;241m=\u001b[39m \u001b[43mf\u001b[49m\u001b[43m(\u001b[49m\u001b[38;5;28;43mself\u001b[39;49m\u001b[43m,\u001b[49m\u001b[43m \u001b[49m\u001b[43mX\u001b[49m\u001b[43m,\u001b[49m\u001b[43m \u001b[49m\u001b[38;5;241;43m*\u001b[39;49m\u001b[43margs\u001b[49m\u001b[43m,\u001b[49m\u001b[43m \u001b[49m\u001b[38;5;241;43m*\u001b[39;49m\u001b[38;5;241;43m*\u001b[39;49m\u001b[43mkwargs\u001b[49m\u001b[43m)\u001b[49m\n\u001b[1;32m    317\u001b[0m     \u001b[38;5;28;01mif\u001b[39;00m \u001b[38;5;28misinstance\u001b[39m(data_to_wrap, \u001b[38;5;28mtuple\u001b[39m):\n\u001b[1;32m    318\u001b[0m         \u001b[38;5;66;03m# only wrap the first output for cross decomposition\u001b[39;00m\n\u001b[1;32m    319\u001b[0m         return_tuple \u001b[38;5;241m=\u001b[39m (\n\u001b[1;32m    320\u001b[0m             _wrap_data_with_container(method, data_to_wrap[\u001b[38;5;241m0\u001b[39m], X, \u001b[38;5;28mself\u001b[39m),\n\u001b[1;32m    321\u001b[0m             \u001b[38;5;241m*\u001b[39mdata_to_wrap[\u001b[38;5;241m1\u001b[39m:],\n\u001b[1;32m    322\u001b[0m         )\n",
      "File \u001b[0;32m/opt/homebrew/lib/python3.9/site-packages/sklearn/base.py:1098\u001b[0m, in \u001b[0;36mTransformerMixin.fit_transform\u001b[0;34m(self, X, y, **fit_params)\u001b[0m\n\u001b[1;32m   1083\u001b[0m         warnings\u001b[38;5;241m.\u001b[39mwarn(\n\u001b[1;32m   1084\u001b[0m             (\n\u001b[1;32m   1085\u001b[0m                 \u001b[38;5;124mf\u001b[39m\u001b[38;5;124m\"\u001b[39m\u001b[38;5;124mThis object (\u001b[39m\u001b[38;5;132;01m{\u001b[39;00m\u001b[38;5;28mself\u001b[39m\u001b[38;5;241m.\u001b[39m\u001b[38;5;18m__class__\u001b[39m\u001b[38;5;241m.\u001b[39m\u001b[38;5;18m__name__\u001b[39m\u001b[38;5;132;01m}\u001b[39;00m\u001b[38;5;124m) has a `transform`\u001b[39m\u001b[38;5;124m\"\u001b[39m\n\u001b[0;32m   (...)\u001b[0m\n\u001b[1;32m   1093\u001b[0m             \u001b[38;5;167;01mUserWarning\u001b[39;00m,\n\u001b[1;32m   1094\u001b[0m         )\n\u001b[1;32m   1096\u001b[0m \u001b[38;5;28;01mif\u001b[39;00m y \u001b[38;5;129;01mis\u001b[39;00m \u001b[38;5;28;01mNone\u001b[39;00m:\n\u001b[1;32m   1097\u001b[0m     \u001b[38;5;66;03m# fit method of arity 1 (unsupervised transformation)\u001b[39;00m\n\u001b[0;32m-> 1098\u001b[0m     \u001b[38;5;28;01mreturn\u001b[39;00m \u001b[38;5;28;43mself\u001b[39;49m\u001b[38;5;241;43m.\u001b[39;49m\u001b[43mfit\u001b[49m\u001b[43m(\u001b[49m\u001b[43mX\u001b[49m\u001b[43m,\u001b[49m\u001b[43m \u001b[49m\u001b[38;5;241;43m*\u001b[39;49m\u001b[38;5;241;43m*\u001b[39;49m\u001b[43mfit_params\u001b[49m\u001b[43m)\u001b[49m\u001b[38;5;241m.\u001b[39mtransform(X)\n\u001b[1;32m   1099\u001b[0m \u001b[38;5;28;01melse\u001b[39;00m:\n\u001b[1;32m   1100\u001b[0m     \u001b[38;5;66;03m# fit method of arity 2 (supervised transformation)\u001b[39;00m\n\u001b[1;32m   1101\u001b[0m     \u001b[38;5;28;01mreturn\u001b[39;00m \u001b[38;5;28mself\u001b[39m\u001b[38;5;241m.\u001b[39mfit(X, y, \u001b[38;5;241m*\u001b[39m\u001b[38;5;241m*\u001b[39mfit_params)\u001b[38;5;241m.\u001b[39mtransform(X)\n",
      "File \u001b[0;32m/opt/homebrew/lib/python3.9/site-packages/sklearn/base.py:1473\u001b[0m, in \u001b[0;36m_fit_context.<locals>.decorator.<locals>.wrapper\u001b[0;34m(estimator, *args, **kwargs)\u001b[0m\n\u001b[1;32m   1466\u001b[0m     estimator\u001b[38;5;241m.\u001b[39m_validate_params()\n\u001b[1;32m   1468\u001b[0m \u001b[38;5;28;01mwith\u001b[39;00m config_context(\n\u001b[1;32m   1469\u001b[0m     skip_parameter_validation\u001b[38;5;241m=\u001b[39m(\n\u001b[1;32m   1470\u001b[0m         prefer_skip_nested_validation \u001b[38;5;129;01mor\u001b[39;00m global_skip_validation\n\u001b[1;32m   1471\u001b[0m     )\n\u001b[1;32m   1472\u001b[0m ):\n\u001b[0;32m-> 1473\u001b[0m     \u001b[38;5;28;01mreturn\u001b[39;00m \u001b[43mfit_method\u001b[49m\u001b[43m(\u001b[49m\u001b[43mestimator\u001b[49m\u001b[43m,\u001b[49m\u001b[43m \u001b[49m\u001b[38;5;241;43m*\u001b[39;49m\u001b[43margs\u001b[49m\u001b[43m,\u001b[49m\u001b[43m \u001b[49m\u001b[38;5;241;43m*\u001b[39;49m\u001b[38;5;241;43m*\u001b[39;49m\u001b[43mkwargs\u001b[49m\u001b[43m)\u001b[49m\n",
      "File \u001b[0;32m/opt/homebrew/lib/python3.9/site-packages/sklearn/preprocessing/_encoders.py:1496\u001b[0m, in \u001b[0;36mOrdinalEncoder.fit\u001b[0;34m(self, X, y)\u001b[0m\n\u001b[1;32m   1489\u001b[0m     \u001b[38;5;28;01mraise\u001b[39;00m \u001b[38;5;167;01mTypeError\u001b[39;00m(\n\u001b[1;32m   1490\u001b[0m         \u001b[38;5;124m\"\u001b[39m\u001b[38;5;124munknown_value should only be set when \u001b[39m\u001b[38;5;124m\"\u001b[39m\n\u001b[1;32m   1491\u001b[0m         \u001b[38;5;124m\"\u001b[39m\u001b[38;5;124mhandle_unknown is \u001b[39m\u001b[38;5;124m'\u001b[39m\u001b[38;5;124muse_encoded_value\u001b[39m\u001b[38;5;124m'\u001b[39m\u001b[38;5;124m, \u001b[39m\u001b[38;5;124m\"\u001b[39m\n\u001b[1;32m   1492\u001b[0m         \u001b[38;5;124mf\u001b[39m\u001b[38;5;124m\"\u001b[39m\u001b[38;5;124mgot \u001b[39m\u001b[38;5;132;01m{\u001b[39;00m\u001b[38;5;28mself\u001b[39m\u001b[38;5;241m.\u001b[39munknown_value\u001b[38;5;132;01m}\u001b[39;00m\u001b[38;5;124m.\u001b[39m\u001b[38;5;124m\"\u001b[39m\n\u001b[1;32m   1493\u001b[0m     )\n\u001b[1;32m   1495\u001b[0m \u001b[38;5;66;03m# `_fit` will only raise an error when `self.handle_unknown=\"error\"`\u001b[39;00m\n\u001b[0;32m-> 1496\u001b[0m fit_results \u001b[38;5;241m=\u001b[39m \u001b[38;5;28;43mself\u001b[39;49m\u001b[38;5;241;43m.\u001b[39;49m\u001b[43m_fit\u001b[49m\u001b[43m(\u001b[49m\n\u001b[1;32m   1497\u001b[0m \u001b[43m    \u001b[49m\u001b[43mX\u001b[49m\u001b[43m,\u001b[49m\n\u001b[1;32m   1498\u001b[0m \u001b[43m    \u001b[49m\u001b[43mhandle_unknown\u001b[49m\u001b[38;5;241;43m=\u001b[39;49m\u001b[38;5;28;43mself\u001b[39;49m\u001b[38;5;241;43m.\u001b[39;49m\u001b[43mhandle_unknown\u001b[49m\u001b[43m,\u001b[49m\n\u001b[1;32m   1499\u001b[0m \u001b[43m    \u001b[49m\u001b[43mforce_all_finite\u001b[49m\u001b[38;5;241;43m=\u001b[39;49m\u001b[38;5;124;43m\"\u001b[39;49m\u001b[38;5;124;43mallow-nan\u001b[39;49m\u001b[38;5;124;43m\"\u001b[39;49m\u001b[43m,\u001b[49m\n\u001b[1;32m   1500\u001b[0m \u001b[43m    \u001b[49m\u001b[43mreturn_and_ignore_missing_for_infrequent\u001b[49m\u001b[38;5;241;43m=\u001b[39;49m\u001b[38;5;28;43;01mTrue\u001b[39;49;00m\u001b[43m,\u001b[49m\n\u001b[1;32m   1501\u001b[0m \u001b[43m\u001b[49m\u001b[43m)\u001b[49m\n\u001b[1;32m   1502\u001b[0m \u001b[38;5;28mself\u001b[39m\u001b[38;5;241m.\u001b[39m_missing_indices \u001b[38;5;241m=\u001b[39m fit_results[\u001b[38;5;124m\"\u001b[39m\u001b[38;5;124mmissing_indices\u001b[39m\u001b[38;5;124m\"\u001b[39m]\n\u001b[1;32m   1504\u001b[0m cardinalities \u001b[38;5;241m=\u001b[39m [\u001b[38;5;28mlen\u001b[39m(categories) \u001b[38;5;28;01mfor\u001b[39;00m categories \u001b[38;5;129;01min\u001b[39;00m \u001b[38;5;28mself\u001b[39m\u001b[38;5;241m.\u001b[39mcategories_]\n",
      "File \u001b[0;32m/opt/homebrew/lib/python3.9/site-packages/sklearn/preprocessing/_encoders.py:79\u001b[0m, in \u001b[0;36m_BaseEncoder._fit\u001b[0;34m(self, X, handle_unknown, force_all_finite, return_counts, return_and_ignore_missing_for_infrequent)\u001b[0m\n\u001b[1;32m     77\u001b[0m \u001b[38;5;28mself\u001b[39m\u001b[38;5;241m.\u001b[39m_check_n_features(X, reset\u001b[38;5;241m=\u001b[39m\u001b[38;5;28;01mTrue\u001b[39;00m)\n\u001b[1;32m     78\u001b[0m \u001b[38;5;28mself\u001b[39m\u001b[38;5;241m.\u001b[39m_check_feature_names(X, reset\u001b[38;5;241m=\u001b[39m\u001b[38;5;28;01mTrue\u001b[39;00m)\n\u001b[0;32m---> 79\u001b[0m X_list, n_samples, n_features \u001b[38;5;241m=\u001b[39m \u001b[38;5;28;43mself\u001b[39;49m\u001b[38;5;241;43m.\u001b[39;49m\u001b[43m_check_X\u001b[49m\u001b[43m(\u001b[49m\n\u001b[1;32m     80\u001b[0m \u001b[43m    \u001b[49m\u001b[43mX\u001b[49m\u001b[43m,\u001b[49m\u001b[43m \u001b[49m\u001b[43mforce_all_finite\u001b[49m\u001b[38;5;241;43m=\u001b[39;49m\u001b[43mforce_all_finite\u001b[49m\n\u001b[1;32m     81\u001b[0m \u001b[43m\u001b[49m\u001b[43m)\u001b[49m\n\u001b[1;32m     82\u001b[0m \u001b[38;5;28mself\u001b[39m\u001b[38;5;241m.\u001b[39mn_features_in_ \u001b[38;5;241m=\u001b[39m n_features\n\u001b[1;32m     84\u001b[0m \u001b[38;5;28;01mif\u001b[39;00m \u001b[38;5;28mself\u001b[39m\u001b[38;5;241m.\u001b[39mcategories \u001b[38;5;241m!=\u001b[39m \u001b[38;5;124m\"\u001b[39m\u001b[38;5;124mauto\u001b[39m\u001b[38;5;124m\"\u001b[39m:\n",
      "File \u001b[0;32m/opt/homebrew/lib/python3.9/site-packages/sklearn/preprocessing/_encoders.py:61\u001b[0m, in \u001b[0;36m_BaseEncoder._check_X\u001b[0;34m(self, X, force_all_finite)\u001b[0m\n\u001b[1;32m     59\u001b[0m \u001b[38;5;28;01mfor\u001b[39;00m i \u001b[38;5;129;01min\u001b[39;00m \u001b[38;5;28mrange\u001b[39m(n_features):\n\u001b[1;32m     60\u001b[0m     Xi \u001b[38;5;241m=\u001b[39m _safe_indexing(X, indices\u001b[38;5;241m=\u001b[39mi, axis\u001b[38;5;241m=\u001b[39m\u001b[38;5;241m1\u001b[39m)\n\u001b[0;32m---> 61\u001b[0m     Xi \u001b[38;5;241m=\u001b[39m \u001b[43mcheck_array\u001b[49m\u001b[43m(\u001b[49m\n\u001b[1;32m     62\u001b[0m \u001b[43m        \u001b[49m\u001b[43mXi\u001b[49m\u001b[43m,\u001b[49m\u001b[43m \u001b[49m\u001b[43mensure_2d\u001b[49m\u001b[38;5;241;43m=\u001b[39;49m\u001b[38;5;28;43;01mFalse\u001b[39;49;00m\u001b[43m,\u001b[49m\u001b[43m \u001b[49m\u001b[43mdtype\u001b[49m\u001b[38;5;241;43m=\u001b[39;49m\u001b[38;5;28;43;01mNone\u001b[39;49;00m\u001b[43m,\u001b[49m\u001b[43m \u001b[49m\u001b[43mforce_all_finite\u001b[49m\u001b[38;5;241;43m=\u001b[39;49m\u001b[43mneeds_validation\u001b[49m\n\u001b[1;32m     63\u001b[0m \u001b[43m    \u001b[49m\u001b[43m)\u001b[49m\n\u001b[1;32m     64\u001b[0m     X_columns\u001b[38;5;241m.\u001b[39mappend(Xi)\n\u001b[1;32m     66\u001b[0m \u001b[38;5;28;01mreturn\u001b[39;00m X_columns, n_samples, n_features\n",
      "File \u001b[0;32m/opt/homebrew/lib/python3.9/site-packages/sklearn/utils/validation.py:1087\u001b[0m, in \u001b[0;36mcheck_array\u001b[0;34m(array, accept_sparse, accept_large_sparse, dtype, order, copy, force_writeable, force_all_finite, ensure_2d, allow_nd, ensure_min_samples, ensure_min_features, estimator, input_name)\u001b[0m\n\u001b[1;32m   1085\u001b[0m     n_samples \u001b[38;5;241m=\u001b[39m _num_samples(array)\n\u001b[1;32m   1086\u001b[0m     \u001b[38;5;28;01mif\u001b[39;00m n_samples \u001b[38;5;241m<\u001b[39m ensure_min_samples:\n\u001b[0;32m-> 1087\u001b[0m         \u001b[38;5;28;01mraise\u001b[39;00m \u001b[38;5;167;01mValueError\u001b[39;00m(\n\u001b[1;32m   1088\u001b[0m             \u001b[38;5;124m\"\u001b[39m\u001b[38;5;124mFound array with \u001b[39m\u001b[38;5;132;01m%d\u001b[39;00m\u001b[38;5;124m sample(s) (shape=\u001b[39m\u001b[38;5;132;01m%s\u001b[39;00m\u001b[38;5;124m) while a\u001b[39m\u001b[38;5;124m\"\u001b[39m\n\u001b[1;32m   1089\u001b[0m             \u001b[38;5;124m\"\u001b[39m\u001b[38;5;124m minimum of \u001b[39m\u001b[38;5;132;01m%d\u001b[39;00m\u001b[38;5;124m is required\u001b[39m\u001b[38;5;132;01m%s\u001b[39;00m\u001b[38;5;124m.\u001b[39m\u001b[38;5;124m\"\u001b[39m\n\u001b[1;32m   1090\u001b[0m             \u001b[38;5;241m%\u001b[39m (n_samples, array\u001b[38;5;241m.\u001b[39mshape, ensure_min_samples, context)\n\u001b[1;32m   1091\u001b[0m         )\n\u001b[1;32m   1093\u001b[0m \u001b[38;5;28;01mif\u001b[39;00m ensure_min_features \u001b[38;5;241m>\u001b[39m \u001b[38;5;241m0\u001b[39m \u001b[38;5;129;01mand\u001b[39;00m array\u001b[38;5;241m.\u001b[39mndim \u001b[38;5;241m==\u001b[39m \u001b[38;5;241m2\u001b[39m:\n\u001b[1;32m   1094\u001b[0m     n_features \u001b[38;5;241m=\u001b[39m array\u001b[38;5;241m.\u001b[39mshape[\u001b[38;5;241m1\u001b[39m]\n",
      "\u001b[0;31mValueError\u001b[0m: Found array with 0 sample(s) (shape=(0,)) while a minimum of 1 is required."
     ]
    }
   ],
   "source": [
    "import pandas as pd\n",
    "import numpy as np\n",
    "from sklearn.model_selection import train_test_split\n",
    "from sklearn.preprocessing import StandardScaler, OrdinalEncoder\n",
    "from sklearn.metrics import classification_report, confusion_matrix, roc_auc_score, roc_curve\n",
    "from tensorflow.keras.models import Sequential\n",
    "from tensorflow.keras.layers import Dense, Dropout\n",
    "from tensorflow.keras.optimizers import Adam\n",
    "from sklearn.utils.class_weight import compute_class_weight\n",
    "import matplotlib.pyplot as plt\n",
    "import seaborn as sns\n",
    "\n",
    "# Variables seleccionadas\n",
    "categorical_columns = [\n",
    "    'cole_area_ubicacion', 'cole_caracter', 'cole_bilingue', 'cole_jornada',\n",
    "    'fami_tienecomputador', 'fami_tieneinternet', 'fami_tienelavadora', 'fami_tieneautomovil'\n",
    "]\n",
    "\n",
    "numerical_columns = [\n",
    "    'edad', 'punt_ingles', 'punt_matematicas', 'punt_sociales_ciudadanas',\n",
    "    'punt_c_naturales', 'punt_lectura_critica'\n",
    "]\n",
    "\n",
    "# Cargar datos\n",
    "df = pd.read_excel(\"Base_Limpia.xlsx\")\n",
    "\n",
    "# Corregir las fechas\n",
    "df['estu_fechanacimiento'] = pd.to_datetime(df['estu_fechanacimiento'], format='%Y-%m-%d', errors='coerce')\n",
    "df = df[df['estu_fechanacimiento'].notna()]\n",
    "\n",
    "# Calcular la edad\n",
    "df['edad'] = 2024 - df['estu_fechanacimiento'].dt.year\n",
    "\n",
    "# Codificar variables categóricas\n",
    "encoder = OrdinalEncoder()\n",
    "df[categorical_columns] = encoder.fit_transform(df[categorical_columns])\n",
    "\n",
    "# Manejar valores faltantes\n",
    "for col in categorical_columns:\n",
    "    df[col].fillna(df[col].mode()[0], inplace=True)\n",
    "\n",
    "for col in numerical_columns:\n",
    "    df[col].fillna(df[col].mean(), inplace=True)\n",
    "\n",
    "# Normalizar variables numéricas\n",
    "scaler = StandardScaler()\n",
    "df[numerical_columns] = scaler.fit_transform(df[numerical_columns])\n",
    "\n",
    "# Preparar las variables predictoras y objetivo\n",
    "X = df[categorical_columns + numerical_columns]\n",
    "y = (df['punt_global'] >= 300).astype(int)  # Clasificación binaria\n",
    "\n",
    "# Dividir en entrenamiento y prueba\n",
    "X_train, X_test, y_train, y_test = train_test_split(X, y, test_size=0.2, random_state=42)\n",
    "\n",
    "# Verificar datos de entrada\n",
    "print(f\"X_train contiene NaN: {X_train.isna().any()}\")\n",
    "print(f\"Distribución de y_train: {y_train.value_counts(normalize=True)}\")\n",
    "\n",
    "# Configurar el modelo con tasa de aprendizaje reducida\n",
    "model = Sequential([\n",
    "    Dense(64, activation='relu', input_shape=(X_train.shape[1],)),\n",
    "    Dropout(0.2),\n",
    "    Dense(32, activation='relu'),\n",
    "    Dropout(0.2),\n",
    "    Dense(1, activation='sigmoid')  # Salida binaria\n",
    "])\n",
    "\n",
    "model.compile(\n",
    "    optimizer=Adam(learning_rate=0.0001),  # Tasa de aprendizaje reducida\n",
    "    loss='binary_crossentropy',\n",
    "    metrics=['accuracy']\n",
    ")\n",
    "\n",
    "# Calcular pesos de clases para manejar desbalanceo\n",
    "class_weights = compute_class_weight('balanced', classes=np.unique(y_train), y=y_train)\n",
    "class_weights_dict = dict(enumerate(class_weights))\n",
    "print(\"Pesos de clase:\", class_weights_dict)\n",
    "\n",
    "# Entrenar el modelo\n",
    "history = model.fit(\n",
    "    X_train, y_train, \n",
    "    epochs=50, batch_size=32, \n",
    "    validation_split=0.2, \n",
    "    class_weight=class_weights_dict, \n",
    "    verbose=1\n",
    ")\n",
    "\n",
    "# Evaluar el modelo\n",
    "y_pred_probs = model.predict(X_test).flatten()\n",
    "y_pred_classes = (y_pred_probs > 0.5).astype(int)\n",
    "\n",
    "# Reporte de clasificación\n",
    "print(\"Reporte de Clasificación:\")\n",
    "print(classification_report(y_test, y_pred_classes))\n",
    "\n",
    "# Matriz de Confusión\n",
    "conf_matrix = confusion_matrix(y_test, y_pred_classes)\n",
    "plt.figure(figsize=(8, 6))\n",
    "sns.heatmap(conf_matrix, annot=True, fmt='d', cmap='Blues', xticklabels=['Clase 0', 'Clase 1'], yticklabels=['Clase 0', 'Clase 1'])\n",
    "plt.xlabel('Predicción')\n",
    "plt.ylabel('Valor Real')\n",
    "plt.title('Matriz de Confusión')\n",
    "plt.show()\n",
    "\n",
    "# Curva ROC\n",
    "fpr, tpr, _ = roc_curve(y_test, y_pred_probs)\n",
    "roc_auc = roc_auc_score(y_test, y_pred_probs)\n",
    "\n",
    "plt.figure(figsize=(8, 6))\n",
    "plt.plot(fpr, tpr, label=f'ROC curve (AUC = {roc_auc:.2f})')\n",
    "plt.plot([0, 1], [0, 1], 'k--')\n",
    "plt.xlabel('False Positive Rate')\n",
    "plt.ylabel('True Positive Rate')\n",
    "plt.title('Receiver Operating Characteristic (ROC) Curve')\n",
    "plt.legend(loc=\"lower right\")\n",
    "plt.show()\n",
    "\n",
    "print(f\"ROC-AUC: {roc_auc:.4f}\")"
   ]
  },
  {
   "cell_type": "code",
   "execution_count": null,
   "metadata": {},
   "outputs": [],
   "source": [
    "### Predicción de el modelo de calificación "
   ]
  },
  {
   "cell_type": "markdown",
   "metadata": {},
   "source": [
    "### Modelo de regresión"
   ]
  },
  {
   "cell_type": "markdown",
   "metadata": {},
   "source": [
    "### Oversampling"
   ]
  },
  {
   "cell_type": "markdown",
   "metadata": {},
   "source": [
    "## Desbalanciada"
   ]
  },
  {
   "cell_type": "code",
   "execution_count": 18,
   "metadata": {},
   "outputs": [
    {
     "name": "stdout",
     "output_type": "stream",
     "text": [
      "Epoch 1/100\n"
     ]
    },
    {
     "name": "stderr",
     "output_type": "stream",
     "text": [
      "/Users/isabellacastillo/Library/Python/3.9/lib/python/site-packages/keras/src/layers/core/dense.py:87: UserWarning: Do not pass an `input_shape`/`input_dim` argument to a layer. When using Sequential models, prefer using an `Input(shape)` object as the first layer in the model instead.\n",
      "  super().__init__(activity_regularizer=activity_regularizer, **kwargs)\n"
     ]
    },
    {
     "name": "stdout",
     "output_type": "stream",
     "text": [
      "\u001b[1m1741/1741\u001b[0m \u001b[32m━━━━━━━━━━━━━━━━━━━━\u001b[0m\u001b[37m\u001b[0m \u001b[1m1s\u001b[0m 560us/step - loss: 0.1052 - mae: 0.2049 - val_loss: 0.0823 - val_mae: 0.1675\n",
      "Epoch 2/100\n",
      "\u001b[1m1741/1741\u001b[0m \u001b[32m━━━━━━━━━━━━━━━━━━━━\u001b[0m\u001b[37m\u001b[0m \u001b[1m1s\u001b[0m 550us/step - loss: 0.0828 - mae: 0.1695 - val_loss: 0.0787 - val_mae: 0.1672\n",
      "Epoch 3/100\n",
      "\u001b[1m1741/1741\u001b[0m \u001b[32m━━━━━━━━━━━━━━━━━━━━\u001b[0m\u001b[37m\u001b[0m \u001b[1m1s\u001b[0m 569us/step - loss: 0.0840 - mae: 0.1718 - val_loss: 0.0792 - val_mae: 0.1668\n",
      "Epoch 4/100\n",
      "\u001b[1m1741/1741\u001b[0m \u001b[32m━━━━━━━━━━━━━━━━━━━━\u001b[0m\u001b[37m\u001b[0m \u001b[1m1s\u001b[0m 512us/step - loss: 0.0815 - mae: 0.1687 - val_loss: 0.0801 - val_mae: 0.1747\n",
      "Epoch 5/100\n",
      "\u001b[1m1741/1741\u001b[0m \u001b[32m━━━━━━━━━━━━━━━━━━━━\u001b[0m\u001b[37m\u001b[0m \u001b[1m1s\u001b[0m 516us/step - loss: 0.0833 - mae: 0.1709 - val_loss: 0.0799 - val_mae: 0.1767\n",
      "Epoch 6/100\n",
      "\u001b[1m1741/1741\u001b[0m \u001b[32m━━━━━━━━━━━━━━━━━━━━\u001b[0m\u001b[37m\u001b[0m \u001b[1m1s\u001b[0m 501us/step - loss: 0.0818 - mae: 0.1687 - val_loss: 0.0804 - val_mae: 0.1732\n",
      "Epoch 7/100\n",
      "\u001b[1m1741/1741\u001b[0m \u001b[32m━━━━━━━━━━━━━━━━━━━━\u001b[0m\u001b[37m\u001b[0m \u001b[1m1s\u001b[0m 515us/step - loss: 0.0805 - mae: 0.1663 - val_loss: 0.0791 - val_mae: 0.1659\n",
      "Epoch 8/100\n",
      "\u001b[1m1741/1741\u001b[0m \u001b[32m━━━━━━━━━━━━━━━━━━━━\u001b[0m\u001b[37m\u001b[0m \u001b[1m1s\u001b[0m 505us/step - loss: 0.0809 - mae: 0.1662 - val_loss: 0.0785 - val_mae: 0.1601\n",
      "Epoch 9/100\n",
      "\u001b[1m1741/1741\u001b[0m \u001b[32m━━━━━━━━━━━━━━━━━━━━\u001b[0m\u001b[37m\u001b[0m \u001b[1m1s\u001b[0m 505us/step - loss: 0.0816 - mae: 0.1676 - val_loss: 0.0797 - val_mae: 0.1639\n",
      "Epoch 10/100\n",
      "\u001b[1m1741/1741\u001b[0m \u001b[32m━━━━━━━━━━━━━━━━━━━━\u001b[0m\u001b[37m\u001b[0m \u001b[1m1s\u001b[0m 504us/step - loss: 0.0815 - mae: 0.1671 - val_loss: 0.0812 - val_mae: 0.1708\n",
      "Epoch 11/100\n",
      "\u001b[1m1741/1741\u001b[0m \u001b[32m━━━━━━━━━━━━━━━━━━━━\u001b[0m\u001b[37m\u001b[0m \u001b[1m1s\u001b[0m 515us/step - loss: 0.0801 - mae: 0.1652 - val_loss: 0.0810 - val_mae: 0.1742\n",
      "Epoch 12/100\n",
      "\u001b[1m1741/1741\u001b[0m \u001b[32m━━━━━━━━━━━━━━━━━━━━\u001b[0m\u001b[37m\u001b[0m \u001b[1m1s\u001b[0m 496us/step - loss: 0.0804 - mae: 0.1658 - val_loss: 0.0798 - val_mae: 0.1691\n",
      "Epoch 13/100\n",
      "\u001b[1m1741/1741\u001b[0m \u001b[32m━━━━━━━━━━━━━━━━━━━━\u001b[0m\u001b[37m\u001b[0m \u001b[1m1s\u001b[0m 504us/step - loss: 0.0804 - mae: 0.1654 - val_loss: 0.0803 - val_mae: 0.1736\n",
      "Epoch 14/100\n",
      "\u001b[1m1741/1741\u001b[0m \u001b[32m━━━━━━━━━━━━━━━━━━━━\u001b[0m\u001b[37m\u001b[0m \u001b[1m1s\u001b[0m 498us/step - loss: 0.0792 - mae: 0.1636 - val_loss: 0.0809 - val_mae: 0.1603\n",
      "Epoch 15/100\n",
      "\u001b[1m1741/1741\u001b[0m \u001b[32m━━━━━━━━━━━━━━━━━━━━\u001b[0m\u001b[37m\u001b[0m \u001b[1m1s\u001b[0m 501us/step - loss: 0.0802 - mae: 0.1653 - val_loss: 0.0788 - val_mae: 0.1664\n",
      "Epoch 16/100\n",
      "\u001b[1m1741/1741\u001b[0m \u001b[32m━━━━━━━━━━━━━━━━━━━━\u001b[0m\u001b[37m\u001b[0m \u001b[1m1s\u001b[0m 499us/step - loss: 0.0798 - mae: 0.1644 - val_loss: 0.0801 - val_mae: 0.1613\n",
      "Epoch 17/100\n",
      "\u001b[1m1741/1741\u001b[0m \u001b[32m━━━━━━━━━━━━━━━━━━━━\u001b[0m\u001b[37m\u001b[0m \u001b[1m1s\u001b[0m 502us/step - loss: 0.0810 - mae: 0.1661 - val_loss: 0.0791 - val_mae: 0.1709\n",
      "Epoch 18/100\n",
      "\u001b[1m1741/1741\u001b[0m \u001b[32m━━━━━━━━━━━━━━━━━━━━\u001b[0m\u001b[37m\u001b[0m \u001b[1m1s\u001b[0m 521us/step - loss: 0.0817 - mae: 0.1672 - val_loss: 0.0796 - val_mae: 0.1673\n",
      "Epoch 19/100\n",
      "\u001b[1m1741/1741\u001b[0m \u001b[32m━━━━━━━━━━━━━━━━━━━━\u001b[0m\u001b[37m\u001b[0m \u001b[1m1s\u001b[0m 536us/step - loss: 0.0805 - mae: 0.1650 - val_loss: 0.0801 - val_mae: 0.1648\n",
      "Epoch 20/100\n",
      "\u001b[1m1741/1741\u001b[0m \u001b[32m━━━━━━━━━━━━━━━━━━━━\u001b[0m\u001b[37m\u001b[0m \u001b[1m1s\u001b[0m 515us/step - loss: 0.0830 - mae: 0.1697 - val_loss: 0.0816 - val_mae: 0.1802\n",
      "Epoch 21/100\n",
      "\u001b[1m1741/1741\u001b[0m \u001b[32m━━━━━━━━━━━━━━━━━━━━\u001b[0m\u001b[37m\u001b[0m \u001b[1m1s\u001b[0m 519us/step - loss: 0.0814 - mae: 0.1674 - val_loss: 0.0793 - val_mae: 0.1674\n",
      "Epoch 22/100\n",
      "\u001b[1m1741/1741\u001b[0m \u001b[32m━━━━━━━━━━━━━━━━━━━━\u001b[0m\u001b[37m\u001b[0m \u001b[1m1s\u001b[0m 517us/step - loss: 0.0804 - mae: 0.1643 - val_loss: 0.0791 - val_mae: 0.1602\n",
      "Epoch 23/100\n",
      "\u001b[1m1741/1741\u001b[0m \u001b[32m━━━━━━━━━━━━━━━━━━━━\u001b[0m\u001b[37m\u001b[0m \u001b[1m1s\u001b[0m 504us/step - loss: 0.0799 - mae: 0.1641 - val_loss: 0.0789 - val_mae: 0.1639\n",
      "Epoch 24/100\n",
      "\u001b[1m1741/1741\u001b[0m \u001b[32m━━━━━━━━━━━━━━━━━━━━\u001b[0m\u001b[37m\u001b[0m \u001b[1m1s\u001b[0m 496us/step - loss: 0.0789 - mae: 0.1624 - val_loss: 0.0792 - val_mae: 0.1673\n",
      "Epoch 25/100\n",
      "\u001b[1m1741/1741\u001b[0m \u001b[32m━━━━━━━━━━━━━━━━━━━━\u001b[0m\u001b[37m\u001b[0m \u001b[1m1s\u001b[0m 515us/step - loss: 0.0806 - mae: 0.1651 - val_loss: 0.0794 - val_mae: 0.1741\n",
      "Epoch 26/100\n",
      "\u001b[1m1741/1741\u001b[0m \u001b[32m━━━━━━━━━━━━━━━━━━━━\u001b[0m\u001b[37m\u001b[0m \u001b[1m1s\u001b[0m 496us/step - loss: 0.0796 - mae: 0.1632 - val_loss: 0.0787 - val_mae: 0.1585\n",
      "Epoch 27/100\n",
      "\u001b[1m1741/1741\u001b[0m \u001b[32m━━━━━━━━━━━━━━━━━━━━\u001b[0m\u001b[37m\u001b[0m \u001b[1m1s\u001b[0m 495us/step - loss: 0.0797 - mae: 0.1631 - val_loss: 0.0785 - val_mae: 0.1650\n",
      "Epoch 28/100\n",
      "\u001b[1m1741/1741\u001b[0m \u001b[32m━━━━━━━━━━━━━━━━━━━━\u001b[0m\u001b[37m\u001b[0m \u001b[1m1s\u001b[0m 500us/step - loss: 0.0809 - mae: 0.1661 - val_loss: 0.0791 - val_mae: 0.1664\n",
      "Epoch 29/100\n",
      "\u001b[1m1741/1741\u001b[0m \u001b[32m━━━━━━━━━━━━━━━━━━━━\u001b[0m\u001b[37m\u001b[0m \u001b[1m1s\u001b[0m 496us/step - loss: 0.0799 - mae: 0.1640 - val_loss: 0.0784 - val_mae: 0.1566\n",
      "Epoch 30/100\n",
      "\u001b[1m1741/1741\u001b[0m \u001b[32m━━━━━━━━━━━━━━━━━━━━\u001b[0m\u001b[37m\u001b[0m \u001b[1m1s\u001b[0m 502us/step - loss: 0.0812 - mae: 0.1661 - val_loss: 0.0797 - val_mae: 0.1796\n",
      "Epoch 31/100\n",
      "\u001b[1m1741/1741\u001b[0m \u001b[32m━━━━━━━━━━━━━━━━━━━━\u001b[0m\u001b[37m\u001b[0m \u001b[1m1s\u001b[0m 494us/step - loss: 0.0799 - mae: 0.1649 - val_loss: 0.0782 - val_mae: 0.1562\n",
      "Epoch 32/100\n",
      "\u001b[1m1741/1741\u001b[0m \u001b[32m━━━━━━━━━━━━━━━━━━━━\u001b[0m\u001b[37m\u001b[0m \u001b[1m1s\u001b[0m 516us/step - loss: 0.0794 - mae: 0.1625 - val_loss: 0.0802 - val_mae: 0.1669\n",
      "Epoch 33/100\n",
      "\u001b[1m1741/1741\u001b[0m \u001b[32m━━━━━━━━━━━━━━━━━━━━\u001b[0m\u001b[37m\u001b[0m \u001b[1m1s\u001b[0m 497us/step - loss: 0.0799 - mae: 0.1641 - val_loss: 0.0787 - val_mae: 0.1559\n",
      "Epoch 34/100\n",
      "\u001b[1m1741/1741\u001b[0m \u001b[32m━━━━━━━━━━━━━━━━━━━━\u001b[0m\u001b[37m\u001b[0m \u001b[1m1s\u001b[0m 499us/step - loss: 0.0794 - mae: 0.1628 - val_loss: 0.0785 - val_mae: 0.1690\n",
      "Epoch 35/100\n",
      "\u001b[1m1741/1741\u001b[0m \u001b[32m━━━━━━━━━━━━━━━━━━━━\u001b[0m\u001b[37m\u001b[0m \u001b[1m1s\u001b[0m 497us/step - loss: 0.0794 - mae: 0.1630 - val_loss: 0.0787 - val_mae: 0.1696\n",
      "Epoch 36/100\n",
      "\u001b[1m1741/1741\u001b[0m \u001b[32m━━━━━━━━━━━━━━━━━━━━\u001b[0m\u001b[37m\u001b[0m \u001b[1m1s\u001b[0m 496us/step - loss: 0.0811 - mae: 0.1655 - val_loss: 0.0790 - val_mae: 0.1557\n",
      "Epoch 37/100\n",
      "\u001b[1m1741/1741\u001b[0m \u001b[32m━━━━━━━━━━━━━━━━━━━━\u001b[0m\u001b[37m\u001b[0m \u001b[1m1s\u001b[0m 493us/step - loss: 0.0791 - mae: 0.1616 - val_loss: 0.0789 - val_mae: 0.1597\n",
      "Epoch 38/100\n",
      "\u001b[1m1741/1741\u001b[0m \u001b[32m━━━━━━━━━━━━━━━━━━━━\u001b[0m\u001b[37m\u001b[0m \u001b[1m1s\u001b[0m 516us/step - loss: 0.0815 - mae: 0.1663 - val_loss: 0.0788 - val_mae: 0.1583\n",
      "Epoch 39/100\n",
      "\u001b[1m1741/1741\u001b[0m \u001b[32m━━━━━━━━━━━━━━━━━━━━\u001b[0m\u001b[37m\u001b[0m \u001b[1m1s\u001b[0m 492us/step - loss: 0.0808 - mae: 0.1651 - val_loss: 0.0804 - val_mae: 0.1777\n",
      "Epoch 40/100\n",
      "\u001b[1m1741/1741\u001b[0m \u001b[32m━━━━━━━━━━━━━━━━━━━━\u001b[0m\u001b[37m\u001b[0m \u001b[1m1s\u001b[0m 501us/step - loss: 0.0803 - mae: 0.1651 - val_loss: 0.0793 - val_mae: 0.1644\n",
      "Epoch 41/100\n",
      "\u001b[1m1741/1741\u001b[0m \u001b[32m━━━━━━━━━━━━━━━━━━━━\u001b[0m\u001b[37m\u001b[0m \u001b[1m1s\u001b[0m 492us/step - loss: 0.0790 - mae: 0.1621 - val_loss: 0.0796 - val_mae: 0.1766\n",
      "Epoch 42/100\n",
      "\u001b[1m1741/1741\u001b[0m \u001b[32m━━━━━━━━━━━━━━━━━━━━\u001b[0m\u001b[37m\u001b[0m \u001b[1m1s\u001b[0m 501us/step - loss: 0.0794 - mae: 0.1629 - val_loss: 0.0788 - val_mae: 0.1624\n",
      "Epoch 43/100\n",
      "\u001b[1m1741/1741\u001b[0m \u001b[32m━━━━━━━━━━━━━━━━━━━━\u001b[0m\u001b[37m\u001b[0m \u001b[1m1s\u001b[0m 497us/step - loss: 0.0804 - mae: 0.1640 - val_loss: 0.0792 - val_mae: 0.1565\n",
      "Epoch 44/100\n",
      "\u001b[1m1741/1741\u001b[0m \u001b[32m━━━━━━━━━━━━━━━━━━━━\u001b[0m\u001b[37m\u001b[0m \u001b[1m1s\u001b[0m 514us/step - loss: 0.0812 - mae: 0.1657 - val_loss: 0.0800 - val_mae: 0.1601\n",
      "Epoch 45/100\n",
      "\u001b[1m1741/1741\u001b[0m \u001b[32m━━━━━━━━━━━━━━━━━━━━\u001b[0m\u001b[37m\u001b[0m \u001b[1m1s\u001b[0m 493us/step - loss: 0.0805 - mae: 0.1642 - val_loss: 0.0788 - val_mae: 0.1544\n",
      "Epoch 46/100\n",
      "\u001b[1m1741/1741\u001b[0m \u001b[32m━━━━━━━━━━━━━━━━━━━━\u001b[0m\u001b[37m\u001b[0m \u001b[1m1s\u001b[0m 497us/step - loss: 0.0800 - mae: 0.1635 - val_loss: 0.0801 - val_mae: 0.1585\n",
      "Epoch 47/100\n",
      "\u001b[1m1741/1741\u001b[0m \u001b[32m━━━━━━━━━━━━━━━━━━━━\u001b[0m\u001b[37m\u001b[0m \u001b[1m1s\u001b[0m 496us/step - loss: 0.0802 - mae: 0.1643 - val_loss: 0.0786 - val_mae: 0.1620\n",
      "Epoch 48/100\n",
      "\u001b[1m1741/1741\u001b[0m \u001b[32m━━━━━━━━━━━━━━━━━━━━\u001b[0m\u001b[37m\u001b[0m \u001b[1m1s\u001b[0m 489us/step - loss: 0.0793 - mae: 0.1626 - val_loss: 0.0786 - val_mae: 0.1627\n",
      "Epoch 49/100\n",
      "\u001b[1m1741/1741\u001b[0m \u001b[32m━━━━━━━━━━━━━━━━━━━━\u001b[0m\u001b[37m\u001b[0m \u001b[1m1s\u001b[0m 495us/step - loss: 0.0809 - mae: 0.1656 - val_loss: 0.0785 - val_mae: 0.1664\n",
      "Epoch 50/100\n",
      "\u001b[1m1741/1741\u001b[0m \u001b[32m━━━━━━━━━━━━━━━━━━━━\u001b[0m\u001b[37m\u001b[0m \u001b[1m1s\u001b[0m 509us/step - loss: 0.0787 - mae: 0.1614 - val_loss: 0.0786 - val_mae: 0.1606\n",
      "Epoch 51/100\n",
      "\u001b[1m1741/1741\u001b[0m \u001b[32m━━━━━━━━━━━━━━━━━━━━\u001b[0m\u001b[37m\u001b[0m \u001b[1m1s\u001b[0m 501us/step - loss: 0.0810 - mae: 0.1654 - val_loss: 0.0797 - val_mae: 0.1603\n",
      "Epoch 52/100\n",
      "\u001b[1m1741/1741\u001b[0m \u001b[32m━━━━━━━━━━━━━━━━━━━━\u001b[0m\u001b[37m\u001b[0m \u001b[1m1s\u001b[0m 495us/step - loss: 0.0800 - mae: 0.1635 - val_loss: 0.0790 - val_mae: 0.1706\n",
      "Epoch 53/100\n",
      "\u001b[1m1741/1741\u001b[0m \u001b[32m━━━━━━━━━━━━━━━━━━━━\u001b[0m\u001b[37m\u001b[0m \u001b[1m1s\u001b[0m 504us/step - loss: 0.0798 - mae: 0.1636 - val_loss: 0.0791 - val_mae: 0.1665\n",
      "Epoch 54/100\n",
      "\u001b[1m1741/1741\u001b[0m \u001b[32m━━━━━━━━━━━━━━━━━━━━\u001b[0m\u001b[37m\u001b[0m \u001b[1m1s\u001b[0m 495us/step - loss: 0.0807 - mae: 0.1645 - val_loss: 0.0788 - val_mae: 0.1618\n",
      "Epoch 55/100\n",
      "\u001b[1m1741/1741\u001b[0m \u001b[32m━━━━━━━━━━━━━━━━━━━━\u001b[0m\u001b[37m\u001b[0m \u001b[1m1s\u001b[0m 500us/step - loss: 0.0807 - mae: 0.1652 - val_loss: 0.0789 - val_mae: 0.1543\n",
      "Epoch 56/100\n",
      "\u001b[1m1741/1741\u001b[0m \u001b[32m━━━━━━━━━━━━━━━━━━━━\u001b[0m\u001b[37m\u001b[0m \u001b[1m1s\u001b[0m 515us/step - loss: 0.0801 - mae: 0.1625 - val_loss: 0.0791 - val_mae: 0.1593\n",
      "Epoch 57/100\n",
      "\u001b[1m1741/1741\u001b[0m \u001b[32m━━━━━━━━━━━━━━━━━━━━\u001b[0m\u001b[37m\u001b[0m \u001b[1m1s\u001b[0m 498us/step - loss: 0.0798 - mae: 0.1629 - val_loss: 0.0784 - val_mae: 0.1617\n",
      "Epoch 58/100\n",
      "\u001b[1m1741/1741\u001b[0m \u001b[32m━━━━━━━━━━━━━━━━━━━━\u001b[0m\u001b[37m\u001b[0m \u001b[1m1s\u001b[0m 499us/step - loss: 0.0804 - mae: 0.1643 - val_loss: 0.0784 - val_mae: 0.1626\n",
      "Epoch 59/100\n",
      "\u001b[1m1741/1741\u001b[0m \u001b[32m━━━━━━━━━━━━━━━━━━━━\u001b[0m\u001b[37m\u001b[0m \u001b[1m1s\u001b[0m 499us/step - loss: 0.0793 - mae: 0.1623 - val_loss: 0.0784 - val_mae: 0.1568\n",
      "Epoch 60/100\n",
      "\u001b[1m1741/1741\u001b[0m \u001b[32m━━━━━━━━━━━━━━━━━━━━\u001b[0m\u001b[37m\u001b[0m \u001b[1m1s\u001b[0m 498us/step - loss: 0.0789 - mae: 0.1610 - val_loss: 0.0788 - val_mae: 0.1629\n",
      "Epoch 61/100\n",
      "\u001b[1m1741/1741\u001b[0m \u001b[32m━━━━━━━━━━━━━━━━━━━━\u001b[0m\u001b[37m\u001b[0m \u001b[1m1s\u001b[0m 520us/step - loss: 0.0811 - mae: 0.1651 - val_loss: 0.0786 - val_mae: 0.1507\n",
      "Epoch 62/100\n",
      "\u001b[1m1741/1741\u001b[0m \u001b[32m━━━━━━━━━━━━━━━━━━━━\u001b[0m\u001b[37m\u001b[0m \u001b[1m1s\u001b[0m 500us/step - loss: 0.0801 - mae: 0.1631 - val_loss: 0.0788 - val_mae: 0.1555\n",
      "Epoch 63/100\n",
      "\u001b[1m1741/1741\u001b[0m \u001b[32m━━━━━━━━━━━━━━━━━━━━\u001b[0m\u001b[37m\u001b[0m \u001b[1m1s\u001b[0m 499us/step - loss: 0.0809 - mae: 0.1654 - val_loss: 0.0785 - val_mae: 0.1630\n",
      "Epoch 64/100\n",
      "\u001b[1m1741/1741\u001b[0m \u001b[32m━━━━━━━━━━━━━━━━━━━━\u001b[0m\u001b[37m\u001b[0m \u001b[1m1s\u001b[0m 497us/step - loss: 0.0796 - mae: 0.1630 - val_loss: 0.0801 - val_mae: 0.1573\n",
      "Epoch 65/100\n",
      "\u001b[1m1741/1741\u001b[0m \u001b[32m━━━━━━━━━━━━━━━━━━━━\u001b[0m\u001b[37m\u001b[0m \u001b[1m1s\u001b[0m 502us/step - loss: 0.0791 - mae: 0.1617 - val_loss: 0.0790 - val_mae: 0.1501\n",
      "Epoch 66/100\n",
      "\u001b[1m1741/1741\u001b[0m \u001b[32m━━━━━━━━━━━━━━━━━━━━\u001b[0m\u001b[37m\u001b[0m \u001b[1m1s\u001b[0m 512us/step - loss: 0.0796 - mae: 0.1622 - val_loss: 0.0784 - val_mae: 0.1632\n",
      "Epoch 67/100\n",
      "\u001b[1m1741/1741\u001b[0m \u001b[32m━━━━━━━━━━━━━━━━━━━━\u001b[0m\u001b[37m\u001b[0m \u001b[1m1s\u001b[0m 503us/step - loss: 0.0795 - mae: 0.1626 - val_loss: 0.0785 - val_mae: 0.1618\n",
      "Epoch 68/100\n",
      "\u001b[1m1741/1741\u001b[0m \u001b[32m━━━━━━━━━━━━━━━━━━━━\u001b[0m\u001b[37m\u001b[0m \u001b[1m1s\u001b[0m 505us/step - loss: 0.0792 - mae: 0.1619 - val_loss: 0.0796 - val_mae: 0.1627\n",
      "Epoch 69/100\n",
      "\u001b[1m1741/1741\u001b[0m \u001b[32m━━━━━━━━━━━━━━━━━━━━\u001b[0m\u001b[37m\u001b[0m \u001b[1m1s\u001b[0m 505us/step - loss: 0.0805 - mae: 0.1649 - val_loss: 0.0785 - val_mae: 0.1574\n",
      "Epoch 70/100\n",
      "\u001b[1m1741/1741\u001b[0m \u001b[32m━━━━━━━━━━━━━━━━━━━━\u001b[0m\u001b[37m\u001b[0m \u001b[1m1s\u001b[0m 497us/step - loss: 0.0804 - mae: 0.1643 - val_loss: 0.0793 - val_mae: 0.1602\n",
      "Epoch 71/100\n",
      "\u001b[1m1741/1741\u001b[0m \u001b[32m━━━━━━━━━━━━━━━━━━━━\u001b[0m\u001b[37m\u001b[0m \u001b[1m1s\u001b[0m 524us/step - loss: 0.0812 - mae: 0.1650 - val_loss: 0.0785 - val_mae: 0.1647\n",
      "Epoch 72/100\n",
      "\u001b[1m1741/1741\u001b[0m \u001b[32m━━━━━━━━━━━━━━━━━━━━\u001b[0m\u001b[37m\u001b[0m \u001b[1m1s\u001b[0m 505us/step - loss: 0.0808 - mae: 0.1652 - val_loss: 0.0787 - val_mae: 0.1524\n",
      "Epoch 73/100\n",
      "\u001b[1m1741/1741\u001b[0m \u001b[32m━━━━━━━━━━━━━━━━━━━━\u001b[0m\u001b[37m\u001b[0m \u001b[1m1s\u001b[0m 510us/step - loss: 0.0799 - mae: 0.1621 - val_loss: 0.0790 - val_mae: 0.1647\n",
      "Epoch 74/100\n",
      "\u001b[1m1741/1741\u001b[0m \u001b[32m━━━━━━━━━━━━━━━━━━━━\u001b[0m\u001b[37m\u001b[0m \u001b[1m1s\u001b[0m 498us/step - loss: 0.0792 - mae: 0.1622 - val_loss: 0.0786 - val_mae: 0.1620\n",
      "Epoch 75/100\n",
      "\u001b[1m1741/1741\u001b[0m \u001b[32m━━━━━━━━━━━━━━━━━━━━\u001b[0m\u001b[37m\u001b[0m \u001b[1m1s\u001b[0m 520us/step - loss: 0.0803 - mae: 0.1644 - val_loss: 0.0794 - val_mae: 0.1548\n",
      "Epoch 76/100\n",
      "\u001b[1m1741/1741\u001b[0m \u001b[32m━━━━━━━━━━━━━━━━━━━━\u001b[0m\u001b[37m\u001b[0m \u001b[1m1s\u001b[0m 519us/step - loss: 0.0814 - mae: 0.1658 - val_loss: 0.0789 - val_mae: 0.1550\n",
      "Epoch 77/100\n",
      "\u001b[1m1741/1741\u001b[0m \u001b[32m━━━━━━━━━━━━━━━━━━━━\u001b[0m\u001b[37m\u001b[0m \u001b[1m1s\u001b[0m 517us/step - loss: 0.0802 - mae: 0.1638 - val_loss: 0.0788 - val_mae: 0.1629\n",
      "Epoch 78/100\n",
      "\u001b[1m1741/1741\u001b[0m \u001b[32m━━━━━━━━━━━━━━━━━━━━\u001b[0m\u001b[37m\u001b[0m \u001b[1m1s\u001b[0m 515us/step - loss: 0.0790 - mae: 0.1621 - val_loss: 0.0789 - val_mae: 0.1558\n",
      "Epoch 79/100\n",
      "\u001b[1m1741/1741\u001b[0m \u001b[32m━━━━━━━━━━━━━━━━━━━━\u001b[0m\u001b[37m\u001b[0m \u001b[1m1s\u001b[0m 515us/step - loss: 0.0806 - mae: 0.1644 - val_loss: 0.0794 - val_mae: 0.1660\n",
      "Epoch 80/100\n",
      "\u001b[1m1741/1741\u001b[0m \u001b[32m━━━━━━━━━━━━━━━━━━━━\u001b[0m\u001b[37m\u001b[0m \u001b[1m1s\u001b[0m 542us/step - loss: 0.0789 - mae: 0.1608 - val_loss: 0.0787 - val_mae: 0.1655\n",
      "Epoch 81/100\n",
      "\u001b[1m1741/1741\u001b[0m \u001b[32m━━━━━━━━━━━━━━━━━━━━\u001b[0m\u001b[37m\u001b[0m \u001b[1m1s\u001b[0m 522us/step - loss: 0.0804 - mae: 0.1648 - val_loss: 0.0786 - val_mae: 0.1596\n",
      "Epoch 82/100\n",
      "\u001b[1m1741/1741\u001b[0m \u001b[32m━━━━━━━━━━━━━━━━━━━━\u001b[0m\u001b[37m\u001b[0m \u001b[1m1s\u001b[0m 529us/step - loss: 0.0798 - mae: 0.1638 - val_loss: 0.0787 - val_mae: 0.1541\n",
      "Epoch 83/100\n",
      "\u001b[1m1741/1741\u001b[0m \u001b[32m━━━━━━━━━━━━━━━━━━━━\u001b[0m\u001b[37m\u001b[0m \u001b[1m1s\u001b[0m 535us/step - loss: 0.0800 - mae: 0.1631 - val_loss: 0.0790 - val_mae: 0.1531\n",
      "Epoch 84/100\n",
      "\u001b[1m1741/1741\u001b[0m \u001b[32m━━━━━━━━━━━━━━━━━━━━\u001b[0m\u001b[37m\u001b[0m \u001b[1m1s\u001b[0m 538us/step - loss: 0.0791 - mae: 0.1615 - val_loss: 0.0786 - val_mae: 0.1640\n",
      "Epoch 85/100\n",
      "\u001b[1m1741/1741\u001b[0m \u001b[32m━━━━━━━━━━━━━━━━━━━━\u001b[0m\u001b[37m\u001b[0m \u001b[1m1s\u001b[0m 572us/step - loss: 0.0783 - mae: 0.1600 - val_loss: 0.0787 - val_mae: 0.1551\n",
      "Epoch 86/100\n",
      "\u001b[1m1741/1741\u001b[0m \u001b[32m━━━━━━━━━━━━━━━━━━━━\u001b[0m\u001b[37m\u001b[0m \u001b[1m1s\u001b[0m 546us/step - loss: 0.0789 - mae: 0.1615 - val_loss: 0.0789 - val_mae: 0.1632\n",
      "Epoch 87/100\n",
      "\u001b[1m1741/1741\u001b[0m \u001b[32m━━━━━━━━━━━━━━━━━━━━\u001b[0m\u001b[37m\u001b[0m \u001b[1m1s\u001b[0m 531us/step - loss: 0.0806 - mae: 0.1649 - val_loss: 0.0785 - val_mae: 0.1594\n",
      "Epoch 88/100\n",
      "\u001b[1m1741/1741\u001b[0m \u001b[32m━━━━━━━━━━━━━━━━━━━━\u001b[0m\u001b[37m\u001b[0m \u001b[1m1s\u001b[0m 574us/step - loss: 0.0796 - mae: 0.1623 - val_loss: 0.0786 - val_mae: 0.1657\n",
      "Epoch 89/100\n",
      "\u001b[1m1741/1741\u001b[0m \u001b[32m━━━━━━━━━━━━━━━━━━━━\u001b[0m\u001b[37m\u001b[0m \u001b[1m1s\u001b[0m 533us/step - loss: 0.0790 - mae: 0.1619 - val_loss: 0.0787 - val_mae: 0.1694\n",
      "Epoch 90/100\n",
      "\u001b[1m1741/1741\u001b[0m \u001b[32m━━━━━━━━━━━━━━━━━━━━\u001b[0m\u001b[37m\u001b[0m \u001b[1m1s\u001b[0m 506us/step - loss: 0.0798 - mae: 0.1635 - val_loss: 0.0784 - val_mae: 0.1641\n",
      "Epoch 91/100\n",
      "\u001b[1m1741/1741\u001b[0m \u001b[32m━━━━━━━━━━━━━━━━━━━━\u001b[0m\u001b[37m\u001b[0m \u001b[1m1s\u001b[0m 518us/step - loss: 0.0800 - mae: 0.1638 - val_loss: 0.0787 - val_mae: 0.1531\n",
      "Epoch 92/100\n",
      "\u001b[1m1741/1741\u001b[0m \u001b[32m━━━━━━━━━━━━━━━━━━━━\u001b[0m\u001b[37m\u001b[0m \u001b[1m1s\u001b[0m 530us/step - loss: 0.0802 - mae: 0.1635 - val_loss: 0.0789 - val_mae: 0.1546\n",
      "Epoch 93/100\n",
      "\u001b[1m1741/1741\u001b[0m \u001b[32m━━━━━━━━━━━━━━━━━━━━\u001b[0m\u001b[37m\u001b[0m \u001b[1m1s\u001b[0m 535us/step - loss: 0.0790 - mae: 0.1618 - val_loss: 0.0786 - val_mae: 0.1538\n",
      "Epoch 94/100\n",
      "\u001b[1m1741/1741\u001b[0m \u001b[32m━━━━━━━━━━━━━━━━━━━━\u001b[0m\u001b[37m\u001b[0m \u001b[1m1s\u001b[0m 535us/step - loss: 0.0796 - mae: 0.1627 - val_loss: 0.0785 - val_mae: 0.1580\n",
      "Epoch 95/100\n",
      "\u001b[1m1741/1741\u001b[0m \u001b[32m━━━━━━━━━━━━━━━━━━━━\u001b[0m\u001b[37m\u001b[0m \u001b[1m1s\u001b[0m 557us/step - loss: 0.0807 - mae: 0.1647 - val_loss: 0.0793 - val_mae: 0.1575\n",
      "Epoch 96/100\n",
      "\u001b[1m1741/1741\u001b[0m \u001b[32m━━━━━━━━━━━━━━━━━━━━\u001b[0m\u001b[37m\u001b[0m \u001b[1m1s\u001b[0m 516us/step - loss: 0.0788 - mae: 0.1610 - val_loss: 0.0788 - val_mae: 0.1654\n",
      "Epoch 97/100\n",
      "\u001b[1m1741/1741\u001b[0m \u001b[32m━━━━━━━━━━━━━━━━━━━━\u001b[0m\u001b[37m\u001b[0m \u001b[1m1s\u001b[0m 577us/step - loss: 0.0805 - mae: 0.1647 - val_loss: 0.0785 - val_mae: 0.1542\n",
      "Epoch 98/100\n",
      "\u001b[1m1741/1741\u001b[0m \u001b[32m━━━━━━━━━━━━━━━━━━━━\u001b[0m\u001b[37m\u001b[0m \u001b[1m1s\u001b[0m 571us/step - loss: 0.0797 - mae: 0.1630 - val_loss: 0.0787 - val_mae: 0.1593\n",
      "Epoch 99/100\n",
      "\u001b[1m1741/1741\u001b[0m \u001b[32m━━━━━━━━━━━━━━━━━━━━\u001b[0m\u001b[37m\u001b[0m \u001b[1m1s\u001b[0m 551us/step - loss: 0.0800 - mae: 0.1634 - val_loss: 0.0793 - val_mae: 0.1593\n",
      "Epoch 100/100\n",
      "\u001b[1m1741/1741\u001b[0m \u001b[32m━━━━━━━━━━━━━━━━━━━━\u001b[0m\u001b[37m\u001b[0m \u001b[1m1s\u001b[0m 551us/step - loss: 0.0794 - mae: 0.1627 - val_loss: 0.0786 - val_mae: 0.1623\n",
      "\u001b[1m544/544\u001b[0m \u001b[32m━━━━━━━━━━━━━━━━━━━━\u001b[0m\u001b[37m\u001b[0m \u001b[1m0s\u001b[0m 275us/step\n",
      "MSE: 0.08, RMSE: 0.28\n"
     ]
    }
   ],
   "source": [
    "import tensorflow as tf\n",
    "from tensorflow.keras.models import Sequential\n",
    "from tensorflow.keras.layers import Dense, Dropout\n",
    "from sklearn.metrics import mean_squared_error\n",
    "import numpy as np\n",
    "\n",
    "# Crear el modelo\n",
    "def build_model():\n",
    "    model = Sequential()\n",
    "    # Capa de entrada + primera capa oculta\n",
    "    model.add(Dense(64, activation='relu', input_dim=X_train.shape[1]))\n",
    "    model.add(Dropout(0.2))  # Dropout del 20%\n",
    "    \n",
    "    # Segunda capa oculta\n",
    "    model.add(Dense(64, activation='relu'))\n",
    "    model.add(Dropout(0.2))\n",
    "    \n",
    "    # Tercera capa oculta\n",
    "    model.add(Dense(64, activation='relu'))\n",
    "    model.add(Dropout(0.2))\n",
    "    \n",
    "    # Capa de salida (regresión)\n",
    "    model.add(Dense(1, activation='linear'))  # Salida con activación lineal para regresión\n",
    "    \n",
    "    # Compilar el modelo\n",
    "    model.compile(optimizer='adam', loss='mse', metrics=['mae'])\n",
    "    return model\n",
    "\n",
    "# Crear el modelo\n",
    "model = build_model()\n",
    "\n",
    "# Entrenar el modelo\n",
    "history = model.fit(\n",
    "    X_train, y_train, \n",
    "    epochs=100,  # Ajusta según sea necesario\n",
    "    batch_size=32,  # Ajusta según sea necesario\n",
    "    validation_split=0.2,  # Usar el 20% del entrenamiento como validación\n",
    "    verbose=1\n",
    ")\n",
    "\n",
    "# Evaluar el modelo\n",
    "y_pred = model.predict(X_test)\n",
    "mse = mean_squared_error(y_test, y_pred)\n",
    "rmse = np.sqrt(mse)\n",
    "\n",
    "print(f\"MSE: {mse:.2f}, RMSE: {rmse:.2f}\")"
   ]
  },
  {
   "cell_type": "code",
   "execution_count": null,
   "metadata": {},
   "outputs": [],
   "source": []
  }
 ],
 "metadata": {
  "kernelspec": {
   "display_name": "Python 3",
   "language": "python",
   "name": "python3"
  },
  "language_info": {
   "codemirror_mode": {
    "name": "ipython",
    "version": 3
   },
   "file_extension": ".py",
   "mimetype": "text/x-python",
   "name": "python",
   "nbconvert_exporter": "python",
   "pygments_lexer": "ipython3",
   "version": "3.9.20"
  }
 },
 "nbformat": 4,
 "nbformat_minor": 2
}
